{
 "cells": [
  {
   "cell_type": "markdown",
   "metadata": {
    "id": "tdx6IZHGXsmh"
   },
   "source": [
    "# 2 - QAOA\n",
    "\n"
   ]
  },
  {
   "cell_type": "code",
   "execution_count": 1,
   "metadata": {
    "id": "POaIcCD6bGh8"
   },
   "outputs": [
    {
     "name": "stdout",
     "output_type": "stream",
     "text": [
      "Requirement already satisfied: qiskit==0.39.2 in /home/vruiz/envs/quantum/lib/python3.10/site-packages (0.39.2)\n",
      "Requirement already satisfied: qiskit-aer==0.11.1 in /home/vruiz/envs/quantum/lib/python3.10/site-packages (from qiskit==0.39.2) (0.11.1)\n",
      "Requirement already satisfied: qiskit-ibmq-provider==0.19.2 in /home/vruiz/envs/quantum/lib/python3.10/site-packages (from qiskit==0.39.2) (0.19.2)\n",
      "Requirement already satisfied: qiskit-terra==0.22.2 in /home/vruiz/envs/quantum/lib/python3.10/site-packages (from qiskit==0.39.2) (0.22.2)\n",
      "Requirement already satisfied: scipy>=1.0 in /home/vruiz/envs/quantum/lib/python3.10/site-packages (from qiskit-aer==0.11.1->qiskit==0.39.2) (1.13.0)\n",
      "Requirement already satisfied: numpy>=1.16.3 in /home/vruiz/envs/quantum/lib/python3.10/site-packages (from qiskit-aer==0.11.1->qiskit==0.39.2) (1.26.4)\n",
      "Requirement already satisfied: requests-ntlm>=1.1.0 in /home/vruiz/envs/quantum/lib/python3.10/site-packages (from qiskit-ibmq-provider==0.19.2->qiskit==0.39.2) (1.2.0)\n",
      "Requirement already satisfied: python-dateutil>=2.8.0 in /home/vruiz/envs/quantum/lib/python3.10/site-packages (from qiskit-ibmq-provider==0.19.2->qiskit==0.39.2) (2.9.0.post0)\n",
      "Requirement already satisfied: websockets>=10.0 in /home/vruiz/envs/quantum/lib/python3.10/site-packages (from qiskit-ibmq-provider==0.19.2->qiskit==0.39.2) (12.0)\n",
      "Requirement already satisfied: websocket-client>=1.0.1 in /home/vruiz/envs/quantum/lib/python3.10/site-packages (from qiskit-ibmq-provider==0.19.2->qiskit==0.39.2) (1.8.0)\n",
      "Requirement already satisfied: requests>=2.19 in /home/vruiz/envs/quantum/lib/python3.10/site-packages (from qiskit-ibmq-provider==0.19.2->qiskit==0.39.2) (2.31.0)\n",
      "Requirement already satisfied: urllib3>=1.21.1 in /home/vruiz/envs/quantum/lib/python3.10/site-packages (from qiskit-ibmq-provider==0.19.2->qiskit==0.39.2) (2.2.1)\n",
      "Requirement already satisfied: retworkx>=0.11.0 in /home/vruiz/envs/quantum/lib/python3.10/site-packages (from qiskit-terra==0.22.2->qiskit==0.39.2) (0.14.2)\n",
      "Requirement already satisfied: sympy>=1.3 in /home/vruiz/envs/quantum/lib/python3.10/site-packages (from qiskit-terra==0.22.2->qiskit==0.39.2) (1.12)\n",
      "Requirement already satisfied: dill>=0.3 in /home/vruiz/envs/quantum/lib/python3.10/site-packages (from qiskit-terra==0.22.2->qiskit==0.39.2) (0.3.8)\n",
      "Requirement already satisfied: symengine>=0.9 in /home/vruiz/envs/quantum/lib/python3.10/site-packages (from qiskit-terra==0.22.2->qiskit==0.39.2) (0.11.0)\n",
      "Requirement already satisfied: tweedledum<2.0,>=1.1 in /home/vruiz/envs/quantum/lib/python3.10/site-packages (from qiskit-terra==0.22.2->qiskit==0.39.2) (1.1.1)\n",
      "Requirement already satisfied: stevedore>=3.0.0 in /home/vruiz/envs/quantum/lib/python3.10/site-packages (from qiskit-terra==0.22.2->qiskit==0.39.2) (5.2.0)\n",
      "Requirement already satisfied: ply>=3.10 in /home/vruiz/envs/quantum/lib/python3.10/site-packages (from qiskit-terra==0.22.2->qiskit==0.39.2) (3.11)\n",
      "Requirement already satisfied: psutil>=5 in /home/vruiz/envs/quantum/lib/python3.10/site-packages (from qiskit-terra==0.22.2->qiskit==0.39.2) (5.9.8)\n",
      "Requirement already satisfied: six>=1.5 in /home/vruiz/envs/quantum/lib/python3.10/site-packages (from python-dateutil>=2.8.0->qiskit-ibmq-provider==0.19.2->qiskit==0.39.2) (1.16.0)\n",
      "Requirement already satisfied: charset-normalizer<4,>=2 in /home/vruiz/envs/quantum/lib/python3.10/site-packages (from requests>=2.19->qiskit-ibmq-provider==0.19.2->qiskit==0.39.2) (3.3.2)\n",
      "Requirement already satisfied: idna<4,>=2.5 in /home/vruiz/envs/quantum/lib/python3.10/site-packages (from requests>=2.19->qiskit-ibmq-provider==0.19.2->qiskit==0.39.2) (3.7)\n",
      "Requirement already satisfied: certifi>=2017.4.17 in /home/vruiz/envs/quantum/lib/python3.10/site-packages (from requests>=2.19->qiskit-ibmq-provider==0.19.2->qiskit==0.39.2) (2024.2.2)\n",
      "Requirement already satisfied: cryptography>=1.3 in /home/vruiz/envs/quantum/lib/python3.10/site-packages (from requests-ntlm>=1.1.0->qiskit-ibmq-provider==0.19.2->qiskit==0.39.2) (42.0.7)\n",
      "Requirement already satisfied: pyspnego>=0.1.6 in /home/vruiz/envs/quantum/lib/python3.10/site-packages (from requests-ntlm>=1.1.0->qiskit-ibmq-provider==0.19.2->qiskit==0.39.2) (0.10.2)\n",
      "Requirement already satisfied: rustworkx==0.14.2 in /home/vruiz/envs/quantum/lib/python3.10/site-packages (from retworkx>=0.11.0->qiskit-terra==0.22.2->qiskit==0.39.2) (0.14.2)\n",
      "Requirement already satisfied: pbr!=2.1.0,>=2.0.0 in /home/vruiz/envs/quantum/lib/python3.10/site-packages (from stevedore>=3.0.0->qiskit-terra==0.22.2->qiskit==0.39.2) (6.0.0)\n",
      "Requirement already satisfied: mpmath>=0.19 in /home/vruiz/envs/quantum/lib/python3.10/site-packages (from sympy>=1.3->qiskit-terra==0.22.2->qiskit==0.39.2) (1.3.0)\n",
      "Requirement already satisfied: cffi>=1.12 in /home/vruiz/envs/quantum/lib/python3.10/site-packages (from cryptography>=1.3->requests-ntlm>=1.1.0->qiskit-ibmq-provider==0.19.2->qiskit==0.39.2) (1.16.0)\n",
      "Requirement already satisfied: pycparser in /home/vruiz/envs/quantum/lib/python3.10/site-packages (from cffi>=1.12->cryptography>=1.3->requests-ntlm>=1.1.0->qiskit-ibmq-provider==0.19.2->qiskit==0.39.2) (2.22)\n",
      "Note: you may need to restart the kernel to use updated packages.\n"
     ]
    }
   ],
   "source": [
    "pip install qiskit==0.39.2"
   ]
  },
  {
   "cell_type": "code",
   "execution_count": 2,
   "metadata": {
    "id": "9iMfBhHFbgRF"
   },
   "outputs": [
    {
     "name": "stdout",
     "output_type": "stream",
     "text": [
      "Requirement already satisfied: pylatexenc==2.10 in /home/vruiz/envs/quantum/lib/python3.10/site-packages (2.10)\n",
      "Note: you may need to restart the kernel to use updated packages.\n"
     ]
    }
   ],
   "source": [
    "pip install pylatexenc==2.10"
   ]
  },
  {
   "cell_type": "code",
   "execution_count": 3,
   "metadata": {
    "id": "lkfNNKdJcajo"
   },
   "outputs": [
    {
     "name": "stdout",
     "output_type": "stream",
     "text": [
      "Requirement already satisfied: qiskit-optimization==0.4.0 in /home/vruiz/envs/quantum/lib/python3.10/site-packages (0.4.0)\n",
      "Requirement already satisfied: setuptools>=40.1.0 in /home/vruiz/envs/quantum/lib/python3.10/site-packages (from qiskit-optimization==0.4.0) (59.6.0)\n",
      "Requirement already satisfied: numpy>=1.17 in /home/vruiz/envs/quantum/lib/python3.10/site-packages (from qiskit-optimization==0.4.0) (1.26.4)\n",
      "Requirement already satisfied: qiskit-terra>=0.20.0 in /home/vruiz/envs/quantum/lib/python3.10/site-packages (from qiskit-optimization==0.4.0) (0.22.2)\n",
      "Requirement already satisfied: scipy>=1.4 in /home/vruiz/envs/quantum/lib/python3.10/site-packages (from qiskit-optimization==0.4.0) (1.13.0)\n",
      "Requirement already satisfied: networkx>=2.2 in /home/vruiz/envs/quantum/lib/python3.10/site-packages (from qiskit-optimization==0.4.0) (3.3)\n",
      "Requirement already satisfied: docplex>=2.21.207 in /home/vruiz/envs/quantum/lib/python3.10/site-packages (from qiskit-optimization==0.4.0) (2.27.239)\n",
      "Requirement already satisfied: six in /home/vruiz/envs/quantum/lib/python3.10/site-packages (from docplex>=2.21.207->qiskit-optimization==0.4.0) (1.16.0)\n",
      "Requirement already satisfied: symengine>=0.9 in /home/vruiz/envs/quantum/lib/python3.10/site-packages (from qiskit-terra>=0.20.0->qiskit-optimization==0.4.0) (0.11.0)\n",
      "Requirement already satisfied: tweedledum<2.0,>=1.1 in /home/vruiz/envs/quantum/lib/python3.10/site-packages (from qiskit-terra>=0.20.0->qiskit-optimization==0.4.0) (1.1.1)\n",
      "Requirement already satisfied: retworkx>=0.11.0 in /home/vruiz/envs/quantum/lib/python3.10/site-packages (from qiskit-terra>=0.20.0->qiskit-optimization==0.4.0) (0.14.2)\n",
      "Requirement already satisfied: psutil>=5 in /home/vruiz/envs/quantum/lib/python3.10/site-packages (from qiskit-terra>=0.20.0->qiskit-optimization==0.4.0) (5.9.8)\n",
      "Requirement already satisfied: sympy>=1.3 in /home/vruiz/envs/quantum/lib/python3.10/site-packages (from qiskit-terra>=0.20.0->qiskit-optimization==0.4.0) (1.12)\n",
      "Requirement already satisfied: python-dateutil>=2.8.0 in /home/vruiz/envs/quantum/lib/python3.10/site-packages (from qiskit-terra>=0.20.0->qiskit-optimization==0.4.0) (2.9.0.post0)\n",
      "Requirement already satisfied: stevedore>=3.0.0 in /home/vruiz/envs/quantum/lib/python3.10/site-packages (from qiskit-terra>=0.20.0->qiskit-optimization==0.4.0) (5.2.0)\n",
      "Requirement already satisfied: dill>=0.3 in /home/vruiz/envs/quantum/lib/python3.10/site-packages (from qiskit-terra>=0.20.0->qiskit-optimization==0.4.0) (0.3.8)\n",
      "Requirement already satisfied: ply>=3.10 in /home/vruiz/envs/quantum/lib/python3.10/site-packages (from qiskit-terra>=0.20.0->qiskit-optimization==0.4.0) (3.11)\n",
      "Requirement already satisfied: rustworkx==0.14.2 in /home/vruiz/envs/quantum/lib/python3.10/site-packages (from retworkx>=0.11.0->qiskit-terra>=0.20.0->qiskit-optimization==0.4.0) (0.14.2)\n",
      "Requirement already satisfied: pbr!=2.1.0,>=2.0.0 in /home/vruiz/envs/quantum/lib/python3.10/site-packages (from stevedore>=3.0.0->qiskit-terra>=0.20.0->qiskit-optimization==0.4.0) (6.0.0)\n",
      "Requirement already satisfied: mpmath>=0.19 in /home/vruiz/envs/quantum/lib/python3.10/site-packages (from sympy>=1.3->qiskit-terra>=0.20.0->qiskit-optimization==0.4.0) (1.3.0)\n",
      "Note: you may need to restart the kernel to use updated packages.\n"
     ]
    }
   ],
   "source": [
    "pip install qiskit-optimization==0.4.0"
   ]
  },
  {
   "cell_type": "code",
   "execution_count": 4,
   "metadata": {},
   "outputs": [
    {
     "name": "stdout",
     "output_type": "stream",
     "text": [
      "Requirement already satisfied: matplotlib in /home/vruiz/envs/quantum/lib/python3.10/site-packages (3.9.0)\n",
      "Requirement already satisfied: pillow>=8 in /home/vruiz/envs/quantum/lib/python3.10/site-packages (from matplotlib) (10.3.0)\n",
      "Requirement already satisfied: kiwisolver>=1.3.1 in /home/vruiz/envs/quantum/lib/python3.10/site-packages (from matplotlib) (1.4.5)\n",
      "Requirement already satisfied: python-dateutil>=2.7 in /home/vruiz/envs/quantum/lib/python3.10/site-packages (from matplotlib) (2.9.0.post0)\n",
      "Requirement already satisfied: pyparsing>=2.3.1 in /home/vruiz/envs/quantum/lib/python3.10/site-packages (from matplotlib) (3.1.2)\n",
      "Requirement already satisfied: cycler>=0.10 in /home/vruiz/envs/quantum/lib/python3.10/site-packages (from matplotlib) (0.12.1)\n",
      "Requirement already satisfied: packaging>=20.0 in /home/vruiz/envs/quantum/lib/python3.10/site-packages (from matplotlib) (24.0)\n",
      "Requirement already satisfied: fonttools>=4.22.0 in /home/vruiz/envs/quantum/lib/python3.10/site-packages (from matplotlib) (4.51.0)\n",
      "Requirement already satisfied: numpy>=1.23 in /home/vruiz/envs/quantum/lib/python3.10/site-packages (from matplotlib) (1.26.4)\n",
      "Requirement already satisfied: contourpy>=1.0.1 in /home/vruiz/envs/quantum/lib/python3.10/site-packages (from matplotlib) (1.2.1)\n",
      "Requirement already satisfied: six>=1.5 in /home/vruiz/envs/quantum/lib/python3.10/site-packages (from python-dateutil>=2.7->matplotlib) (1.16.0)\n",
      "Note: you may need to restart the kernel to use updated packages.\n"
     ]
    }
   ],
   "source": [
    "pip install matplotlib"
   ]
  },
  {
   "cell_type": "code",
   "execution_count": 5,
   "metadata": {
    "id": "tVVsWzeEbMv4"
   },
   "outputs": [
    {
     "name": "stderr",
     "output_type": "stream",
     "text": [
      "Matplotlib is building the font cache; this may take a moment.\n"
     ]
    },
    {
     "data": {
      "image/png": "[encoded data removed]",
      "text/plain": [
       "<Figure size 621.739x200.667 with 1 Axes>"
      ]
     },
     "execution_count": 5,
     "metadata": {},
     "output_type": "execute_result"
    }
   ],
   "source": [
    "from qiskit.opflow import Z\n",
    "from qiskit.algorithms import QAOA\n",
    "\n",
    "H1 = Z^Z # Define Z_0Z_1\n",
    "qaoa = QAOA()\n",
    "circuit = qaoa.construct_circuit([1,2],H1)[0]\n",
    "circuit.draw(output=\"mpl\")"
   ]
  },
  {
   "cell_type": "code",
   "execution_count": 6,
   "metadata": {
    "id": "3Xe_aPBwbfbP"
   },
   "outputs": [
    {
     "data": {
      "image/png": "[encoded data removed]",
      "text/plain": [
       "<Figure size 538.128x200.667 with 1 Axes>"
      ]
     },
     "execution_count": 6,
     "metadata": {},
     "output_type": "execute_result"
    }
   ],
   "source": [
    "circuit.decompose().decompose().draw(output=\"mpl\")\n"
   ]
  },
  {
   "cell_type": "code",
   "execution_count": 7,
   "metadata": {
    "id": "He-FMPh_brYm"
   },
   "outputs": [
    {
     "data": {
      "image/png": "[encoded data removed]",
      "text/plain": [
       "<Figure size 872.572x200.667 with 1 Axes>"
      ]
     },
     "execution_count": 7,
     "metadata": {},
     "output_type": "execute_result"
    }
   ],
   "source": [
    "qaoa = QAOA(reps = 2)\n",
    "circuit = qaoa.construct_circuit([1,2,3,4],H1)[0]\n",
    "circuit.decompose().decompose().draw(output=\"mpl\")"
   ]
  },
  {
   "cell_type": "code",
   "execution_count": 8,
   "metadata": {
    "id": "isdq5OfJbwZ0"
   },
   "outputs": [
    {
     "name": "stdout",
     "output_type": "stream",
     "text": [
      "{   'aux_operator_eigenvalues': None,\n",
      "    'cost_function_evals': 20,\n",
      "    'eigenstate': {'01': 0.5477225575051661, '10': 0.8366600265340756},\n",
      "    'eigenvalue': (-1+0j),\n",
      "    'optimal_circuit': None,\n",
      "    'optimal_parameters': {   ParameterVectorElement(β[0]): 6.7647519845416655,\n",
      "                              ParameterVectorElement(γ[0]): -0.847240391875931},\n",
      "    'optimal_point': array([ 6.76475198, -0.84724039]),\n",
      "    'optimal_value': -1.0,\n",
      "    'optimizer_evals': None,\n",
      "    'optimizer_result': None,\n",
      "    'optimizer_time': 0.08864736557006836}\n"
     ]
    }
   ],
   "source": [
    "from qiskit.utils import algorithm_globals, QuantumInstance\n",
    "from qiskit import Aer\n",
    "from qiskit.algorithms.optimizers import COBYLA\n",
    "\n",
    "seed = 1234\n",
    "algorithm_globals.random_seed = seed\n",
    "quantum_instance = QuantumInstance(Aer.get_backend(\"aer_simulator\"),\n",
    "                   seed_simulator=seed, seed_transpiler=seed,\n",
    "                   shots = 10)\n",
    "qaoa = QAOA(optimizer = COBYLA(), quantum_instance=quantum_instance)\n",
    "result = qaoa.compute_minimum_eigenvalue(H1)\n",
    "print(result)"
   ]
  },
  {
   "cell_type": "code",
   "execution_count": 9,
   "metadata": {
    "id": "73rn2TllcUe0"
   },
   "outputs": [
    {
     "name": "stdout",
     "output_type": "stream",
     "text": [
      "\\ This file has been generated by DOcplex\n",
      "\\ ENCODING=ISO-8859-1\n",
      "\\Problem name: CPLEX\n",
      "\n",
      "Minimize\n",
      " obj: - y + [ 4 x*y - 8 y*z ]/2\n",
      "Subject To\n",
      " c0: x + 2 y + 3 z <= 5\n",
      "\n",
      "Bounds\n",
      " 0 <= x <= 1\n",
      " 0 <= y <= 1\n",
      " 0 <= z <= 1\n",
      "\n",
      "Binaries\n",
      " x y z\n",
      "End\n",
      "\n"
     ]
    }
   ],
   "source": [
    "from qiskit_optimization.problems import QuadraticProgram\n",
    "\n",
    "qp = QuadraticProgram()\n",
    "qp.binary_var('x')\n",
    "qp.binary_var('y')\n",
    "qp.binary_var('z')\n",
    "\n",
    "qp.minimize(linear = {'y':-1}, quadratic = {('x','y'):2, ('z','y'):-4})\n",
    "qp.linear_constraint(linear = {'x':1, 'y':2, 'z':3},\n",
    "    sense =\"<=\", rhs = 5)\n",
    "\n",
    "print(qp.export_as_lp_string())"
   ]
  },
  {
   "cell_type": "code",
   "execution_count": 10,
   "metadata": {
    "id": "MVavhhxBcZXL"
   },
   "outputs": [
    {
     "name": "stdout",
     "output_type": "stream",
     "text": [
      "fval=-5.0, x=0.0, y=1.0, z=1.0, status=SUCCESS\n"
     ]
    }
   ],
   "source": [
    "from qiskit_optimization.algorithms import MinimumEigenOptimizer\n",
    "from qiskit.algorithms import NumPyMinimumEigensolver\n",
    "np_solver = NumPyMinimumEigensolver()\n",
    "np_optimizer = MinimumEigenOptimizer(np_solver)\n",
    "result = np_optimizer.solve(qp)\n",
    "print(result)"
   ]
  },
  {
   "cell_type": "code",
   "execution_count": 11,
   "metadata": {
    "id": "eyeShX1ncwpF"
   },
   "outputs": [
    {
     "name": "stdout",
     "output_type": "stream",
     "text": [
      "fval=-5.0, x=0.0, y=1.0, z=1.0, status=SUCCESS\n"
     ]
    }
   ],
   "source": [
    "from qiskit import Aer\n",
    "from qiskit.algorithms import QAOA\n",
    "from qiskit.algorithms.optimizers import COBYLA\n",
    "from qiskit.utils import QuantumInstance\n",
    "quantum_instance = QuantumInstance(Aer.get_backend(\"aer_simulator\"),\n",
    "    shots = 1024)\n",
    "qaoa = QAOA(optimizer = COBYLA(),\n",
    "    quantum_instance=quantum_instance, reps = 1)\n",
    "qaoa_optimizer = MinimumEigenOptimizer(qaoa)\n",
    "result = qaoa_optimizer.solve(qp)\n",
    "print(result)"
   ]
  },
  {
   "cell_type": "code",
   "execution_count": 12,
   "metadata": {
    "id": "k1PrK8Q7c5p5"
   },
   "outputs": [
    {
     "name": "stdout",
     "output_type": "stream",
     "text": [
      "Variable order: ['x', 'y', 'z']\n",
      "SolutionSample(x=array([0., 1., 1.]), fval=-5.0, probability=0.1669921875, status=<OptimizationResultStatus.SUCCESS: 0>)\n",
      "SolutionSample(x=array([0., 1., 0.]), fval=-1.0, probability=0.107421875, status=<OptimizationResultStatus.SUCCESS: 0>)\n",
      "SolutionSample(x=array([1., 0., 1.]), fval=0.0, probability=0.0546875, status=<OptimizationResultStatus.SUCCESS: 0>)\n",
      "SolutionSample(x=array([0., 0., 1.]), fval=0.0, probability=0.087890625, status=<OptimizationResultStatus.SUCCESS: 0>)\n",
      "SolutionSample(x=array([1., 0., 0.]), fval=0.0, probability=0.12890625, status=<OptimizationResultStatus.SUCCESS: 0>)\n",
      "SolutionSample(x=array([0., 0., 0.]), fval=0.0, probability=0.185546875, status=<OptimizationResultStatus.SUCCESS: 0>)\n",
      "SolutionSample(x=array([1., 1., 0.]), fval=1.0, probability=0.08984375, status=<OptimizationResultStatus.SUCCESS: 0>)\n",
      "SolutionSample(x=array([1., 1., 1.]), fval=-3.0, probability=0.1787109375, status=<OptimizationResultStatus.INFEASIBLE: 2>)\n"
     ]
    }
   ],
   "source": [
    "print('Variable order:', [var.name for var in result.variables])\n",
    "for s in result.samples:\n",
    "    print(s)"
   ]
  },
  {
   "cell_type": "code",
   "execution_count": 13,
   "metadata": {
    "id": "YP21bxWJc9YT"
   },
   "outputs": [
    {
     "name": "stdout",
     "output_type": "stream",
     "text": [
      "{   'aux_operator_eigenvalues': None,\n",
      "    'cost_function_evals': 27,\n",
      "    'eigenstate': {   '000000': 0.184877493221863,\n",
      "                      '000011': 0.125,\n",
      "                      '000100': 0.06987712429686843,\n",
      "                      '000110': 0.3336586953759785,\n",
      "                      '000111': 0.10364452469860624,\n",
      "                      '001000': 0.03125,\n",
      "                      '001001': 0.08838834764831845,\n",
      "                      '001010': 0.08838834764831845,\n",
      "                      '001100': 0.11267347735824966,\n",
      "                      '001101': 0.10825317547305482,\n",
      "                      '001110': 0.08838834764831845,\n",
      "                      '001111': 0.38273277230987157,\n",
      "                      '010000': 0.09882117688026186,\n",
      "                      '010010': 0.19764235376052372,\n",
      "                      '010100': 0.0625,\n",
      "                      '010101': 0.06987712429686843,\n",
      "                      '010110': 0.10364452469860624,\n",
      "                      '010111': 0.09375,\n",
      "                      '011000': 0.04419417382415922,\n",
      "                      '011001': 0.1795175827043134,\n",
      "                      '011010': 0.03125,\n",
      "                      '011011': 0.11267347735824966,\n",
      "                      '011100': 0.08838834764831845,\n",
      "                      '011101': 0.08267972847076846,\n",
      "                      '011110': 0.06987712429686843,\n",
      "                      '100000': 0.10364452469860624,\n",
      "                      '100010': 0.2049199538844375,\n",
      "                      '100100': 0.08267972847076846,\n",
      "                      '100101': 0.0625,\n",
      "                      '100110': 0.1288470508005519,\n",
      "                      '100111': 0.0625,\n",
      "                      '101001': 0.13258252147247765,\n",
      "                      '101010': 0.03125,\n",
      "                      '101011': 0.11692679333668567,\n",
      "                      '101100': 0.08267972847076846,\n",
      "                      '101101': 0.07654655446197431,\n",
      "                      '101110': 0.07654655446197431,\n",
      "                      '101111': 0.03125,\n",
      "                      '110000': 0.2724311839712921,\n",
      "                      '110001': 0.2049199538844375,\n",
      "                      '110010': 0.09375,\n",
      "                      '110011': 0.08267972847076846,\n",
      "                      '110100': 0.19008632907181935,\n",
      "                      '110101': 0.07654655446197431,\n",
      "                      '110110': 0.07654655446197431,\n",
      "                      '110111': 0.08267972847076846,\n",
      "                      '111000': 0.23175620272173947,\n",
      "                      '111001': 0.1711632992203644,\n",
      "                      '111010': 0.08838834764831845,\n",
      "                      '111011': 0.20252314682524564,\n",
      "                      '111100': 0.09375,\n",
      "                      '111101': 0.125,\n",
      "                      '111110': 0.0625,\n",
      "                      '111111': 0.03125},\n",
      "    'eigenvalue': (-15.711914062499996+0j),\n",
      "    'optimal_circuit': None,\n",
      "    'optimal_parameters': {   ParameterVectorElement(β[0]): 5.374835474870771,\n",
      "                              ParameterVectorElement(γ[0]): -2.978075283219873},\n",
      "    'optimal_point': array([ 5.37483547, -2.97807528]),\n",
      "    'optimal_value': -15.711914062499996,\n",
      "    'optimizer_evals': None,\n",
      "    'optimizer_result': None,\n",
      "    'optimizer_time': 0.9943106174468994}\n"
     ]
    }
   ],
   "source": [
    "print(result.min_eigen_solver_result)"
   ]
  },
  {
   "cell_type": "code",
   "execution_count": 14,
   "metadata": {
    "id": "o6KSJuVidA7z"
   },
   "outputs": [
    {
     "name": "stdout",
     "output_type": "stream",
     "text": [
      "\\ This file has been generated by DOcplex\n",
      "\\ ENCODING=ISO-8859-1\n",
      "\\Problem name: CPLEX\n",
      "\n",
      "Minimize\n",
      " obj: - 80 x - 161 y - 240 z - 80 c0@int_slack@0 - 160 c0@int_slack@1\n",
      "      - 160 c0@int_slack@2 + [ 16 x^2 + 68 x*y + 96 x*z + 32 x*c0@int_slack@0\n",
      "      + 64 x*c0@int_slack@1 + 64 x*c0@int_slack@2 + 64 y^2 + 184 y*z\n",
      "      + 64 y*c0@int_slack@0 + 128 y*c0@int_slack@1 + 128 y*c0@int_slack@2\n",
      "      + 144 z^2 + 96 z*c0@int_slack@0 + 192 z*c0@int_slack@1\n",
      "      + 192 z*c0@int_slack@2 + 16 c0@int_slack@0^2\n",
      "      + 64 c0@int_slack@0*c0@int_slack@1 + 64 c0@int_slack@0*c0@int_slack@2\n",
      "      + 64 c0@int_slack@1^2 + 128 c0@int_slack@1*c0@int_slack@2\n",
      "      + 64 c0@int_slack@2^2 ]/2 + 200\n",
      "Subject To\n",
      "\n",
      "Bounds\n",
      " 0 <= x <= 1\n",
      " 0 <= y <= 1\n",
      " 0 <= z <= 1\n",
      " 0 <= c0@int_slack@0 <= 1\n",
      " 0 <= c0@int_slack@1 <= 1\n",
      " 0 <= c0@int_slack@2 <= 1\n",
      "\n",
      "Binaries\n",
      " x y z c0@int_slack@0 c0@int_slack@1 c0@int_slack@2\n",
      "End\n",
      "\n"
     ]
    }
   ],
   "source": [
    "from qiskit_optimization.converters import QuadraticProgramToQubo\n",
    "qp_to_qubo = QuadraticProgramToQubo()\n",
    "qubo = qp_to_qubo.convert(qp)\n",
    "print(qubo.export_as_lp_string())"
   ]
  },
  {
   "cell_type": "code",
   "execution_count": 15,
   "metadata": {
    "id": "nemSmmIpdDts"
   },
   "outputs": [
    {
     "name": "stdout",
     "output_type": "stream",
     "text": [
      "The Hamiltonian is -7.0 * IIIIZI\n",
      "- 4.5 * IIIIIZ\n",
      "- 11.0 * IIIZII\n",
      "- 4.0 * IIZIII\n",
      "- 8.0 * IZIIII\n",
      "- 8.0 * ZIIIII\n",
      "+ 8.5 * IIIIZZ\n",
      "+ 12.0 * IIIZIZ\n",
      "+ 4.0 * IIZIIZ\n",
      "+ 8.0 * IZIIIZ\n",
      "+ 8.0 * ZIIIIZ\n",
      "+ 23.0 * IIIZZI\n",
      "+ 8.0 * IIZIZI\n",
      "+ 16.0 * IZIIZI\n",
      "+ 16.0 * ZIIIZI\n",
      "+ 12.0 * IIZZII\n",
      "+ 24.0 * IZIZII\n",
      "+ 24.0 * ZIIZII\n",
      "+ 8.0 * IZZIII\n",
      "+ 8.0 * ZIZIII\n",
      "+ 16.0 * ZZIIII\n",
      "The constant term is 47.0\n"
     ]
    }
   ],
   "source": [
    "H1, offset = qubo.to_ising()\n",
    "print(\"The Hamiltonian is\", H1)\n",
    "print(\"The constant term is\", offset)"
   ]
  }
 ],
 "metadata": {
  "colab": {
   "provenance": []
  },
  "kernelspec": {
   "display_name": "Python 3 (ipykernel)",
   "language": "python",
   "name": "python3"
  },
  "language_info": {
   "codemirror_mode": {
    "name": "ipython",
    "version": 3
   },
   "file_extension": ".py",
   "mimetype": "text/x-python",
   "name": "python",
   "nbconvert_exporter": "python",
   "pygments_lexer": "ipython3",
   "version": "3.10.12"
  }
 },
 "nbformat": 4,
 "nbformat_minor": 4
}
