{
 "cells": [
  {
   "cell_type": "markdown",
   "metadata": {
    "id": "9Ld6xO_gU1GD"
   },
   "source": [
    "# 1 - QUANTUM ANNEALING"
   ]
  },
  {
   "cell_type": "code",
   "execution_count": null,
   "metadata": {
    "id": "SKFxM8wQANz2"
   },
   "outputs": [],
   "source": [
    "pip install dwave-ocean-sdk"
   ]
  },
  {
   "cell_type": "markdown",
   "metadata": {
    "id": "jW-1DjgJVbvU"
   },
   "source": [
    "*Note*: The following cell is used to set up access to D-Wave's quantum annealers. Please, refer to *Appendix D* for instructions.\n",
    "\n",
    "If you have already set up your account, you can skip the cell. This will likely NOT be the case if you are running this notebook on a cloud service such as Google Colab."
   ]
  },
  {
   "cell_type": "code",
   "execution_count": 1,
   "metadata": {
    "id": "9WoQF03-EaGu"
   },
   "outputs": [
    {
     "name": "stdout",
     "output_type": "stream",
     "text": [
      "Using the simplified configuration flow.\n",
      "Try 'dwave config create --full' for more options.\n",
      "\n",
      "Creating new configuration file: /home/vruiz/.config/dwave/dwave.conf\n",
      "Updating existing profile: defaults\n",
      "Solver API token [skip]: ^C\n",
      "Unhandled error: \n"
     ]
    }
   ],
   "source": [
    "!dwave config create"
   ]
  },
  {
   "cell_type": "code",
   "execution_count": null,
   "metadata": {
    "id": "UUFTKnf6FMb4"
   },
   "outputs": [],
   "source": [
    "import dimod\n",
    "J = {(0,1):1, (0,2):1}\n",
    "h = {}\n",
    "problem = dimod.BinaryQuadraticModel(h, J, 0.0, dimod.SPIN)\n",
    "print(\"The problem we are going to solve is:\")\n",
    "print(problem)"
   ]
  },
  {
   "cell_type": "code",
   "execution_count": null,
   "metadata": {
    "id": "qgAnVWndFlUT"
   },
   "outputs": [],
   "source": [
    "from dwave.system import DWaveSampler\n",
    "from dwave.system import EmbeddingComposite\n",
    "sampler = EmbeddingComposite(DWaveSampler())\n",
    "result = sampler.sample(problem, num_reads=10)\n",
    "print(\"The solutions that we have obtained are (Z0 Z1 Z2)\")\n",
    "print(result)"
   ]
  },
  {
   "cell_type": "code",
   "execution_count": null,
   "metadata": {
    "id": "42ucb8VpFuKt"
   },
   "outputs": [],
   "source": [
    "x0 = dimod.Binary(\"x0\")\n",
    "x1 = dimod.Binary(\"x1\")\n",
    "x2 = dimod.Binary(\"x2\")"
   ]
  },
  {
   "cell_type": "code",
   "execution_count": null,
   "metadata": {
    "id": "7upiqt8eFzy3"
   },
   "outputs": [],
   "source": [
    "blp = dimod.ConstrainedQuadraticModel()\n",
    "blp.set_objective(-5*x0+3*x1-2*x2)\n",
    "blp.add_constraint(x0 + x2 <= 1, \"First constraint\")\n",
    "blp.add_constraint(3*x0 -x1 + 3*x2 <= 4, \"Second constraint\")"
   ]
  },
  {
   "cell_type": "code",
   "execution_count": null,
   "metadata": {
    "id": "hJF69F3LF5Dc"
   },
   "outputs": [],
   "source": [
    "print(\"Our variables are:\")\n",
    "print(blp.variables)\n",
    "print(\"Our objective is:\")\n",
    "print(blp.objective)\n",
    "print(\"Our constraints are:\")\n",
    "print(blp.constraints)"
   ]
  },
  {
   "cell_type": "code",
   "execution_count": null,
   "metadata": {
    "id": "V9Wtt3OlF_uK"
   },
   "outputs": [],
   "source": [
    "sample1 = {\"x0\":1, \"x1\":1, \"x2\":1}\n",
    "print(\"The assignment is\", sample1)\n",
    "print(\"Its cost is\", blp.objective.energy(sample1))\n",
    "print(\"Is it feasible?\",blp.check_feasible(sample1))\n",
    "print(\"The violations of the constraints are\")\n",
    "print(blp.violations(sample1))"
   ]
  },
  {
   "cell_type": "code",
   "execution_count": null,
   "metadata": {
    "id": "tam0h2V1GmP9"
   },
   "outputs": [],
   "source": [
    "sample2 = {\"x0\":0, \"x1\":0, \"x2\":1}\n",
    "print(\"The assignment is\", sample2)\n",
    "print(\"Its cost is\", blp.objective.energy(sample2))\n",
    "print(\"Is it feasible?\",blp.check_feasible(sample2))\n",
    "print(\"The violations of the constraints are\")\n",
    "print(blp.violations(sample2))"
   ]
  },
  {
   "cell_type": "code",
   "execution_count": null,
   "metadata": {
    "id": "xyQzxTkhGsZo"
   },
   "outputs": [],
   "source": [
    "solver = dimod.ExactCQMSolver()\n",
    "solution = solver.sample_cqm(blp)\n",
    "print(\"The list of assignments is\")\n",
    "print(solution)"
   ]
  },
  {
   "cell_type": "code",
   "execution_count": null,
   "metadata": {
    "id": "9dRF20ktG2Wf"
   },
   "outputs": [],
   "source": [
    "feasible_sols = solution.filter(lambda s: s.is_feasible)\n",
    "print(feasible_sols)\n",
    "feasible_sols.first"
   ]
  },
  {
   "cell_type": "code",
   "execution_count": null,
   "metadata": {
    "id": "JSYjdRNuG_x5"
   },
   "outputs": [],
   "source": [
    "y0, y1 = dimod.Binaries([\"y0\", \"y1\"])\n",
    "cqm = dimod.ConstrainedQuadraticModel()\n",
    "cqm.set_objective(-2*y0-3*y1)\n",
    "cqm.add_constraint(y0 + 2*y1 <= 2);"
   ]
  },
  {
   "cell_type": "code",
   "execution_count": null,
   "metadata": {
    "id": "pJko6mDSHF63"
   },
   "outputs": [],
   "source": [
    "qubo, invert = dimod.cqm_to_bqm(cqm, lagrange_multiplier = 5)\n",
    "print(qubo)"
   ]
  },
  {
   "cell_type": "code",
   "execution_count": null,
   "metadata": {
    "id": "zeKwEoWxHJXz"
   },
   "outputs": [],
   "source": [
    "sampler = EmbeddingComposite(DWaveSampler())\n",
    "result = sampler.sample(qubo, num_reads=10)\n",
    "print(\"The solutions that we have obtained are\")\n",
    "print(result)"
   ]
  },
  {
   "cell_type": "code",
   "execution_count": null,
   "metadata": {
    "id": "FrhzIllgHQqz"
   },
   "outputs": [],
   "source": [
    "samples = []\n",
    "occurrences = []\n",
    "for s in result.data():\n",
    "    samples.append(invert(s.sample))\n",
    "    occurrences.append(s.num_occurrences)\n",
    "sampleset = dimod.SampleSet.from_samples_cqm(samples,cqm,\n",
    "    num_occurrences=occurrences)\n",
    "print(\"The solutions to the original problem are\")\n",
    "print(sampleset)"
   ]
  },
  {
   "cell_type": "code",
   "execution_count": null,
   "metadata": {
    "id": "PKDAg5bsHZCl"
   },
   "outputs": [],
   "source": [
    "final_sols = sampleset.filter(lambda s: s.is_feasible)\n",
    "final_sols = final_sols.aggregate()\n",
    "print(\"The final solutions are\")\n",
    "print(final_sols)"
   ]
  },
  {
   "cell_type": "code",
   "execution_count": null,
   "metadata": {
    "id": "ycO77-2JHhCE"
   },
   "outputs": [],
   "source": [
    "from dwave.cloud import Client\n",
    "for solver in Client.from_config().get_solvers():\n",
    "    print(solver)"
   ]
  },
  {
   "cell_type": "code",
   "execution_count": null,
   "metadata": {
    "id": "sICOR7yoHmeB"
   },
   "outputs": [],
   "source": [
    "from dwave.system import DWaveSampler\n",
    "sampler=DWaveSampler(solver='Advantage_system6.4')\n",
    "print(\"Name:\",sampler.properties[\"chip_id\"])\n",
    "print(\"Number of qubits:\",sampler.properties[\"num_qubits\"])\n",
    "print(\"Category:\",sampler.properties[\"category\"])\n",
    "print(\"Supported problems:\",sampler.properties[\"supported_problem_types\"])\n",
    "print(\"Topology:\",sampler.properties[\"topology\"])\n",
    "print(\"Range of reads:\",sampler.properties[\"num_reads_range\"])"
   ]
  },
  {
   "cell_type": "code",
   "execution_count": null,
   "metadata": {
    "id": "SvYDUn4cHwnT"
   },
   "outputs": [],
   "source": [
    "sampler=DWaveSampler(solver='Advantage_system4.1')\n",
    "print(\"Name:\",sampler.properties[\"chip_id\"])\n",
    "print(\"Number of qubits:\",sampler.properties[\"num_qubits\"])\n",
    "print(\"Category:\",sampler.properties[\"category\"])\n",
    "print(\"Supported problems:\",sampler.properties[\"supported_problem_types\"])\n",
    "print(\"Topology:\",sampler.properties[\"topology\"])\n",
    "print(\"Range of reads:\",sampler.properties[\"num_reads_range\"])"
   ]
  },
  {
   "cell_type": "code",
   "execution_count": null,
   "metadata": {
    "id": "BEbRGsy3H5jP"
   },
   "outputs": [],
   "source": [
    "sampler=DWaveSampler(solver='Advantage2_prototype2.3')\n",
    "print(\"Name:\",sampler.properties[\"chip_id\"])\n",
    "print(\"Number of qubits:\",sampler.properties[\"num_qubits\"])\n",
    "print(\"Category:\",sampler.properties[\"category\"])\n",
    "print(\"Supported problems:\",sampler.properties[\"supported_problem_types\"])\n",
    "print(\"Topology:\",sampler.properties[\"topology\"])\n",
    "print(\"Range of reads:\",sampler.properties[\"num_reads_range\"])"
   ]
  },
  {
   "cell_type": "code",
   "execution_count": null,
   "metadata": {
    "id": "qWjDsgeNIDYe"
   },
   "outputs": [],
   "source": [
    "sampler=DWaveSampler(solver='Advantage2_prototype2.3')\n",
    "print(\"Couplings:\",sampler.properties[\"couplers\"])"
   ]
  },
  {
   "cell_type": "code",
   "execution_count": null,
   "metadata": {
    "id": "54L5XKSLIIj-"
   },
   "outputs": [],
   "source": [
    "sampler.adjacency"
   ]
  },
  {
   "cell_type": "code",
   "execution_count": null,
   "metadata": {
    "id": "p399qlrKIb9g"
   },
   "outputs": [],
   "source": [
    "sampler = DWaveSampler(solver = \"Advantage_system4.1\")\n",
    "print(\"The default annealing time is\",\n",
    "    sampler.properties[\"default_annealing_time\"],\"microseconds\")\n",
    "print(\"The possible values for the annealing time (in microseconds)\"\\\n",
    "    \" lie in the range\",sampler.properties[\"annealing_time_range\"])"
   ]
  },
  {
   "cell_type": "code",
   "execution_count": null,
   "metadata": {
    "id": "ntM_2zE4ITU-"
   },
   "outputs": [],
   "source": [
    "# Define the problem\n",
    "J = {(0,1):1, (0,2):1, (1,2):1}\n",
    "h = {}\n",
    "triangle = dimod.BinaryQuadraticModel(h, J, 0.0, dimod.SPIN)\n",
    "# Embed it and solve it on the DW_2000Q_6 annealer\n",
    "sampler = EmbeddingComposite(DWaveSampler(solver = \"Advantage2_prototype2.3\"))\n",
    "result = sampler.sample(triangle, num_reads=10,\n",
    "    return_embedding = True)\n",
    "print(\"The samples obtained are\")\n",
    "print(result)\n",
    "print(\"The embedding used was\")\n",
    "print(result.info[\"embedding_context\"])"
   ]
  },
  {
   "cell_type": "code",
   "execution_count": null,
   "metadata": {
    "id": "erXf3rnXIkOf"
   },
   "outputs": [],
   "source": [
    "J = {(0,1):1, (0,2):1, (1,2):1}\n",
    "h = {}\n",
    "triangle = dimod.BinaryQuadraticModel(h, J, 0.0, dimod.SPIN)\n",
    "sampler = EmbeddingComposite(DWaveSampler(solver = \"Advantage2_prototype2.3\"))\n",
    "result = sampler.sample(triangle, num_reads=10, annealing_time = 100)\n",
    "print(\"The samples obtained are\")\n",
    "print(result)"
   ]
  },
  {
   "cell_type": "code",
   "execution_count": null,
   "metadata": {
    "id": "LYM4kqH3IpGa"
   },
   "outputs": [],
   "source": [
    "forward_schedule=[[0.0, 0.0], [5.0, 0.25], [25, 0.75], [30, 1.0]]\n",
    "sampler = EmbeddingComposite(DWaveSampler())\n",
    "result = sampler.sample(triangle, num_reads=10,\n",
    "    anneal_schedule = forward_schedule)\n",
    "print(\"The samples obtained are\")\n",
    "print(result)"
   ]
  },
  {
   "cell_type": "code",
   "execution_count": null,
   "metadata": {
    "id": "KbH16epAI1jO"
   },
   "outputs": [],
   "source": [
    "reverse_schedule=[[0.0, 1.0], [10.0, 0.5], [20, 1.0]]\n",
    "initial_state = {0:1, 1:1, 2:1}\n",
    "sampler = EmbeddingComposite(DWaveSampler())\n",
    "result = sampler.sample(triangle, num_reads=10,\n",
    "    anneal_schedule = reverse_schedule,\n",
    "    reinitialize_state=False, initial_state = initial_state)\n",
    "print(\"The samples obtained are\")\n",
    "print(result)"
   ]
  },
  {
   "cell_type": "code",
   "execution_count": null,
   "metadata": {
    "id": "7e4K1PxzJDGD"
   },
   "outputs": [],
   "source": [
    "sampler = DWaveSampler(\"Advantage2_prototype2.3\")\n",
    "print(\"The coupling strength range is\", sampler.properties[\"h_range\"])"
   ]
  },
  {
   "cell_type": "code",
   "execution_count": null,
   "metadata": {
    "id": "zbRc9V4CJLKH"
   },
   "outputs": [],
   "source": [
    "sampler = EmbeddingComposite(DWaveSampler(\"Advantage2_prototype2.3\"))\n",
    "# Define the problem\n",
    "x0 = dimod.Binary(\"x0\")\n",
    "x1 = dimod.Binary(\"x1\")\n",
    "x2 = dimod.Binary(\"x2\")\n",
    "blp = dimod.ConstrainedQuadraticModel()\n",
    "blp.set_objective(-5*x0+3*x1-2*x2)\n",
    "blp.add_constraint(x0 + x2 <= 1, \"First constraint\")\n",
    "blp.add_constraint(3*x0 -x1 + 3*x2 <= 4, \"Second constraint\")\n",
    "# Convert the problem and run it\n",
    "qubo, invert = dimod.cqm_to_bqm(blp, lagrange_multiplier = 10)\n",
    "result = sampler.sample(qubo, num_reads=100)\n",
    "# Aggregate and show the results\n",
    "samples = []\n",
    "occurrences = []\n",
    "for s in result.data():\n",
    "    samples.append(invert(s.sample))\n",
    "    occurrences.append(s.num_occurrences)\n",
    "sampleset = dimod.SampleSet.from_samples_cqm(samples,blp,\n",
    "    num_occurrences=occurrences)\n",
    "print(\"The solutions to the original problem are\")\n",
    "print(sampleset.filter(lambda s: s.is_feasible).aggregate())"
   ]
  },
  {
   "cell_type": "code",
   "execution_count": null,
   "metadata": {
    "id": "DiUb5nqIJQNf"
   },
   "outputs": [],
   "source": [
    "# Convert the problem and run it\n",
    "qubo, invert = dimod.cqm_to_bqm(blp, lagrange_multiplier = 4)\n",
    "result = sampler.sample(qubo, num_reads=100)\n",
    "# Aggregate and show the results\n",
    "samples = []\n",
    "occurrences = []\n",
    "for s in result.data():\n",
    "    samples.append(invert(s.sample))\n",
    "    occurrences.append(s.num_occurrences)\n",
    "sampleset = dimod.SampleSet.from_samples_cqm(samples,blp,\n",
    "    num_occurrences=occurrences)\n",
    "print(\"The solutions to the original problem are\")\n",
    "print(sampleset.filter(lambda s: s.is_feasible).aggregate())"
   ]
  },
  {
   "cell_type": "code",
   "execution_count": null,
   "metadata": {
    "id": "ztgEnnB8JYC4"
   },
   "outputs": [],
   "source": [
    "# Convert the problem and run it\n",
    "qubo, invert = dimod.cqm_to_bqm(blp, lagrange_multiplier = 1)\n",
    "result = sampler.sample(qubo, num_reads=100)\n",
    "# Aggregate and show the results\n",
    "samples = []\n",
    "occurrences = []\n",
    "for s in result.data():\n",
    "    samples.append(invert(s.sample))\n",
    "    occurrences.append(s.num_occurrences)\n",
    "sampleset = dimod.SampleSet.from_samples_cqm(samples,blp,\n",
    "    num_occurrences=occurrences)\n",
    "print(\"The solutions to the original problem are\")\n",
    "print(sampleset.filter(lambda s: s.is_feasible).aggregate())"
   ]
  },
  {
   "cell_type": "code",
   "execution_count": null,
   "metadata": {
    "id": "XNpcZwmJJjqs"
   },
   "outputs": [],
   "source": [
    "import greedy\n",
    "import dimod\n",
    "# Define the problem\n",
    "J = {(0,1):1, (1,2):1, (2,3):1, (3,0):1}\n",
    "h = {}\n",
    "problem = dimod.BinaryQuadraticModel(h, J, 0.0, dimod.SPIN)\n",
    "# Sample with SteepestDescentSolver\n",
    "solver = greedy.SteepestDescentSolver()\n",
    "solution = solver.sample(problem, num_reads = 10)\n",
    "print(solution.aggregate())"
   ]
  },
  {
   "cell_type": "code",
   "execution_count": null,
   "metadata": {
    "id": "ED0psiS0Jppm"
   },
   "outputs": [],
   "source": [
    "import tabu\n",
    "solver = tabu.TabuSampler()\n",
    "solution = solver.sample(problem, num_reads = 10)\n",
    "print(solution.aggregate())"
   ]
  },
  {
   "cell_type": "code",
   "execution_count": null,
   "metadata": {
    "id": "Cmeis9TDJtZ1"
   },
   "outputs": [],
   "source": [
    "import neal\n",
    "solver = neal.SimulatedAnnealingSampler()\n",
    "solution = solver.sample(problem, num_reads = 10)\n",
    "print(solution.aggregate())"
   ]
  },
  {
   "cell_type": "code",
   "execution_count": null,
   "metadata": {
    "id": "RHU3aB83Jv0r"
   },
   "outputs": [],
   "source": [
    "import dwave.system\n",
    "sampler = dwave.system.LeapHybridSampler()\n",
    "solution = solver.sample(problem, num_reads = 10)\n",
    "print(solution.aggregate())"
   ]
  },
  {
   "cell_type": "code",
   "execution_count": null,
   "metadata": {
    "id": "YQ2I2UvlJzym"
   },
   "outputs": [],
   "source": [
    "sampler.properties[\"quota_conversion_rate\"]\n"
   ]
  }
 ],
 "metadata": {
  "colab": {
   "provenance": []
  },
  "kernelspec": {
   "display_name": "Python 3 (ipykernel)",
   "language": "python",
   "name": "python3"
  },
  "language_info": {
   "codemirror_mode": {
    "name": "ipython",
    "version": 3
   },
   "file_extension": ".py",
   "mimetype": "text/x-python",
   "name": "python",
   "nbconvert_exporter": "python",
   "pygments_lexer": "ipython3",
   "version": "3.12.2"
  }
 },
 "nbformat": 4,
 "nbformat_minor": 4
}
