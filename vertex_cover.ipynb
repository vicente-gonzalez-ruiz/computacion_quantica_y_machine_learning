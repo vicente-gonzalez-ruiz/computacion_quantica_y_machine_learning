{
 "cells": [
  {
   "cell_type": "markdown",
   "id": "dd77cc3f-dbfd-4327-a665-0313d4ba947e",
   "metadata": {},
   "source": [
    "# Vertex Cover"
   ]
  },
  {
   "cell_type": "code",
   "execution_count": 1,
   "id": "8f6ac208-90ea-4eb2-990f-0ff3954887d0",
   "metadata": {},
   "outputs": [
    {
     "name": "stdout",
     "output_type": "stream",
     "text": [
      "Collecting dwave-ocean-sdk\n",
      "  Downloading dwave_ocean_sdk-6.10.0-py3-none-any.whl.metadata (5.7 kB)\n",
      "Collecting dimod==0.12.14 (from dwave-ocean-sdk)\n",
      "  Downloading dimod-0.12.14-cp312-cp312-manylinux_2_17_x86_64.manylinux2014_x86_64.whl.metadata (4.0 kB)\n",
      "Collecting dwave-cloud-client==0.11.4 (from dwave-ocean-sdk)\n",
      "  Downloading dwave_cloud_client-0.11.4-py3-none-any.whl.metadata (5.3 kB)\n",
      "Collecting dwave-greedy==0.3.0 (from dwave-ocean-sdk)\n",
      "  Downloading dwave_greedy-0.3.0-py3-none-any.whl.metadata (4.6 kB)\n",
      "Collecting dwave-hybrid==0.6.11 (from dwave-ocean-sdk)\n",
      "  Downloading dwave_hybrid-0.6.11-py3-none-any.whl.metadata (4.4 kB)\n",
      "Collecting dwave-inspector==0.5.0 (from dwave-ocean-sdk)\n",
      "  Downloading dwave_inspector-0.5.0-py3-none-any.whl.metadata (4.4 kB)\n",
      "Collecting dwave-neal==0.6.0 (from dwave-ocean-sdk)\n",
      "  Downloading dwave_neal-0.6.0-py3-none-any.whl.metadata (3.0 kB)\n",
      "Collecting dwave-networkx==0.8.14 (from dwave-ocean-sdk)\n",
      "  Downloading dwave_networkx-0.8.14-py3-none-any.whl.metadata (2.6 kB)\n",
      "Collecting dwave-preprocessing==0.6.5 (from dwave-ocean-sdk)\n",
      "  Downloading dwave_preprocessing-0.6.5-cp312-cp312-manylinux_2_17_x86_64.manylinux2014_x86_64.whl.metadata (3.3 kB)\n",
      "Collecting dwave-samplers==1.2.0 (from dwave-ocean-sdk)\n",
      "  Downloading dwave_samplers-1.2.0-cp312-cp312-manylinux_2_17_x86_64.manylinux2014_x86_64.whl.metadata (9.8 kB)\n",
      "Collecting dwave-system==1.24.0 (from dwave-ocean-sdk)\n",
      "  Downloading dwave_system-1.24.0-py3-none-any.whl.metadata (3.8 kB)\n",
      "Collecting dwave-tabu==0.5.0 (from dwave-ocean-sdk)\n",
      "  Downloading dwave_tabu-0.5.0-py3-none-any.whl.metadata (3.3 kB)\n",
      "Collecting dwavebinarycsp==0.3.0 (from dwave-ocean-sdk)\n",
      "  Downloading dwavebinarycsp-0.3.0-py3-none-any.whl.metadata (3.0 kB)\n",
      "Collecting minorminer==0.2.13 (from dwave-ocean-sdk)\n",
      "  Downloading minorminer-0.2.13-cp312-cp312-manylinux_2_17_x86_64.manylinux2014_x86_64.whl.metadata (1.4 kB)\n",
      "Collecting penaltymodel==1.1.0 (from dwave-ocean-sdk)\n",
      "  Downloading penaltymodel-1.1.0-py3-none-any.whl.metadata (6.5 kB)\n",
      "Collecting numpy<2.0.0,>=1.17.3 (from dimod==0.12.14->dwave-ocean-sdk)\n",
      "  Using cached numpy-1.26.4-cp312-cp312-manylinux_2_17_x86_64.manylinux2014_x86_64.whl.metadata (61 kB)\n",
      "Requirement already satisfied: requests<3,>=2.25 in /home/vruiz/envs/quantum/lib/python3.12/site-packages (from requests[socks]<3,>=2.25->dwave-cloud-client==0.11.4->dwave-ocean-sdk) (2.31.0)\n",
      "Requirement already satisfied: urllib3<3,>=1.26 in /home/vruiz/envs/quantum/lib/python3.12/site-packages (from dwave-cloud-client==0.11.4->dwave-ocean-sdk) (2.2.1)\n",
      "Collecting pydantic<3,>=2 (from dwave-cloud-client==0.11.4->dwave-ocean-sdk)\n",
      "  Downloading pydantic-2.7.1-py3-none-any.whl.metadata (107 kB)\n",
      "\u001b[2K     \u001b[38;2;114;156;31m━━━━━━━━━━━━━━━━━━━━━━━━━━━━━━━━━━━━━━━\u001b[0m \u001b[32m107.3/107.3 kB\u001b[0m \u001b[31m2.1 MB/s\u001b[0m eta \u001b[36m0:00:00\u001b[0m MB/s\u001b[0m eta \u001b[36m0:00:01\u001b[0m\n",
      "\u001b[?25hCollecting homebase<2,>=1.0 (from dwave-cloud-client==0.11.4->dwave-ocean-sdk)\n",
      "  Downloading homebase-1.0.1-py2.py3-none-any.whl.metadata (3.3 kB)\n",
      "Collecting click<9,>=7.0 (from dwave-cloud-client==0.11.4->dwave-ocean-sdk)\n",
      "  Downloading click-8.1.7-py3-none-any.whl.metadata (3.0 kB)\n",
      "Requirement already satisfied: python-dateutil<3,>=2.7 in /home/vruiz/envs/quantum/lib/python3.12/site-packages (from dwave-cloud-client==0.11.4->dwave-ocean-sdk) (2.9.0.post0)\n",
      "Collecting plucky<0.5,>=0.4.3 (from dwave-cloud-client==0.11.4->dwave-ocean-sdk)\n",
      "  Downloading plucky-0.4.3-py2.py3-none-any.whl.metadata (4.4 kB)\n",
      "Collecting diskcache<6,>=5.2.1 (from dwave-cloud-client==0.11.4->dwave-ocean-sdk)\n",
      "  Downloading diskcache-5.6.3-py3-none-any.whl.metadata (20 kB)\n",
      "Requirement already satisfied: packaging>=19 in /home/vruiz/envs/quantum/lib/python3.12/site-packages (from dwave-cloud-client==0.11.4->dwave-ocean-sdk) (24.0)\n",
      "Collecting werkzeug<4,>=2.2 (from dwave-cloud-client==0.11.4->dwave-ocean-sdk)\n",
      "  Downloading werkzeug-3.0.3-py3-none-any.whl.metadata (3.7 kB)\n",
      "Collecting typing-extensions<5,>=4.5.0 (from dwave-cloud-client==0.11.4->dwave-ocean-sdk)\n",
      "  Using cached typing_extensions-4.11.0-py3-none-any.whl.metadata (3.0 kB)\n",
      "Collecting authlib<2,>=1.2 (from dwave-cloud-client==0.11.4->dwave-ocean-sdk)\n",
      "  Downloading Authlib-1.3.0-py2.py3-none-any.whl.metadata (3.8 kB)\n",
      "Collecting importlib-metadata>=5.0.0 (from dwave-cloud-client==0.11.4->dwave-ocean-sdk)\n",
      "  Using cached importlib_metadata-7.1.0-py3-none-any.whl.metadata (4.7 kB)\n",
      "Collecting networkx (from dwave-hybrid==0.6.11->dwave-ocean-sdk)\n",
      "  Downloading networkx-3.3-py3-none-any.whl.metadata (5.1 kB)\n",
      "Collecting Flask<4,>=2.2 (from dwave-inspector==0.5.0->dwave-ocean-sdk)\n",
      "  Downloading flask-3.0.3-py3-none-any.whl.metadata (3.2 kB)\n",
      "Collecting orjson>=3.10.0 (from dwave-inspector==0.5.0->dwave-ocean-sdk)\n",
      "  Downloading orjson-3.10.3-cp312-cp312-manylinux_2_17_x86_64.manylinux2014_x86_64.whl.metadata (49 kB)\n",
      "\u001b[2K     \u001b[38;2;114;156;31m━━━━━━━━━━━━━━━━━━━━━━━━━━━━━━━━━━━━━━━━\u001b[0m \u001b[32m49.7/49.7 kB\u001b[0m \u001b[31m6.8 MB/s\u001b[0m eta \u001b[36m0:00:00\u001b[0m\n",
      "\u001b[?25hCollecting scipy>=1.7.3 (from dwave-system==1.24.0->dwave-ocean-sdk)\n",
      "  Using cached scipy-1.13.0-cp312-cp312-manylinux_2_17_x86_64.manylinux2014_x86_64.whl.metadata (60 kB)\n",
      "Collecting fasteners>=0.15 (from minorminer==0.2.13->dwave-ocean-sdk)\n",
      "  Downloading fasteners-0.19-py3-none-any.whl.metadata (4.9 kB)\n",
      "Collecting rectangle-packer>=2.0.1 (from minorminer==0.2.13->dwave-ocean-sdk)\n",
      "  Downloading rectangle_packer-2.0.2-cp312-cp312-manylinux_2_5_x86_64.manylinux1_x86_64.manylinux_2_17_x86_64.manylinux2014_x86_64.whl.metadata (5.4 kB)\n",
      "Collecting cryptography (from authlib<2,>=1.2->dwave-cloud-client==0.11.4->dwave-ocean-sdk)\n",
      "  Downloading cryptography-42.0.7-cp39-abi3-manylinux_2_28_x86_64.whl.metadata (5.3 kB)\n",
      "Requirement already satisfied: Jinja2>=3.1.2 in /home/vruiz/envs/quantum/lib/python3.12/site-packages (from Flask<4,>=2.2->dwave-inspector==0.5.0->dwave-ocean-sdk) (3.1.4)\n",
      "Collecting itsdangerous>=2.1.2 (from Flask<4,>=2.2->dwave-inspector==0.5.0->dwave-ocean-sdk)\n",
      "  Downloading itsdangerous-2.2.0-py3-none-any.whl.metadata (1.9 kB)\n",
      "Collecting blinker>=1.6.2 (from Flask<4,>=2.2->dwave-inspector==0.5.0->dwave-ocean-sdk)\n",
      "  Downloading blinker-1.8.2-py3-none-any.whl.metadata (1.6 kB)\n",
      "Collecting zipp>=0.5 (from importlib-metadata>=5.0.0->dwave-cloud-client==0.11.4->dwave-ocean-sdk)\n",
      "  Using cached zipp-3.18.1-py3-none-any.whl.metadata (3.5 kB)\n",
      "Collecting annotated-types>=0.4.0 (from pydantic<3,>=2->dwave-cloud-client==0.11.4->dwave-ocean-sdk)\n",
      "  Downloading annotated_types-0.6.0-py3-none-any.whl.metadata (12 kB)\n",
      "Collecting pydantic-core==2.18.2 (from pydantic<3,>=2->dwave-cloud-client==0.11.4->dwave-ocean-sdk)\n",
      "  Downloading pydantic_core-2.18.2-cp312-cp312-manylinux_2_17_x86_64.manylinux2014_x86_64.whl.metadata (6.5 kB)\n",
      "Requirement already satisfied: six>=1.5 in /home/vruiz/envs/quantum/lib/python3.12/site-packages (from python-dateutil<3,>=2.7->dwave-cloud-client==0.11.4->dwave-ocean-sdk) (1.16.0)\n",
      "Requirement already satisfied: charset-normalizer<4,>=2 in /home/vruiz/envs/quantum/lib/python3.12/site-packages (from requests<3,>=2.25->requests[socks]<3,>=2.25->dwave-cloud-client==0.11.4->dwave-ocean-sdk) (3.3.2)\n",
      "Requirement already satisfied: idna<4,>=2.5 in /home/vruiz/envs/quantum/lib/python3.12/site-packages (from requests<3,>=2.25->requests[socks]<3,>=2.25->dwave-cloud-client==0.11.4->dwave-ocean-sdk) (3.7)\n",
      "Requirement already satisfied: certifi>=2017.4.17 in /home/vruiz/envs/quantum/lib/python3.12/site-packages (from requests<3,>=2.25->requests[socks]<3,>=2.25->dwave-cloud-client==0.11.4->dwave-ocean-sdk) (2024.2.2)\n",
      "Collecting PySocks!=1.5.7,>=1.5.6 (from requests[socks]<3,>=2.25->dwave-cloud-client==0.11.4->dwave-ocean-sdk)\n",
      "  Downloading PySocks-1.7.1-py3-none-any.whl.metadata (13 kB)\n",
      "Requirement already satisfied: MarkupSafe>=2.1.1 in /home/vruiz/envs/quantum/lib/python3.12/site-packages (from werkzeug<4,>=2.2->dwave-cloud-client==0.11.4->dwave-ocean-sdk) (2.1.5)\n",
      "Requirement already satisfied: cffi>=1.12 in /home/vruiz/envs/quantum/lib/python3.12/site-packages (from cryptography->authlib<2,>=1.2->dwave-cloud-client==0.11.4->dwave-ocean-sdk) (1.16.0)\n",
      "Requirement already satisfied: pycparser in /home/vruiz/envs/quantum/lib/python3.12/site-packages (from cffi>=1.12->cryptography->authlib<2,>=1.2->dwave-cloud-client==0.11.4->dwave-ocean-sdk) (2.22)\n",
      "Downloading dwave_ocean_sdk-6.10.0-py3-none-any.whl (8.4 kB)\n",
      "Downloading dimod-0.12.14-cp312-cp312-manylinux_2_17_x86_64.manylinux2014_x86_64.whl (19.3 MB)\n",
      "\u001b[2K   \u001b[38;2;114;156;31m━━━━━━━━━━━━━━━━━━━━━━━━━━━━━━━━━━━━━━━━\u001b[0m \u001b[32m19.3/19.3 MB\u001b[0m \u001b[31m5.9 MB/s\u001b[0m eta \u001b[36m0:00:00\u001b[0mm eta \u001b[36m0:00:01\u001b[0m[36m0:00:01\u001b[0m\n",
      "\u001b[?25hDownloading dwave_cloud_client-0.11.4-py3-none-any.whl (139 kB)\n",
      "\u001b[2K   \u001b[38;2;114;156;31m━━━━━━━━━━━━━━━━━━━━━━━━━━━━━━━━━━━━━━━━\u001b[0m \u001b[32m139.2/139.2 kB\u001b[0m \u001b[31m16.9 MB/s\u001b[0m eta \u001b[36m0:00:00\u001b[0m\n",
      "\u001b[?25hDownloading dwave_greedy-0.3.0-py3-none-any.whl (10 kB)\n",
      "Downloading dwave_hybrid-0.6.11-py3-none-any.whl (77 kB)\n",
      "\u001b[2K   \u001b[38;2;114;156;31m━━━━━━━━━━━━━━━━━━━━━━━━━━━━━━━━━━━━━━━━\u001b[0m \u001b[32m77.1/77.1 kB\u001b[0m \u001b[31m12.1 MB/s\u001b[0m eta \u001b[36m0:00:00\u001b[0m\n",
      "\u001b[?25hDownloading dwave_inspector-0.5.0-py3-none-any.whl (30 kB)\n",
      "Downloading dwave_neal-0.6.0-py3-none-any.whl (8.7 kB)\n",
      "Downloading dwave_networkx-0.8.14-py3-none-any.whl (102 kB)\n",
      "\u001b[2K   \u001b[38;2;114;156;31m━━━━━━━━━━━━━━━━━━━━━━━━━━━━━━━━━━━━━━━━\u001b[0m \u001b[32m102.4/102.4 kB\u001b[0m \u001b[31m15.2 MB/s\u001b[0m eta \u001b[36m0:00:00\u001b[0m\n",
      "\u001b[?25hDownloading dwave_preprocessing-0.6.5-cp312-cp312-manylinux_2_17_x86_64.manylinux2014_x86_64.whl (3.4 MB)\n",
      "\u001b[2K   \u001b[38;2;114;156;31m━━━━━━━━━━━━━━━━━━━━━━━━━━━━━━━━━━━━━━━━\u001b[0m \u001b[32m3.4/3.4 MB\u001b[0m \u001b[31m6.0 MB/s\u001b[0m eta \u001b[36m0:00:00\u001b[0m[31m6.0 MB/s\u001b[0m eta \u001b[36m0:00:01\u001b[0mm\n",
      "\u001b[?25hDownloading dwave_samplers-1.2.0-cp312-cp312-manylinux_2_17_x86_64.manylinux2014_x86_64.whl (6.9 MB)\n",
      "\u001b[2K   \u001b[38;2;114;156;31m━━━━━━━━━━━━━━━━━━━━━━━━━━━━━━━━━━━━━━━━\u001b[0m \u001b[32m6.9/6.9 MB\u001b[0m \u001b[31m5.5 MB/s\u001b[0m eta \u001b[36m0:00:00\u001b[0mm eta \u001b[36m0:00:01\u001b[0m[36m0:00:01\u001b[0m\n",
      "\u001b[?25hDownloading dwave_system-1.24.0-py3-none-any.whl (105 kB)\n",
      "\u001b[2K   \u001b[38;2;114;156;31m━━━━━━━━━━━━━━━━━━━━━━━━━━━━━━━━━━━━━━━━\u001b[0m \u001b[32m105.3/105.3 kB\u001b[0m \u001b[31m6.6 MB/s\u001b[0m eta \u001b[36m0:00:00\u001b[0m\n",
      "\u001b[?25hDownloading dwave_tabu-0.5.0-py3-none-any.whl (9.2 kB)\n",
      "Downloading dwavebinarycsp-0.3.0-py3-none-any.whl (35 kB)\n",
      "Downloading minorminer-0.2.13-cp312-cp312-manylinux_2_17_x86_64.manylinux2014_x86_64.whl (10.3 MB)\n",
      "\u001b[2K   \u001b[38;2;114;156;31m━━━━━━━━━━━━━━━━━━━━━━━━━━━━━━━━━━━━━━━━\u001b[0m \u001b[32m10.3/10.3 MB\u001b[0m \u001b[31m5.6 MB/s\u001b[0m eta \u001b[36m0:00:00\u001b[0mm eta \u001b[36m0:00:01\u001b[0m:01\u001b[0m:01\u001b[0m\n",
      "\u001b[?25hDownloading penaltymodel-1.1.0-py3-none-any.whl (36 kB)\n",
      "Downloading Authlib-1.3.0-py2.py3-none-any.whl (223 kB)\n",
      "\u001b[2K   \u001b[38;2;114;156;31m━━━━━━━━━━━━━━━━━━━━━━━━━━━━━━━━━━━━━━━━\u001b[0m \u001b[32m223.7/223.7 kB\u001b[0m \u001b[31m8.3 MB/s\u001b[0m eta \u001b[36m0:00:00\u001b[0m\n",
      "\u001b[?25hDownloading click-8.1.7-py3-none-any.whl (97 kB)\n",
      "\u001b[2K   \u001b[38;2;114;156;31m━━━━━━━━━━━━━━━━━━━━━━━━━━━━━━━━━━━━━━━━\u001b[0m \u001b[32m97.9/97.9 kB\u001b[0m \u001b[31m8.7 MB/s\u001b[0m eta \u001b[36m0:00:00\u001b[0m\n",
      "\u001b[?25hDownloading diskcache-5.6.3-py3-none-any.whl (45 kB)\n",
      "\u001b[2K   \u001b[38;2;114;156;31m━━━━━━━━━━━━━━━━━━━━━━━━━━━━━━━━━━━━━━━━\u001b[0m \u001b[32m45.5/45.5 kB\u001b[0m \u001b[31m6.1 MB/s\u001b[0m eta \u001b[36m0:00:00\u001b[0m\n",
      "\u001b[?25hDownloading fasteners-0.19-py3-none-any.whl (18 kB)\n",
      "Downloading flask-3.0.3-py3-none-any.whl (101 kB)\n",
      "\u001b[2K   \u001b[38;2;114;156;31m━━━━━━━━━━━━━━━━━━━━━━━━━━━━━━━━━━━━━━━━\u001b[0m \u001b[32m101.7/101.7 kB\u001b[0m \u001b[31m8.4 MB/s\u001b[0m eta \u001b[36m0:00:00\u001b[0m\n",
      "\u001b[?25hDownloading homebase-1.0.1-py2.py3-none-any.whl (11 kB)\n",
      "Using cached importlib_metadata-7.1.0-py3-none-any.whl (24 kB)\n",
      "Downloading networkx-3.3-py3-none-any.whl (1.7 MB)\n",
      "\u001b[2K   \u001b[38;2;114;156;31m━━━━━━━━━━━━━━━━━━━━━━━━━━━━━━━━━━━━━━━━\u001b[0m \u001b[32m1.7/1.7 MB\u001b[0m \u001b[31m5.8 MB/s\u001b[0m eta \u001b[36m0:00:00\u001b[0mm eta \u001b[36m0:00:01\u001b[0m0:01\u001b[0m:01\u001b[0m\n",
      "\u001b[?25hUsing cached numpy-1.26.4-cp312-cp312-manylinux_2_17_x86_64.manylinux2014_x86_64.whl (18.0 MB)\n",
      "Downloading orjson-3.10.3-cp312-cp312-manylinux_2_17_x86_64.manylinux2014_x86_64.whl (142 kB)\n",
      "\u001b[2K   \u001b[38;2;114;156;31m━━━━━━━━━━━━━━━━━━━━━━━━━━━━━━━━━━━━━━━━\u001b[0m \u001b[32m142.7/142.7 kB\u001b[0m \u001b[31m9.1 MB/s\u001b[0m eta \u001b[36m0:00:00\u001b[0m\n",
      "\u001b[?25hDownloading plucky-0.4.3-py2.py3-none-any.whl (10 kB)\n",
      "Downloading pydantic-2.7.1-py3-none-any.whl (409 kB)\n",
      "\u001b[2K   \u001b[38;2;114;156;31m━━━━━━━━━━━━━━━━━━━━━━━━━━━━━━━━━━━━━━━━\u001b[0m \u001b[32m409.3/409.3 kB\u001b[0m \u001b[31m6.8 MB/s\u001b[0m eta \u001b[36m0:00:00\u001b[0m MB/s\u001b[0m eta \u001b[36m0:00:01\u001b[0m\n",
      "\u001b[?25hDownloading pydantic_core-2.18.2-cp312-cp312-manylinux_2_17_x86_64.manylinux2014_x86_64.whl (2.1 MB)\n",
      "\u001b[2K   \u001b[38;2;114;156;31m━━━━━━━━━━━━━━━━━━━━━━━━━━━━━━━━━━━━━━━━\u001b[0m \u001b[32m2.1/2.1 MB\u001b[0m \u001b[31m7.1 MB/s\u001b[0m eta \u001b[36m0:00:00\u001b[0mm eta \u001b[36m0:00:01\u001b[0m[36m0:00:01\u001b[0m\n",
      "\u001b[?25hDownloading rectangle_packer-2.0.2-cp312-cp312-manylinux_2_5_x86_64.manylinux1_x86_64.manylinux_2_17_x86_64.manylinux2014_x86_64.whl (327 kB)\n",
      "\u001b[2K   \u001b[38;2;114;156;31m━━━━━━━━━━━━━━━━━━━━━━━━━━━━━━━━━━━━━━━━\u001b[0m \u001b[32m327.0/327.0 kB\u001b[0m \u001b[31m6.3 MB/s\u001b[0m eta \u001b[36m0:00:00\u001b[0m[31m6.7 MB/s\u001b[0m eta \u001b[36m0:00:01\u001b[0m\n",
      "\u001b[?25hUsing cached scipy-1.13.0-cp312-cp312-manylinux_2_17_x86_64.manylinux2014_x86_64.whl (38.2 MB)\n",
      "Using cached typing_extensions-4.11.0-py3-none-any.whl (34 kB)\n",
      "Downloading werkzeug-3.0.3-py3-none-any.whl (227 kB)\n",
      "\u001b[2K   \u001b[38;2;114;156;31m━━━━━━━━━━━━━━━━━━━━━━━━━━━━━━━━━━━━━━━━\u001b[0m \u001b[32m227.3/227.3 kB\u001b[0m \u001b[31m7.9 MB/s\u001b[0m eta \u001b[36m0:00:00\u001b[0m\n",
      "\u001b[?25hDownloading annotated_types-0.6.0-py3-none-any.whl (12 kB)\n",
      "Downloading blinker-1.8.2-py3-none-any.whl (9.5 kB)\n",
      "Downloading itsdangerous-2.2.0-py3-none-any.whl (16 kB)\n",
      "Downloading PySocks-1.7.1-py3-none-any.whl (16 kB)\n",
      "Using cached zipp-3.18.1-py3-none-any.whl (8.2 kB)\n",
      "Downloading cryptography-42.0.7-cp39-abi3-manylinux_2_28_x86_64.whl (3.8 MB)\n",
      "\u001b[2K   \u001b[38;2;114;156;31m━━━━━━━━━━━━━━━━━━━━━━━━━━━━━━━━━━━━━━━━\u001b[0m \u001b[32m3.8/3.8 MB\u001b[0m \u001b[31m6.7 MB/s\u001b[0m eta \u001b[36m0:00:00\u001b[0m[31m6.8 MB/s\u001b[0m eta \u001b[36m0:00:01\u001b[0m\n",
      "\u001b[?25hInstalling collected packages: rectangle-packer, plucky, homebase, zipp, werkzeug, typing-extensions, PySocks, orjson, numpy, networkx, itsdangerous, fasteners, diskcache, click, blinker, annotated-types, scipy, pydantic-core, importlib-metadata, Flask, dimod, cryptography, pydantic, penaltymodel, dwave-samplers, dwave-preprocessing, dwave-networkx, authlib, minorminer, dwavebinarycsp, dwave-tabu, dwave-neal, dwave-greedy, dwave-cloud-client, dwave-system, dwave-inspector, dwave-hybrid, dwave-ocean-sdk\n",
      "Successfully installed Flask-3.0.3 PySocks-1.7.1 annotated-types-0.6.0 authlib-1.3.0 blinker-1.8.2 click-8.1.7 cryptography-42.0.7 dimod-0.12.14 diskcache-5.6.3 dwave-cloud-client-0.11.4 dwave-greedy-0.3.0 dwave-hybrid-0.6.11 dwave-inspector-0.5.0 dwave-neal-0.6.0 dwave-networkx-0.8.14 dwave-ocean-sdk-6.10.0 dwave-preprocessing-0.6.5 dwave-samplers-1.2.0 dwave-system-1.24.0 dwave-tabu-0.5.0 dwavebinarycsp-0.3.0 fasteners-0.19 homebase-1.0.1 importlib-metadata-7.1.0 itsdangerous-2.2.0 minorminer-0.2.13 networkx-3.3 numpy-1.26.4 orjson-3.10.3 penaltymodel-1.1.0 plucky-0.4.3 pydantic-2.7.1 pydantic-core-2.18.2 rectangle-packer-2.0.2 scipy-1.13.0 typing-extensions-4.11.0 werkzeug-3.0.3 zipp-3.18.1\n",
      "Note: you may need to restart the kernel to use updated packages.\n"
     ]
    }
   ],
   "source": [
    "pip install dwave-ocean-sdk"
   ]
  },
  {
   "cell_type": "code",
   "execution_count": 50,
   "id": "a2ea9c3a-d276-437b-b6e5-79bc876fbb7c",
   "metadata": {},
   "outputs": [],
   "source": [
    "import dimod\n",
    "from dwave.system import DWaveSampler\n",
    "from dwave.system import EmbeddingComposite\n",
    "import random"
   ]
  },
  {
   "cell_type": "markdown",
   "id": "8d84ccb8-f378-4066-9229-06530efef020",
   "metadata": {},
   "source": [
    "## Graph\n",
    "\n",
    "    0 --- 1\n",
    "    |     |\n",
    "    2 --- 3"
   ]
  },
  {
   "cell_type": "markdown",
   "id": "93960e3a-653f-4d23-b74d-c0b6fdf03e2a",
   "metadata": {},
   "source": [
    "### Using BLP (version 1)"
   ]
  },
  {
   "cell_type": "code",
   "execution_count": 4,
   "id": "0376c855-93fe-40ee-a788-cd680b077d64",
   "metadata": {},
   "outputs": [],
   "source": [
    "x0 = dimod.Binary(\"x0\")\n",
    "x1 = dimod.Binary(\"x1\")\n",
    "x2 = dimod.Binary(\"x2\")\n",
    "x3 = dimod.Binary(\"x4\")"
   ]
  },
  {
   "cell_type": "code",
   "execution_count": 7,
   "id": "4f4d9e24-3df7-414f-aecd-72e8cb171d6f",
   "metadata": {},
   "outputs": [
    {
     "data": {
      "text/plain": [
       "'Constraint 23'"
      ]
     },
     "execution_count": 7,
     "metadata": {},
     "output_type": "execute_result"
    }
   ],
   "source": [
    "blp = dimod.ConstrainedQuadraticModel()\n",
    "blp.set_objective(x0+x1+x2+x3)\n",
    "blp.add_constraint(x0 + x1 >= 1, \"Constraint 01\")\n",
    "blp.add_constraint(x0 + x2 >= 1, \"Constraint 02\")\n",
    "blp.add_constraint(x1 + x3 >= 1, \"Constraint 13\")\n",
    "blp.add_constraint(x2 + x3 >= 1, \"Constraint 23\")"
   ]
  },
  {
   "cell_type": "code",
   "execution_count": 8,
   "id": "c225a3f4-6b6a-4ffc-b2f1-76802a99bd65",
   "metadata": {},
   "outputs": [
    {
     "name": "stdout",
     "output_type": "stream",
     "text": [
      "Our variables are:\n",
      "Variables(['x0', 'x1', 'x2', 'x4'])\n"
     ]
    }
   ],
   "source": [
    "print(\"Our variables are:\")\n",
    "print(blp.variables)"
   ]
  },
  {
   "cell_type": "code",
   "execution_count": 9,
   "id": "3b1d7f0a-e0c8-469f-979c-58ca007437a1",
   "metadata": {},
   "outputs": [
    {
     "name": "stdout",
     "output_type": "stream",
     "text": [
      "Our objective is:\n",
      "ObjectiveView({'x0': 1.0, 'x1': 1.0, 'x2': 1.0, 'x4': 1.0}, {}, 0.0, {'x0': 'BINARY', 'x1': 'BINARY', 'x2': 'BINARY', 'x4': 'BINARY'})\n"
     ]
    }
   ],
   "source": [
    "print(\"Our objective is:\")\n",
    "print(blp.objective)"
   ]
  },
  {
   "cell_type": "code",
   "execution_count": 10,
   "id": "f88917e7-7024-4552-90be-e3337f0a60b6",
   "metadata": {},
   "outputs": [
    {
     "name": "stdout",
     "output_type": "stream",
     "text": [
      "Our constraints are:\n",
      "{'Constraint 01': Ge(ConstraintView({'x0': 1.0, 'x1': 1.0}, {}, 0.0, {'x0': 'BINARY', 'x1': 'BINARY'}), 1.0), 'Constraint 02': Ge(ConstraintView({'x0': 1.0, 'x2': 1.0}, {}, 0.0, {'x0': 'BINARY', 'x2': 'BINARY'}), 1.0), 'Constraint 13': Ge(ConstraintView({'x1': 1.0, 'x4': 1.0}, {}, 0.0, {'x1': 'BINARY', 'x4': 'BINARY'}), 1.0), 'Constraint 23': Ge(ConstraintView({'x2': 1.0, 'x4': 1.0}, {}, 0.0, {'x2': 'BINARY', 'x4': 'BINARY'}), 1.0)}\n"
     ]
    }
   ],
   "source": [
    "print(\"Our constraints are:\")\n",
    "print(blp.constraints)"
   ]
  },
  {
   "cell_type": "markdown",
   "id": "32c5270b-2bd3-4a5a-a0bb-75fc1e0b8c8f",
   "metadata": {},
   "source": [
    "#### Solve (in your host) using brute force"
   ]
  },
  {
   "cell_type": "code",
   "execution_count": 11,
   "id": "450dab36-b98a-4972-a6c2-63ab80569841",
   "metadata": {},
   "outputs": [
    {
     "name": "stdout",
     "output_type": "stream",
     "text": [
      "The list of assignments is\n",
      "   x0 x1 x2 x4 energy num_oc. is_sat. is_fea.\n",
      "0   0  0  0  0    0.0       1 arra...   False\n",
      "1   0  1  0  0    1.0       1 arra...   False\n",
      "2   1  0  0  0    1.0       1 arra...   False\n",
      "4   0  0  1  0    1.0       1 arra...   False\n",
      "8   0  0  0  1    1.0       1 arra...   False\n",
      "3   1  1  0  0    2.0       1 arra...   False\n",
      "5   0  1  1  0    2.0       1 arra...    True\n",
      "6   1  0  1  0    2.0       1 arra...   False\n",
      "9   0  1  0  1    2.0       1 arra...   False\n",
      "10  1  0  0  1    2.0       1 arra...    True\n",
      "12  0  0  1  1    2.0       1 arra...   False\n",
      "7   1  1  1  0    3.0       1 arra...    True\n",
      "11  1  1  0  1    3.0       1 arra...    True\n",
      "13  0  1  1  1    3.0       1 arra...    True\n",
      "14  1  0  1  1    3.0       1 arra...    True\n",
      "15  1  1  1  1    4.0       1 arra...    True\n",
      "['INTEGER', 16 rows, 16 samples, 4 variables]\n"
     ]
    }
   ],
   "source": [
    "solver = dimod.ExactCQMSolver()\n",
    "solution = solver.sample_cqm(blp)\n",
    "print(\"The list of assignments is\")\n",
    "print(solution)"
   ]
  },
  {
   "cell_type": "code",
   "execution_count": 13,
   "id": "6d43e47b-5c00-4f02-a2da-b11aeff2d34e",
   "metadata": {},
   "outputs": [
    {
     "name": "stdout",
     "output_type": "stream",
     "text": [
      "  x0 x1 x2 x4 energy num_oc. is_sat. is_fea.\n",
      "0  0  1  1  0    2.0       1 arra...    True\n",
      "2  1  0  0  1    2.0       1 arra...    True\n",
      "1  1  1  1  0    3.0       1 arra...    True\n",
      "3  1  1  0  1    3.0       1 arra...    True\n",
      "4  0  1  1  1    3.0       1 arra...    True\n",
      "5  1  0  1  1    3.0       1 arra...    True\n",
      "6  1  1  1  1    4.0       1 arra...    True\n",
      "['INTEGER', 7 rows, 7 samples, 4 variables]\n"
     ]
    }
   ],
   "source": [
    "# Show only feasible solutions\n",
    "feasible_sols = solution.filter(lambda s: s.is_feasible)\n",
    "print(feasible_sols)"
   ]
  },
  {
   "cell_type": "code",
   "execution_count": 14,
   "id": "78886224-026c-411b-879f-2944b12b29ec",
   "metadata": {},
   "outputs": [
    {
     "data": {
      "text/plain": [
       "Sample(sample={'x0': 0, 'x1': 1, 'x2': 1, 'x4': 0}, energy=2.0, num_occurrences=1, is_satisfied=array([ True,  True,  True,  True]), is_feasible=True)"
      ]
     },
     "execution_count": 14,
     "metadata": {},
     "output_type": "execute_result"
    }
   ],
   "source": [
    "# Show the first one (which should be the best)\n",
    "feasible_sols.first"
   ]
  },
  {
   "cell_type": "markdown",
   "id": "aa3d66d7-2a88-4fde-9749-580ded7f25f4",
   "metadata": {},
   "source": [
    "#### Solve (in a D-Wave computer)"
   ]
  },
  {
   "cell_type": "code",
   "execution_count": 15,
   "id": "1e0ee5aa-b76b-4ddb-9a03-8b716cb4da55",
   "metadata": {},
   "outputs": [
    {
     "name": "stdout",
     "output_type": "stream",
     "text": [
      "BinaryQuadraticModel({'x0': -29.0, 'x1': -29.0, 'x2': -29.0, 'x4': -29.0, 'slack_v97ee0b149df44bef8ae06f1755e27690_0': -15.0, 'slack_v6c7c1b1d48fe4814ac3b3f6bf9399a74_0': -15.0, 'slack_v1faffd812c574819838cf9fdc0674d02_0': -15.0, 'slack_v1ac66b07e02847c998f9f0a63c285e6b_0': -15.0}, {('x1', 'x0'): 10.0, ('x2', 'x0'): 10.0, ('x4', 'x1'): 10.0, ('x4', 'x2'): 10.0, ('slack_v97ee0b149df44bef8ae06f1755e27690_0', 'x0'): 10.0, ('slack_v97ee0b149df44bef8ae06f1755e27690_0', 'x1'): 10.0, ('slack_v6c7c1b1d48fe4814ac3b3f6bf9399a74_0', 'x0'): 10.0, ('slack_v6c7c1b1d48fe4814ac3b3f6bf9399a74_0', 'x2'): 10.0, ('slack_v1faffd812c574819838cf9fdc0674d02_0', 'x1'): 10.0, ('slack_v1faffd812c574819838cf9fdc0674d02_0', 'x4'): 10.0, ('slack_v1ac66b07e02847c998f9f0a63c285e6b_0', 'x2'): 10.0, ('slack_v1ac66b07e02847c998f9f0a63c285e6b_0', 'x4'): 10.0}, 80.0, 'BINARY')\n"
     ]
    }
   ],
   "source": [
    "# Convert BLP to QUBO (necessary to run in a quantum annealing computer \n",
    "qubo, invert = dimod.cqm_to_bqm(  # Construct a binary quadratic model from a constrained quadratic model.\n",
    "    blp,\n",
    "    lagrange_multiplier = 5  # Notice that sum x_i == 4, and the constraints should not be minimized.\n",
    ")\n",
    "print(qubo)"
   ]
  },
  {
   "cell_type": "code",
   "execution_count": 16,
   "id": "d8366e58-6a91-4ae1-8ee2-e9a9250036d9",
   "metadata": {},
   "outputs": [
    {
     "name": "stdout",
     "output_type": "stream",
     "text": [
      "Variables(['x0', 'x1', 'x2', 'x4', 'slack_v97ee0b149df44bef8ae06f1755e27690_0', 'slack_v6c7c1b1d48fe4814ac3b3f6bf9399a74_0', 'slack_v1faffd812c574819838cf9fdc0674d02_0', 'slack_v1ac66b07e02847c998f9f0a63c285e6b_0'])\n"
     ]
    }
   ],
   "source": [
    "print(qubo.variables)"
   ]
  },
  {
   "cell_type": "code",
   "execution_count": 22,
   "id": "bc291587-9730-44bf-9beb-d4c7da80a90e",
   "metadata": {},
   "outputs": [],
   "source": [
    "sampler = EmbeddingComposite(DWaveSampler())\n",
    "solution = sampler.sample(qubo, num_reads=10)"
   ]
  },
  {
   "cell_type": "code",
   "execution_count": 23,
   "id": "198abdce-8c9f-4ea7-9f25-b17987b8a723",
   "metadata": {},
   "outputs": [
    {
     "name": "stdout",
     "output_type": "stream",
     "text": [
      "The solutions that we have obtained are\n",
      "  slack_v1ac66b07e02847c998f9f0a63c285e6b_0 ... x4 energy num_oc. chain_.\n",
      "0                                         1 ...  0    2.0       3     0.0\n",
      "1                                         1 ...  1    2.0       2     0.0\n",
      "2                                         0 ...  1    3.0       1     0.0\n",
      "3                                         0 ...  1    3.0       3     0.0\n",
      "4                                         0 ...  1    4.0       1     0.0\n",
      "['BINARY', 5 rows, 10 samples, 8 variables]\n"
     ]
    }
   ],
   "source": [
    "print(\"The solutions that we have obtained are\")\n",
    "print(solution)"
   ]
  },
  {
   "cell_type": "code",
   "execution_count": 24,
   "id": "f56266d1-1ddf-4477-aa7b-10940b7bcc6f",
   "metadata": {},
   "outputs": [
    {
     "name": "stdout",
     "output_type": "stream",
     "text": [
      "The solutions to the original problem are\n",
      "  x0 x1 x2 x4 energy num_oc. is_sat. is_fea.\n",
      "0  0  1  1  0    2.0       3 arra...    True\n",
      "1  1  0  0  1    2.0       2 arra...    True\n",
      "2  0  1  1  1    3.0       1 arra...    True\n",
      "3  1  0  1  1    3.0       3 arra...    True\n",
      "4  1  1  1  1    4.0       1 arra...    True\n",
      "['INTEGER', 5 rows, 10 samples, 4 variables]\n"
     ]
    }
   ],
   "source": [
    "samples = []\n",
    "occurrences = []\n",
    "for s in solution.data():\n",
    "    samples.append(invert(s.sample))\n",
    "    occurrences.append(s.num_occurrences)\n",
    "sampleset = dimod.SampleSet.from_samples_cqm(samples, blp, num_occurrences=occurrences)\n",
    "print(\"The solutions to the original problem are\")\n",
    "print(sampleset)"
   ]
  },
  {
   "cell_type": "markdown",
   "id": "845456a2-2554-4d03-b666-35dca61c3fad",
   "metadata": {},
   "source": [
    "### Using BLP (version 2)"
   ]
  },
  {
   "cell_type": "code",
   "execution_count": 25,
   "id": "0000aa68-78c9-41a2-91e3-29afed216109",
   "metadata": {},
   "outputs": [],
   "source": [
    "blp = dimod.ConstrainedQuadraticModel()\n",
    "blp.set_objective(x0+x1+x2+x3 + 5*((1-x0)*(1-x1) + (1-x0)*(1-x2) + (1-x1)*(1-x3) + (1-x2)*(1-x3)))"
   ]
  },
  {
   "cell_type": "markdown",
   "id": "1205491a-570e-4417-96ff-653a3f5e1540",
   "metadata": {},
   "source": [
    "blp = dimod.ConstrainedQuadraticModel()\n",
    "blp.set_objective(x0+x1+x2+x3)\n",
    "blp.add_constraint((1-x0)*(1-x1) == 0, \"Constraint 01\")\n",
    "blp.add_constraint((1-x0)*(1-x2) == 0, \"Constraint 02\")\n",
    "blp.add_constraint((1-x1)*(1-x3) == 0, \"Constraint 13\")\n",
    "blp.add_constraint((1-x2)*(1-x3) == 0, \"Constraint 23\")"
   ]
  },
  {
   "cell_type": "code",
   "execution_count": 26,
   "id": "86a100b6-7f23-4fac-9484-2d1cfe4bbc12",
   "metadata": {},
   "outputs": [
    {
     "name": "stdout",
     "output_type": "stream",
     "text": [
      "Our variables are:\n",
      "Variables(['x0', 'x1', 'x2', 'x4'])\n"
     ]
    }
   ],
   "source": [
    "print(\"Our variables are:\")\n",
    "print(blp.variables)"
   ]
  },
  {
   "cell_type": "code",
   "execution_count": 27,
   "id": "cc379b42-5531-4d32-bb67-c0a3cdec55a9",
   "metadata": {},
   "outputs": [
    {
     "name": "stdout",
     "output_type": "stream",
     "text": [
      "Our objective is:\n",
      "ObjectiveView({'x0': -9.0, 'x1': -9.0, 'x2': -9.0, 'x4': -9.0}, {('x1', 'x0'): 5.0, ('x2', 'x0'): 5.0, ('x4', 'x1'): 5.0, ('x4', 'x2'): 5.0}, 20.0, {'x0': 'BINARY', 'x1': 'BINARY', 'x2': 'BINARY', 'x4': 'BINARY'})\n"
     ]
    }
   ],
   "source": [
    "print(\"Our objective is:\")\n",
    "print(blp.objective)"
   ]
  },
  {
   "cell_type": "code",
   "execution_count": 28,
   "id": "3303998d-0ff2-4669-9665-e77b3124e2b2",
   "metadata": {},
   "outputs": [
    {
     "name": "stdout",
     "output_type": "stream",
     "text": [
      "Our constraints are:\n",
      "{}\n"
     ]
    }
   ],
   "source": [
    "print(\"Our constraints are:\")\n",
    "print(blp.constraints)"
   ]
  },
  {
   "cell_type": "markdown",
   "id": "a76ae696-549a-4af7-8353-4b290a9bbe26",
   "metadata": {},
   "source": [
    "#### Solve (in your host) using brute force"
   ]
  },
  {
   "cell_type": "code",
   "execution_count": 29,
   "id": "6af36610-b1f0-407b-9bae-8ff192ce9cb9",
   "metadata": {},
   "outputs": [
    {
     "name": "stdout",
     "output_type": "stream",
     "text": [
      "The list of assignments is\n",
      "   x0 x1 x2 x4 energy num_oc. is_sat. is_fea.\n",
      "5   0  1  1  0    2.0       1 arra...    True\n",
      "10  1  0  0  1    2.0       1 arra...    True\n",
      "7   1  1  1  0    3.0       1 arra...    True\n",
      "11  1  1  0  1    3.0       1 arra...    True\n",
      "13  0  1  1  1    3.0       1 arra...    True\n",
      "14  1  0  1  1    3.0       1 arra...    True\n",
      "15  1  1  1  1    4.0       1 arra...    True\n",
      "3   1  1  0  0    7.0       1 arra...    True\n",
      "6   1  0  1  0    7.0       1 arra...    True\n",
      "9   0  1  0  1    7.0       1 arra...    True\n",
      "12  0  0  1  1    7.0       1 arra...    True\n",
      "1   0  1  0  0   11.0       1 arra...    True\n",
      "2   1  0  0  0   11.0       1 arra...    True\n",
      "4   0  0  1  0   11.0       1 arra...    True\n",
      "8   0  0  0  1   11.0       1 arra...    True\n",
      "0   0  0  0  0   20.0       1 arra...    True\n",
      "['INTEGER', 16 rows, 16 samples, 4 variables]\n"
     ]
    }
   ],
   "source": [
    "solver = dimod.ExactCQMSolver()\n",
    "solution = solver.sample_cqm(blp)\n",
    "print(\"The list of assignments is\")\n",
    "print(solution)"
   ]
  },
  {
   "cell_type": "code",
   "execution_count": 15,
   "id": "28b620e4-f24e-4ec8-850a-872c94bf670c",
   "metadata": {},
   "outputs": [
    {
     "name": "stdout",
     "output_type": "stream",
     "text": [
      "   x0 x1 x2 x4 energy num_oc. is_sat. is_fea.\n",
      "5   0  1  1  0    2.0       1 arra...    True\n",
      "10  1  0  0  1    2.0       1 arra...    True\n",
      "7   1  1  1  0    3.0       1 arra...    True\n",
      "11  1  1  0  1    3.0       1 arra...    True\n",
      "13  0  1  1  1    3.0       1 arra...    True\n",
      "14  1  0  1  1    3.0       1 arra...    True\n",
      "15  1  1  1  1    4.0       1 arra...    True\n",
      "3   1  1  0  0    7.0       1 arra...    True\n",
      "6   1  0  1  0    7.0       1 arra...    True\n",
      "9   0  1  0  1    7.0       1 arra...    True\n",
      "12  0  0  1  1    7.0       1 arra...    True\n",
      "1   0  1  0  0   11.0       1 arra...    True\n",
      "2   1  0  0  0   11.0       1 arra...    True\n",
      "4   0  0  1  0   11.0       1 arra...    True\n",
      "8   0  0  0  1   11.0       1 arra...    True\n",
      "0   0  0  0  0   20.0       1 arra...    True\n",
      "['INTEGER', 16 rows, 16 samples, 4 variables]\n"
     ]
    },
    {
     "data": {
      "text/plain": [
       "Sample(sample={'x0': 0, 'x1': 1, 'x2': 1, 'x4': 0}, energy=2.0, num_occurrences=1, is_satisfied=array([], dtype=bool), is_feasible=True)"
      ]
     },
     "execution_count": 15,
     "metadata": {},
     "output_type": "execute_result"
    }
   ],
   "source": [
    "feasible_sols = solution.filter(lambda s: s.is_feasible)\n",
    "print(feasible_sols)\n",
    "feasible_sols.first"
   ]
  },
  {
   "cell_type": "markdown",
   "id": "f58292ad-b95c-43fb-9c2a-06e8151ed4f6",
   "metadata": {},
   "source": [
    "#### Solve (in a D-Wave computer)"
   ]
  },
  {
   "cell_type": "code",
   "execution_count": 30,
   "id": "b8b87a55-cc1e-47ab-8b1a-1530ca2b472b",
   "metadata": {},
   "outputs": [
    {
     "name": "stdout",
     "output_type": "stream",
     "text": [
      "BinaryQuadraticModel({'x0': -9.0, 'x1': -9.0, 'x2': -9.0, 'x4': -9.0}, {('x1', 'x0'): 5.0, ('x2', 'x0'): 5.0, ('x4', 'x1'): 5.0, ('x4', 'x2'): 5.0}, 20.0, 'BINARY')\n"
     ]
    }
   ],
   "source": [
    "qubo, invert = dimod.cqm_to_bqm(blp)\n",
    "print(qubo)"
   ]
  },
  {
   "cell_type": "code",
   "execution_count": 31,
   "id": "356e47c2-bcba-4fb1-807d-a63dd4bb79ff",
   "metadata": {},
   "outputs": [],
   "source": [
    "sampler = EmbeddingComposite(DWaveSampler())\n",
    "solution = sampler.sample(qubo, num_reads=10)"
   ]
  },
  {
   "cell_type": "code",
   "execution_count": 33,
   "id": "b75402a4-365e-4e28-bc05-47ebc1f25c42",
   "metadata": {},
   "outputs": [
    {
     "name": "stdout",
     "output_type": "stream",
     "text": [
      "The solutions that we have obtained are\n",
      "  x0 x1 x2 x4 energy num_oc. chain_.\n",
      "0  0  1  1  0    2.0       3     0.0\n",
      "1  1  0  0  1    2.0       5     0.0\n",
      "2  1  0  1  1    3.0       1     0.0\n",
      "3  1  1  1  0    3.0       1     0.0\n",
      "['BINARY', 4 rows, 10 samples, 4 variables]\n"
     ]
    }
   ],
   "source": [
    "print(\"The solutions that we have obtained are\")\n",
    "print(solution)"
   ]
  },
  {
   "cell_type": "code",
   "execution_count": 34,
   "id": "f98e9767-fd0b-4ca1-a0ca-4cb9d2d5679a",
   "metadata": {},
   "outputs": [
    {
     "name": "stdout",
     "output_type": "stream",
     "text": [
      "The solutions to the original problem are\n",
      "  x0 x1 x2 x4 energy num_oc. is_sat. is_fea.\n",
      "0  0  1  1  0    2.0       3 arra...    True\n",
      "1  1  0  0  1    2.0       5 arra...    True\n",
      "2  1  0  1  1    3.0       1 arra...    True\n",
      "3  1  1  1  0    3.0       1 arra...    True\n",
      "['INTEGER', 4 rows, 10 samples, 4 variables]\n"
     ]
    }
   ],
   "source": [
    "samples = []\n",
    "occurrences = []\n",
    "for s in solution.data():\n",
    "    samples.append(invert(s.sample))\n",
    "    occurrences.append(s.num_occurrences)\n",
    "sampleset = dimod.SampleSet.from_samples_cqm(samples, blp, num_occurrences=occurrences)\n",
    "print(\"The solutions to the original problem are\")\n",
    "print(sampleset)"
   ]
  },
  {
   "cell_type": "markdown",
   "id": "2fd67574-08d2-4728-964a-2e93052806b4",
   "metadata": {},
   "source": [
    "### Using BLP (version 1) - alternative implementation"
   ]
  },
  {
   "cell_type": "code",
   "execution_count": 35,
   "id": "e9c66b36-eb0c-4428-9d43-4070e79c2e74",
   "metadata": {},
   "outputs": [
    {
     "data": {
      "text/plain": [
       "[BinaryQuadraticModel({'x0': 1.0}, {}, 0.0, 'BINARY'),\n",
       " BinaryQuadraticModel({'x1': 1.0}, {}, 0.0, 'BINARY'),\n",
       " BinaryQuadraticModel({'x2': 1.0}, {}, 0.0, 'BINARY'),\n",
       " BinaryQuadraticModel({'x3': 1.0}, {}, 0.0, 'BINARY')]"
      ]
     },
     "execution_count": 35,
     "metadata": {},
     "output_type": "execute_result"
    }
   ],
   "source": [
    "x = []\n",
    "N = 4\n",
    "for i in range(N):\n",
    "    x.append(dimod.Binary(f'x{i}'))\n",
    "x"
   ]
  },
  {
   "cell_type": "code",
   "execution_count": 36,
   "id": "4d47991f-ae5d-44ab-b3ba-5439936ab51b",
   "metadata": {},
   "outputs": [
    {
     "data": {
      "text/plain": [
       "BinaryQuadraticModel({'x0': 1.0, 'x1': 1.0, 'x2': 1.0, 'x3': 1.0}, {}, 0.0, 'BINARY')"
      ]
     },
     "execution_count": 36,
     "metadata": {},
     "output_type": "execute_result"
    }
   ],
   "source": [
    "sum(x)"
   ]
  },
  {
   "cell_type": "code",
   "execution_count": 37,
   "id": "ad11fff6-3010-40bf-9493-0c9aa6bbc1c6",
   "metadata": {},
   "outputs": [],
   "source": [
    "blp = dimod.ConstrainedQuadraticModel()\n",
    "blp.set_objective(sum(x))"
   ]
  },
  {
   "cell_type": "code",
   "execution_count": 38,
   "id": "5ec559b0-c823-4783-867b-f8c11b8be555",
   "metadata": {},
   "outputs": [],
   "source": [
    "E = [(0,1), (0,2), (1,3), (2,3)]"
   ]
  },
  {
   "cell_type": "code",
   "execution_count": 39,
   "id": "d12e97fe-e275-47a3-b311-df44a8249fd5",
   "metadata": {},
   "outputs": [
    {
     "name": "stdout",
     "output_type": "stream",
     "text": [
      "Constrained quadratic model: 4 variables, 4 constraints, 12 biases\n",
      "\n",
      "Objective\n",
      "  Binary('x0') + Binary('x1') + Binary('x2') + Binary('x3')\n",
      "\n",
      "Constraints\n",
      "  c0649ae: Binary('x0') + Binary('x1') >= 1.0\n",
      "  c3f55c3: Binary('x0') + Binary('x2') >= 1.0\n",
      "  c27b739: Binary('x1') + Binary('x3') >= 1.0\n",
      "  ca9ae47: Binary('x2') + Binary('x3') >= 1.0\n",
      "\n",
      "Bounds\n",
      "\n"
     ]
    }
   ],
   "source": [
    "for a in E:\n",
    "    blp.add_constraint(x[a[0]] + x[a[1]] >= 1)\n",
    "print(blp)"
   ]
  },
  {
   "cell_type": "code",
   "execution_count": 41,
   "id": "637a5fa4-69f0-4737-a812-0a6a13f7b7c4",
   "metadata": {},
   "outputs": [
    {
     "name": "stdout",
     "output_type": "stream",
     "text": [
      "Constrained quadratic model: 4 variables, 0 constraints, 8 biases\n",
      "\n",
      "Objective\n",
      "  20 - 9*Binary('x0') - 9*Binary('x1') - 9*Binary('x2') - 9*Binary('x3') + 5*Binary('x0')*Binary('x1') + 5*Binary('x0')*Binary('x2') + 5*Binary('x1')*Binary('x3') + 5*Binary('x2')*Binary('x3')\n",
      "\n",
      "Constraints\n",
      "\n",
      "Bounds\n",
      "\n"
     ]
    }
   ],
   "source": [
    "blp = dimod.ConstrainedQuadraticModel()\n",
    "c = 0\n",
    "for a in E: \n",
    "    c += (1-x[a[0]])*(1-x[a[1]])\n",
    "blp.set_objective(sum(x) + (N+1)*c)\n",
    "print(blp)"
   ]
  },
  {
   "cell_type": "code",
   "execution_count": 42,
   "id": "394a6387-0e06-485a-a035-c103d2e318c8",
   "metadata": {},
   "outputs": [
    {
     "name": "stdout",
     "output_type": "stream",
     "text": [
      "Our variables are:\n",
      "Variables(['x0', 'x1', 'x2', 'x3'])\n"
     ]
    }
   ],
   "source": [
    "print(\"Our variables are:\")\n",
    "print(blp.variables)"
   ]
  },
  {
   "cell_type": "code",
   "execution_count": 43,
   "id": "74b8c30f-20fd-4162-b0ae-fb09addea45e",
   "metadata": {},
   "outputs": [
    {
     "name": "stdout",
     "output_type": "stream",
     "text": [
      "Our objective is:\n",
      "ObjectiveView({'x0': -9.0, 'x1': -9.0, 'x2': -9.0, 'x3': -9.0}, {('x1', 'x0'): 5.0, ('x2', 'x0'): 5.0, ('x3', 'x1'): 5.0, ('x3', 'x2'): 5.0}, 20.0, {'x0': 'BINARY', 'x1': 'BINARY', 'x2': 'BINARY', 'x3': 'BINARY'})\n"
     ]
    }
   ],
   "source": [
    "print(\"Our objective is:\")\n",
    "print(blp.objective)"
   ]
  },
  {
   "cell_type": "code",
   "execution_count": 44,
   "id": "2c0f6b3c-3ce9-436d-b17a-268d42096e87",
   "metadata": {},
   "outputs": [
    {
     "name": "stdout",
     "output_type": "stream",
     "text": [
      "Our constraints are:\n",
      "{}\n"
     ]
    }
   ],
   "source": [
    "print(\"Our constraints are:\")\n",
    "print(blp.constraints)"
   ]
  },
  {
   "cell_type": "markdown",
   "id": "b9933e92-21bd-420a-8000-10e9ae632f3d",
   "metadata": {},
   "source": [
    "#### Solve (in your host) using brute force"
   ]
  },
  {
   "cell_type": "code",
   "execution_count": 45,
   "id": "144cf3fb-d5cd-4d08-b4c1-1d37f16ce083",
   "metadata": {},
   "outputs": [
    {
     "name": "stdout",
     "output_type": "stream",
     "text": [
      "The list of assignments is\n",
      "   x0 x1 x2 x3 energy num_oc. is_sat. is_fea.\n",
      "5   0  1  1  0    2.0       1 arra...    True\n",
      "10  1  0  0  1    2.0       1 arra...    True\n",
      "7   1  1  1  0    3.0       1 arra...    True\n",
      "11  1  1  0  1    3.0       1 arra...    True\n",
      "13  0  1  1  1    3.0       1 arra...    True\n",
      "14  1  0  1  1    3.0       1 arra...    True\n",
      "15  1  1  1  1    4.0       1 arra...    True\n",
      "3   1  1  0  0    7.0       1 arra...    True\n",
      "6   1  0  1  0    7.0       1 arra...    True\n",
      "9   0  1  0  1    7.0       1 arra...    True\n",
      "12  0  0  1  1    7.0       1 arra...    True\n",
      "1   0  1  0  0   11.0       1 arra...    True\n",
      "2   1  0  0  0   11.0       1 arra...    True\n",
      "4   0  0  1  0   11.0       1 arra...    True\n",
      "8   0  0  0  1   11.0       1 arra...    True\n",
      "0   0  0  0  0   20.0       1 arra...    True\n",
      "['INTEGER', 16 rows, 16 samples, 4 variables]\n"
     ]
    }
   ],
   "source": [
    "solver = dimod.ExactCQMSolver()\n",
    "solution = solver.sample_cqm(blp)\n",
    "print(\"The list of assignments is\")\n",
    "print(solution)"
   ]
  },
  {
   "cell_type": "markdown",
   "id": "8dadca25-30e6-4299-9711-ff484c56a1ff",
   "metadata": {},
   "source": [
    "#### Solve (in a D-Wave computer)"
   ]
  },
  {
   "cell_type": "code",
   "execution_count": 46,
   "id": "70f0a892-794c-405e-a7f6-8729fea858b8",
   "metadata": {},
   "outputs": [
    {
     "name": "stdout",
     "output_type": "stream",
     "text": [
      "BinaryQuadraticModel({'x0': -9.0, 'x1': -9.0, 'x2': -9.0, 'x3': -9.0}, {('x1', 'x0'): 5.0, ('x2', 'x0'): 5.0, ('x3', 'x1'): 5.0, ('x3', 'x2'): 5.0}, 20.0, 'BINARY')\n"
     ]
    }
   ],
   "source": [
    "qubo, invert = dimod.cqm_to_bqm(blp)\n",
    "print(qubo)"
   ]
  },
  {
   "cell_type": "code",
   "execution_count": 47,
   "id": "e1fa0a6f-ce94-40a5-b128-af9d41e8be42",
   "metadata": {},
   "outputs": [],
   "source": [
    "sampler = EmbeddingComposite(DWaveSampler())\n",
    "solution = sampler.sample(qubo, num_reads=10)"
   ]
  },
  {
   "cell_type": "code",
   "execution_count": 49,
   "id": "3930f513-7f52-4ea8-aa3f-cb3e3d7341c4",
   "metadata": {},
   "outputs": [
    {
     "name": "stdout",
     "output_type": "stream",
     "text": [
      "The solutions that we have obtained are\n",
      "  x0 x1 x2 x3 energy num_oc. chain_.\n",
      "0  1  0  0  1    2.0       6     0.0\n",
      "1  0  1  1  0    2.0       3     0.0\n",
      "2  0  1  1  1    3.0       1     0.0\n",
      "['BINARY', 3 rows, 10 samples, 4 variables]\n"
     ]
    }
   ],
   "source": [
    "print(\"The solutions that we have obtained are\")\n",
    "print(solution)"
   ]
  },
  {
   "cell_type": "markdown",
   "id": "c21b7055-1cde-43cc-af91-257e5ac2a1ac",
   "metadata": {},
   "source": [
    "## Random graph"
   ]
  },
  {
   "cell_type": "code",
   "execution_count": 51,
   "id": "5db726bb-c797-4c6b-97fd-b74dadc069e7",
   "metadata": {},
   "outputs": [
    {
     "data": {
      "text/plain": [
       "[BinaryQuadraticModel({'x0': 1.0}, {}, 0.0, 'BINARY'),\n",
       " BinaryQuadraticModel({'x1': 1.0}, {}, 0.0, 'BINARY'),\n",
       " BinaryQuadraticModel({'x2': 1.0}, {}, 0.0, 'BINARY'),\n",
       " BinaryQuadraticModel({'x3': 1.0}, {}, 0.0, 'BINARY'),\n",
       " BinaryQuadraticModel({'x4': 1.0}, {}, 0.0, 'BINARY'),\n",
       " BinaryQuadraticModel({'x5': 1.0}, {}, 0.0, 'BINARY'),\n",
       " BinaryQuadraticModel({'x6': 1.0}, {}, 0.0, 'BINARY'),\n",
       " BinaryQuadraticModel({'x7': 1.0}, {}, 0.0, 'BINARY'),\n",
       " BinaryQuadraticModel({'x8': 1.0}, {}, 0.0, 'BINARY'),\n",
       " BinaryQuadraticModel({'x9': 1.0}, {}, 0.0, 'BINARY')]"
      ]
     },
     "execution_count": 51,
     "metadata": {},
     "output_type": "execute_result"
    }
   ],
   "source": [
    "x = []\n",
    "N = 10\n",
    "for i in range(N):\n",
    "    x.append(dimod.Binary(f'x{i}'))\n",
    "x"
   ]
  },
  {
   "cell_type": "code",
   "execution_count": 52,
   "id": "7462542e-fd58-4d0d-a4e2-f642abcf34b6",
   "metadata": {},
   "outputs": [
    {
     "data": {
      "text/plain": [
       "[(2, 9),\n",
       " (3, 4),\n",
       " (4, 2),\n",
       " (3, 6),\n",
       " (7, 6),\n",
       " (6, 2),\n",
       " (4, 8),\n",
       " (8, 0),\n",
       " (4, 3),\n",
       " (9, 1),\n",
       " (9, 3),\n",
       " (8, 1),\n",
       " (0, 4),\n",
       " (6, 1),\n",
       " (5, 2),\n",
       " (4, 8),\n",
       " (1, 9),\n",
       " (2, 4),\n",
       " (4, 1),\n",
       " (4, 6),\n",
       " (4, 9),\n",
       " (4, 1),\n",
       " (3, 0),\n",
       " (6, 8),\n",
       " (7, 0),\n",
       " (0, 8),\n",
       " (6, 0),\n",
       " (9, 0),\n",
       " (6, 9),\n",
       " (9, 3)]"
      ]
     },
     "execution_count": 52,
     "metadata": {},
     "output_type": "execute_result"
    }
   ],
   "source": [
    "E = []\n",
    "for i in range(N*3):\n",
    "    j = random.randint(0, N-1)\n",
    "    k = random.randint(0, N-1)\n",
    "    if j != k:\n",
    "        E.append((j, k))\n",
    "E"
   ]
  },
  {
   "cell_type": "code",
   "execution_count": 53,
   "id": "11da3347-a299-4295-9741-6b9c545f5099",
   "metadata": {},
   "outputs": [
    {
     "name": "stdout",
     "output_type": "stream",
     "text": [
      "Constrained quadratic model: 10 variables, 0 constraints, 33 biases\n",
      "\n",
      "Objective\n",
      "  330 - 76*Binary('x0') - 65*Binary('x1') - 54*Binary('x2') - 65*Binary('x3') - 120*Binary('x4') - 10*Binary('x5') - 87*Binary('x6') - 21*Binary('x7') - 65*Binary('x8') - 87*Binary('x9') + 11*Binary('x0')*Binary('x3') + 11*Binary('x0')*Binary('x4') + 22*Binary('x1')*Binary('x4') + 22*Binary('x2')*Binary('x4') + 22*Binary('x3')*Binary('x4') + 11*Binary('x2')*Binary('x5') + 11*Binary('x0')*Binary('x6') + 11*Binary('x1')*Binary('x6') + 11*Binary('x2')*Binary('x6') + 11*Binary('x3')*Binary('x6') + 11*Binary('x4')*Binary('x6') + 11*Binary('x0')*Binary('x7') + 11*Binary('x6')*Binary('x7') + 22*Binary('x0')*Binary('x8') + 11*Binary('x1')*Binary('x8') + 22*Binary('x4')*Binary('x8') + 11*Binary('x6')*Binary('x8') + 11*Binary('x0')*Binary('x9') + 22*Binary('x1')*Binary('x9') + 11*Binary('x2')*Binary('x9') + 22*Binary('x3')*Binary('x9') + 11*Binary('x4')*Binary('x9') + 11*Binary('x6')*Binary('x9')\n",
      "\n",
      "Constraints\n",
      "\n",
      "Bounds\n",
      "\n"
     ]
    }
   ],
   "source": [
    "# Add constraints (with Lagrange multiplier)\n",
    "blp = dimod.ConstrainedQuadraticModel()\n",
    "C = 0\n",
    "for a in E: \n",
    "    C += (1-x[a[0]])*(1-x[a[1]])\n",
    "blp.set_objective(sum(x) + (N+1)*(C))\n",
    "print(blp)"
   ]
  },
  {
   "cell_type": "code",
   "execution_count": 54,
   "id": "23b4b0b7-a570-47fd-a255-f4d12b170ffc",
   "metadata": {},
   "outputs": [
    {
     "name": "stdout",
     "output_type": "stream",
     "text": [
      "Our variables are:\n",
      "Variables(['x0', 'x1', 'x2', 'x3', 'x4', 'x5', 'x6', 'x7', 'x8', 'x9'])\n"
     ]
    }
   ],
   "source": [
    "print(\"Our variables are:\")\n",
    "print(blp.variables)"
   ]
  },
  {
   "cell_type": "code",
   "execution_count": 55,
   "id": "2d01bbea-fec9-4a48-934b-36082a0d43d8",
   "metadata": {},
   "outputs": [
    {
     "name": "stdout",
     "output_type": "stream",
     "text": [
      "Our objective is:\n",
      "ObjectiveView({'x0': -76.0, 'x1': -65.0, 'x2': -54.0, 'x3': -65.0, 'x4': -120.0, 'x5': -10.0, 'x6': -87.0, 'x7': -21.0, 'x8': -65.0, 'x9': -87.0}, {('x3', 'x0'): 11.0, ('x4', 'x0'): 11.0, ('x4', 'x1'): 22.0, ('x4', 'x2'): 22.0, ('x4', 'x3'): 22.0, ('x5', 'x2'): 11.0, ('x6', 'x0'): 11.0, ('x6', 'x1'): 11.0, ('x6', 'x2'): 11.0, ('x6', 'x3'): 11.0, ('x6', 'x4'): 11.0, ('x7', 'x0'): 11.0, ('x7', 'x6'): 11.0, ('x8', 'x0'): 22.0, ('x8', 'x1'): 11.0, ('x8', 'x4'): 22.0, ('x8', 'x6'): 11.0, ('x9', 'x0'): 11.0, ('x9', 'x1'): 22.0, ('x9', 'x2'): 11.0, ('x9', 'x3'): 22.0, ('x9', 'x4'): 11.0, ('x9', 'x6'): 11.0}, 330.0, {'x0': 'BINARY', 'x1': 'BINARY', 'x2': 'BINARY', 'x3': 'BINARY', 'x4': 'BINARY', 'x5': 'BINARY', 'x6': 'BINARY', 'x7': 'BINARY', 'x8': 'BINARY', 'x9': 'BINARY'})\n"
     ]
    }
   ],
   "source": [
    "print(\"Our objective is:\")\n",
    "print(blp.objective)"
   ]
  },
  {
   "cell_type": "code",
   "execution_count": 56,
   "id": "b4bd08db-7b48-4702-8c62-a4229a51456f",
   "metadata": {},
   "outputs": [
    {
     "name": "stdout",
     "output_type": "stream",
     "text": [
      "Our constraints are:\n",
      "{}\n"
     ]
    }
   ],
   "source": [
    "print(\"Our constraints are:\")\n",
    "print(blp.constraints)"
   ]
  },
  {
   "cell_type": "markdown",
   "id": "4ec55c62-c794-4294-995f-6461b9a86874",
   "metadata": {},
   "source": [
    "#### Solve (in your host) using brute force"
   ]
  },
  {
   "cell_type": "code",
   "execution_count": 57,
   "id": "1f48035c-ffcb-4e8c-9ba8-cc3c1676a227",
   "metadata": {
    "scrolled": true
   },
   "outputs": [
    {
     "name": "stdout",
     "output_type": "stream",
     "text": [
      "The list of assignments is\n",
      "     x0 x1 x2 x3 x4 x5 x6 x7 x8 x9 energy num_oc. is_sat. is_fea.\n",
      "95    1  1  1  1  1  0  1  0  0  0    6.0       1 arra...    True\n",
      "599   1  1  1  0  1  0  1  0  0  1    6.0       1 arra...    True\n",
      "627   1  1  0  0  1  1  1  0  0  1    6.0       1 arra...    True\n",
      "854   1  0  1  0  1  0  1  0  1  1    6.0       1 arra...    True\n",
      "882   1  0  0  0  1  1  1  0  1  1    6.0       1 arra...    True\n",
      "127   1  1  1  1  1  1  1  0  0  0    7.0       1 arra...    True\n",
      "223   1  1  1  1  1  0  1  1  0  0    7.0       1 arra...    True\n",
      "351   1  1  1  1  1  0  1  0  1  0    7.0       1 arra...    True\n",
      "607   1  1  1  1  1  0  1  0  0  1    7.0       1 arra...    True\n",
      "631   1  1  1  0  1  1  1  0  0  1    7.0       1 arra...    True\n",
      "635   1  1  0  1  1  1  1  0  0  1    7.0       1 arra...    True\n",
      "727   1  1  1  0  1  0  1  1  0  1    7.0       1 arra...    True\n",
      "755   1  1  0  0  1  1  1  1  0  1    7.0       1 arra...    True\n",
      "847   1  1  1  1  0  0  1  0  1  1    7.0       1 arra...    True\n",
      "855   1  1  1  0  1  0  1  0  1  1    7.0       1 arra...    True\n",
      "862   1  0  1  1  1  0  1  0  1  1    7.0       1 arra...    True\n",
      "883   1  1  0  0  1  1  1  0  1  1    7.0       1 arra...    True\n",
      "886   1  0  1  0  1  1  1  0  1  1    7.0       1 arra...    True\n",
      "890   1  0  0  1  1  1  1  0  1  1    7.0       1 arra...    True\n",
      "982   1  0  1  0  1  0  1  1  1  1    7.0       1 arra...    True\n",
      "988   0  0  1  1  1  0  1  1  1  1    7.0       1 arra...    True\n",
      "1010  1  0  0  0  1  1  1  1  1  1    7.0       1 arra...    True\n",
      "1016  0  0  0  1  1  1  1  1  1  1    7.0       1 arra...    True\n",
      "255   1  1  1  1  1  1  1  1  0  0    8.0       1 arra...    True\n",
      "383   1  1  1  1  1  1  1  0  1  0    8.0       1 arra...    True\n",
      "479   1  1  1  1  1  0  1  1  1  0    8.0       1 arra...    True\n",
      "639   1  1  1  1  1  1  1  0  0  1    8.0       1 arra...    True\n",
      "735   1  1  1  1  1  0  1  1  0  1    8.0       1 arra...    True\n",
      "759   1  1  1  0  1  1  1  1  0  1    8.0       1 arra...    True\n",
      "763   1  1  0  1  1  1  1  1  0  1    8.0       1 arra...    True\n",
      "863   1  1  1  1  1  0  1  0  1  1    8.0       1 arra...    True\n",
      "879   1  1  1  1  0  1  1  0  1  1    8.0       1 arra...    True\n",
      "887   1  1  1  0  1  1  1  0  1  1    8.0       1 arra...    True\n",
      "891   1  1  0  1  1  1  1  0  1  1    8.0       1 arra...    True\n",
      "894   1  0  1  1  1  1  1  0  1  1    8.0       1 arra...    True\n",
      "927   1  1  1  1  1  0  0  1  1  1    8.0       1 arra...    True\n",
      "975   1  1  1  1  0  0  1  1  1  1    8.0       1 arra...    True\n",
      "983   1  1  1  0  1  0  1  1  1  1    8.0       1 arra...    True\n",
      "989   0  1  1  1  1  0  1  1  1  1    8.0       1 arra...    True\n",
      "990   1  0  1  1  1  0  1  1  1  1    8.0       1 arra...    True\n",
      "1011  1  1  0  0  1  1  1  1  1  1    8.0       1 arra...    True\n",
      "1014  1  0  1  0  1  1  1  1  1  1    8.0       1 arra...    True\n",
      "1017  0  1  0  1  1  1  1  1  1  1    8.0       1 arra...    True\n",
      "1018  1  0  0  1  1  1  1  1  1  1    8.0       1 arra...    True\n",
      "1020  0  0  1  1  1  1  1  1  1  1    8.0       1 arra...    True\n",
      "511   1  1  1  1  1  1  1  1  1  0    9.0       1 arra...    True\n",
      "767   1  1  1  1  1  1  1  1  0  1    9.0       1 arra...    True\n",
      "895   1  1  1  1  1  1  1  0  1  1    9.0       1 arra...    True\n",
      "959   1  1  1  1  1  1  0  1  1  1    9.0       1 arra...    True\n",
      "991   1  1  1  1  1  0  1  1  1  1    9.0       1 arra...    True\n",
      "1007  1  1  1  1  0  1  1  1  1  1    9.0       1 arra...    True\n",
      "1015  1  1  1  0  1  1  1  1  1  1    9.0       1 arra...    True\n",
      "1019  1  1  0  1  1  1  1  1  1  1    9.0       1 arra...    True\n",
      "1021  0  1  1  1  1  1  1  1  1  1    9.0       1 arra...    True\n",
      "1022  1  0  1  1  1  1  1  1  1  1    9.0       1 arra...    True\n",
      "1023  1  1  1  1  1  1  1  1  1  1   10.0       1 arra...    True\n",
      "595   1  1  0  0  1  0  1  0  0  1   16.0       1 arra...    True\n",
      "598   1  0  1  0  1  0  1  0  0  1   16.0       1 arra...    True\n",
      "626   1  0  0  0  1  1  1  0  0  1   16.0       1 arra...    True\n",
      "850   1  0  0  0  1  0  1  0  1  1   16.0       1 arra...    True\n",
      "123   1  1  0  1  1  1  1  0  0  0   17.0       1 arra...    True\n",
      "335   1  1  1  1  0  0  1  0  1  0   17.0       1 arra...    True\n",
      "603   1  1  0  1  1  0  1  0  0  1   17.0       1 arra...    True\n",
      "606   1  0  1  1  1  0  1  0  0  1   17.0       1 arra...    True\n",
      "630   1  0  1  0  1  1  1  0  0  1   17.0       1 arra...    True\n",
      "634   1  0  0  1  1  1  1  0  0  1   17.0       1 arra...    True\n",
      "723   1  1  0  0  1  0  1  1  0  1   17.0       1 arra...    True\n",
      "726   1  0  1  0  1  0  1  1  0  1   17.0       1 arra...    True\n",
      "754   1  0  0  0  1  1  1  1  0  1   17.0       1 arra...    True\n",
      "851   1  1  0  0  1  0  1  0  1  1   17.0       1 arra...    True\n",
      "858   1  0  0  1  1  0  1  0  1  1   17.0       1 arra...    True\n",
      "860   0  0  1  1  1  0  1  0  1  1   17.0       1 arra...    True\n",
      "888   0  0  0  1  1  1  1  0  1  1   17.0       1 arra...    True\n",
      "978   1  0  0  0  1  0  1  1  1  1   17.0       1 arra...    True\n",
      "980   0  0  1  0  1  0  1  1  1  1   17.0       1 arra...    True\n",
      "984   0  0  0  1  1  0  1  1  1  1   17.0       1 arra...    True\n",
      "1008  0  0  0  0  1  1  1  1  1  1   17.0       1 arra...    True\n",
      "251   1  1  0  1  1  1  1  1  0  0   18.0       1 arra...    True\n",
      "367   1  1  1  1  0  1  1  0  1  0   18.0       1 arra...    True\n",
      "379   1  1  0  1  1  1  1  0  1  0   18.0       1 arra...    True\n",
      "415   1  1  1  1  1  0  0  1  1  0   18.0       1 arra...    True\n",
      "463   1  1  1  1  0  0  1  1  1  0   18.0       1 arra...    True\n",
      "477   0  1  1  1  1  0  1  1  1  0   18.0       1 arra...    True\n",
      "638   1  0  1  1  1  1  1  0  0  1   18.0       1 arra...    True\n",
      "671   1  1  1  1  1  0  0  1  0  1   18.0       1 arra...    True\n",
      "731   1  1  0  1  1  0  1  1  0  1   18.0       1 arra...    True\n",
      "734   1  0  1  1  1  0  1  1  0  1   18.0       1 arra...    True\n",
      "758   1  0  1  0  1  1  1  1  0  1   18.0       1 arra...    True\n",
      "762   1  0  0  1  1  1  1  1  0  1   18.0       1 arra...    True\n",
      "799   1  1  1  1  1  0  0  0  1  1   18.0       1 arra...    True\n",
      "859   1  1  0  1  1  0  1  0  1  1   18.0       1 arra...    True\n",
      "861   0  1  1  1  1  0  1  0  1  1   18.0       1 arra...    True\n",
      "889   0  1  0  1  1  1  1  0  1  1   18.0       1 arra...    True\n",
      "892   0  0  1  1  1  1  1  0  1  1   18.0       1 arra...    True\n",
      "911   1  1  1  1  0  0  0  1  1  1   18.0       1 arra...    True\n",
      "919   1  1  1  0  1  0  0  1  1  1   18.0       1 arra...    True\n",
      "925   0  1  1  1  1  0  0  1  1  1   18.0       1 arra...    True\n",
      "926   1  0  1  1  1  0  0  1  1  1   18.0       1 arra...    True\n",
      "973   0  1  1  1  0  0  1  1  1  1   18.0       1 arra...    True\n",
      "979   1  1  0  0  1  0  1  1  1  1   18.0       1 arra...    True\n",
      "981   0  1  1  0  1  0  1  1  1  1   18.0       1 arra...    True\n",
      "985   0  1  0  1  1  0  1  1  1  1   18.0       1 arra...    True\n",
      "986   1  0  0  1  1  0  1  1  1  1   18.0       1 arra...    True\n",
      "1009  0  1  0  0  1  1  1  1  1  1   18.0       1 arra...    True\n",
      "1012  0  0  1  0  1  1  1  1  1  1   18.0       1 arra...    True\n",
      "447   1  1  1  1  1  1  0  1  1  0   19.0       1 arra...    True\n",
      "495   1  1  1  1  0  1  1  1  1  0   19.0       1 arra...    True\n",
      "507   1  1  0  1  1  1  1  1  1  0   19.0       1 arra...    True\n",
      "509   0  1  1  1  1  1  1  1  1  0   19.0       1 arra...    True\n",
      "703   1  1  1  1  1  1  0  1  0  1   19.0       1 arra...    True\n",
      "766   1  0  1  1  1  1  1  1  0  1   19.0       1 arra...    True\n",
      "831   1  1  1  1  1  1  0  0  1  1   19.0       1 arra...    True\n",
      "893   0  1  1  1  1  1  1  0  1  1   19.0       1 arra...    True\n",
      "943   1  1  1  1  0  1  0  1  1  1   19.0       1 arra...    True\n",
      "951   1  1  1  0  1  1  0  1  1  1   19.0       1 arra...    True\n",
      "955   1  1  0  1  1  1  0  1  1  1   19.0       1 arra...    True\n",
      "957   0  1  1  1  1  1  0  1  1  1   19.0       1 arra...    True\n",
      "958   1  0  1  1  1  1  0  1  1  1   19.0       1 arra...    True\n",
      "987   1  1  0  1  1  0  1  1  1  1   19.0       1 arra...    True\n",
      "1005  0  1  1  1  0  1  1  1  1  1   19.0       1 arra...    True\n",
      "1013  0  1  1  0  1  1  1  1  1  1   19.0       1 arra...    True\n",
      "594   1  0  0  0  1  0  1  0  0  1   26.0       1 arra...    True\n",
      "87    1  1  1  0  1  0  1  0  0  0   27.0       1 arra...    True\n",
      "91    1  1  0  1  1  0  1  0  0  0   27.0       1 arra...    True\n",
      "602   1  0  0  1  1  0  1  0  0  1   27.0       1 arra...    True\n",
      "722   1  0  0  0  1  0  1  1  0  1   27.0       1 arra...    True\n",
      "852   0  0  1  0  1  0  1  0  1  1   27.0       1 arra...    True\n",
      "856   0  0  0  1  1  0  1  0  1  1   27.0       1 arra...    True\n",
      "880   0  0  0  0  1  1  1  0  1  1   27.0       1 arra...    True\n",
      "976   0  0  0  0  1  0  1  1  1  1   27.0       1 arra...    True\n",
      "119   1  1  1  0  1  1  1  0  0  0   28.0       1 arra...    True\n",
      "159   1  1  1  1  1  0  0  1  0  0   28.0       1 arra...    True\n",
      "215   1  1  1  0  1  0  1  1  0  0   28.0       1 arra...    True\n",
      "219   1  1  0  1  1  0  1  1  0  0   28.0       1 arra...    True\n",
      "287   1  1  1  1  1  0  0  0  1  0   28.0       1 arra...    True\n",
      "343   1  1  1  0  1  0  1  0  1  0   28.0       1 arra...    True\n",
      "347   1  1  0  1  1  0  1  0  1  0   28.0       1 arra...    True\n",
      "349   0  1  1  1  1  0  1  0  1  0   28.0       1 arra...    True\n",
      "350   1  0  1  1  1  0  1  0  1  0   28.0       1 arra...    True\n",
      "543   1  1  1  1  1  0  0  0  0  1   28.0       1 arra...    True\n",
      "591   1  1  1  1  0  0  1  0  0  1   28.0       1 arra...    True\n",
      "663   1  1  1  0  1  0  0  1  0  1   28.0       1 arra...    True\n",
      "730   1  0  0  1  1  0  1  1  0  1   28.0       1 arra...    True\n",
      "783   1  1  1  1  0  0  0  0  1  1   28.0       1 arra...    True\n",
      "791   1  1  1  0  1  0  0  0  1  1   28.0       1 arra...    True\n",
      "798   1  0  1  1  1  0  0  0  1  1   28.0       1 arra...    True\n",
      "839   1  1  1  0  0  0  1  0  1  1   28.0       1 arra...    True\n",
      "845   0  1  1  1  0  0  1  0  1  1   28.0       1 arra...    True\n",
      "846   1  0  1  1  0  0  1  0  1  1   28.0       1 arra...    True\n",
      "853   0  1  1  0  1  0  1  0  1  1   28.0       1 arra...    True\n",
      "857   0  1  0  1  1  0  1  0  1  1   28.0       1 arra...    True\n",
      "881   0  1  0  0  1  1  1  0  1  1   28.0       1 arra...    True\n",
      "884   0  0  1  0  1  1  1  0  1  1   28.0       1 arra...    True\n",
      "918   1  0  1  0  1  0  0  1  1  1   28.0       1 arra...    True\n",
      "924   0  0  1  1  1  0  0  1  1  1   28.0       1 arra...    True\n",
      "977   0  1  0  0  1  0  1  1  1  1   28.0       1 arra...    True\n",
      "191   1  1  1  1  1  1  0  1  0  0   29.0       1 arra...    True\n",
      "247   1  1  1  0  1  1  1  1  0  0   29.0       1 arra...    True\n",
      "319   1  1  1  1  1  1  0  0  1  0   29.0       1 arra...    True\n",
      "375   1  1  1  0  1  1  1  0  1  0   29.0       1 arra...    True\n",
      "381   0  1  1  1  1  1  1  0  1  0   29.0       1 arra...    True\n",
      "382   1  0  1  1  1  1  1  0  1  0   29.0       1 arra...    True\n",
      "471   1  1  1  0  1  0  1  1  1  0   29.0       1 arra...    True\n",
      "475   1  1  0  1  1  0  1  1  1  0   29.0       1 arra...    True\n",
      "478   1  0  1  1  1  0  1  1  1  0   29.0       1 arra...    True\n",
      "505   0  1  0  1  1  1  1  1  1  0   29.0       1 arra...    True\n",
      "575   1  1  1  1  1  1  0  0  0  1   29.0       1 arra...    True\n",
      "623   1  1  1  1  0  1  1  0  0  1   29.0       1 arra...    True\n",
      "695   1  1  1  0  1  1  0  1  0  1   29.0       1 arra...    True\n",
      "699   1  1  0  1  1  1  0  1  0  1   29.0       1 arra...    True\n",
      "719   1  1  1  1  0  0  1  1  0  1   29.0       1 arra...    True\n",
      "733   0  1  1  1  1  0  1  1  0  1   29.0       1 arra...    True\n",
      "761   0  1  0  1  1  1  1  1  0  1   29.0       1 arra...    True\n",
      "815   1  1  1  1  0  1  0  0  1  1   29.0       1 arra...    True\n",
      "823   1  1  1  0  1  1  0  0  1  1   29.0       1 arra...    True\n",
      "827   1  1  0  1  1  1  0  0  1  1   29.0       1 arra...    True\n",
      "830   1  0  1  1  1  1  0  0  1  1   29.0       1 arra...    True\n",
      "871   1  1  1  0  0  1  1  0  1  1   29.0       1 arra...    True\n",
      "875   1  1  0  1  0  1  1  0  1  1   29.0       1 arra...    True\n",
      "877   0  1  1  1  0  1  1  0  1  1   29.0       1 arra...    True\n",
      "878   1  0  1  1  0  1  1  0  1  1   29.0       1 arra...    True\n",
      "885   0  1  1  0  1  1  1  0  1  1   29.0       1 arra...    True\n",
      "923   1  1  0  1  1  0  0  1  1  1   29.0       1 arra...    True\n",
      "947   1  1  0  0  1  1  0  1  1  1   29.0       1 arra...    True\n",
      "950   1  0  1  0  1  1  0  1  1  1   29.0       1 arra...    True\n",
      "953   0  1  0  1  1  1  0  1  1  1   29.0       1 arra...    True\n",
      "954   1  0  0  1  1  1  0  1  1  1   29.0       1 arra...    True\n",
      "956   0  0  1  1  1  1  0  1  1  1   29.0       1 arra...    True\n",
      "967   1  1  1  0  0  0  1  1  1  1   29.0       1 arra...    True\n",
      "974   1  0  1  1  0  0  1  1  1  1   29.0       1 arra...    True\n",
      "503   1  1  1  0  1  1  1  1  1  0   30.0       1 arra...    True\n",
      "510   1  0  1  1  1  1  1  1  1  0   30.0       1 arra...    True\n",
      "751   1  1  1  1  0  1  1  1  0  1   30.0       1 arra...    True\n",
      "765   0  1  1  1  1  1  1  1  0  1   30.0       1 arra...    True\n",
      "999   1  1  1  0  0  1  1  1  1  1   30.0       1 arra...    True\n",
      "1003  1  1  0  1  0  1  1  1  1  1   30.0       1 arra...    True\n",
      "1006  1  0  1  1  0  1  1  1  1  1   30.0       1 arra...    True\n",
      "848   0  0  0  0  1  0  1  0  1  1   37.0       1 arra...    True\n",
      "31    1  1  1  1  1  0  0  0  0  0   38.0       1 arra...    True\n",
      "79    1  1  1  1  0  0  1  0  0  0   38.0       1 arra...    True\n",
      "94    1  0  1  1  1  0  1  0  0  0   38.0       1 arra...    True\n",
      "115   1  1  0  0  1  1  1  0  0  0   38.0       1 arra...    True\n",
      "535   1  1  1  0  1  0  0  0  0  1   38.0       1 arra...    True\n",
      "790   1  0  1  0  1  0  0  0  1  1   38.0       1 arra...    True\n",
      "849   0  1  0  0  1  0  1  0  1  1   38.0       1 arra...    True\n",
      "63    1  1  1  1  1  1  0  0  0  0   39.0       1 arra...    True\n",
      "111   1  1  1  1  0  1  1  0  0  0   39.0       1 arra...    True\n",
      "126   1  0  1  1  1  1  1  0  0  0   39.0       1 arra...    True\n",
      "207   1  1  1  1  0  0  1  1  0  0   39.0       1 arra...    True\n",
      "221   0  1  1  1  1  0  1  1  0  0   39.0       1 arra...    True\n",
      "222   1  0  1  1  1  0  1  1  0  0   39.0       1 arra...    True\n",
      "243   1  1  0  0  1  1  1  1  0  0   39.0       1 arra...    True\n",
      "371   1  1  0  0  1  1  1  0  1  0   39.0       1 arra...    True\n",
      "377   0  1  0  1  1  1  1  0  1  0   39.0       1 arra...    True\n",
      "378   1  0  0  1  1  1  1  0  1  0   39.0       1 arra...    True\n",
      "399   1  1  1  1  0  0  0  1  1  0   39.0       1 arra...    True\n",
      "413   0  1  1  1  1  0  0  1  1  0   39.0       1 arra...    True\n",
      "461   0  1  1  1  0  0  1  1  1  0   39.0       1 arra...    True\n",
      "473   0  1  0  1  1  0  1  1  1  0   39.0       1 arra...    True\n",
      "476   0  0  1  1  1  0  1  1  1  0   39.0       1 arra...    True\n",
      "567   1  1  1  0  1  1  0  0  0  1   39.0       1 arra...    True\n",
      "571   1  1  0  1  1  1  0  0  0  1   39.0       1 arra...    True\n",
      "605   0  1  1  1  1  0  1  0  0  1   39.0       1 arra...    True\n",
      "633   0  1  0  1  1  1  1  0  0  1   39.0       1 arra...    True\n",
      "667   1  1  0  1  1  0  0  1  0  1   39.0       1 arra...    True\n",
      "670   1  0  1  1  1  0  0  1  0  1   39.0       1 arra...    True\n",
      "691   1  1  0  0  1  1  0  1  0  1   39.0       1 arra...    True\n",
      "725   0  1  1  0  1  0  1  1  0  1   39.0       1 arra...    True\n",
      "729   0  1  0  1  1  0  1  1  0  1   39.0       1 arra...    True\n",
      "732   0  0  1  1  1  0  1  1  0  1   39.0       1 arra...    True\n",
      "753   0  1  0  0  1  1  1  1  0  1   39.0       1 arra...    True\n",
      "760   0  0  0  1  1  1  1  1  0  1   39.0       1 arra...    True\n",
      "795   1  1  0  1  1  0  0  0  1  1   39.0       1 arra...    True\n",
      "797   0  1  1  1  1  0  0  0  1  1   39.0       1 arra...    True\n",
      "819   1  1  0  0  1  1  0  0  1  1   39.0       1 arra...    True\n",
      "822   1  0  1  0  1  1  0  0  1  1   39.0       1 arra...    True\n",
      "826   1  0  0  1  1  1  0  0  1  1   39.0       1 arra...    True\n",
      "843   1  1  0  1  0  0  1  0  1  1   39.0       1 arra...    True\n",
      "909   0  1  1  1  0  0  0  1  1  1   39.0       1 arra...    True\n",
      "915   1  1  0  0  1  0  0  1  1  1   39.0       1 arra...    True\n",
      "917   0  1  1  0  1  0  0  1  1  1   39.0       1 arra...    True\n",
      "921   0  1  0  1  1  0  0  1  1  1   39.0       1 arra...    True\n",
      "922   1  0  0  1  1  0  0  1  1  1   39.0       1 arra...    True\n",
      "946   1  0  0  0  1  1  0  1  1  1   39.0       1 arra...    True\n",
      "952   0  0  0  1  1  1  0  1  1  1   39.0       1 arra...    True\n",
      "972   0  0  1  1  0  0  1  1  1  1   39.0       1 arra...    True\n",
      "239   1  1  1  1  0  1  1  1  0  0   40.0       1 arra...    True\n",
      "253   0  1  1  1  1  1  1  1  0  0   40.0       1 arra...    True\n",
      "254   1  0  1  1  1  1  1  1  0  0   40.0       1 arra...    True\n",
      "431   1  1  1  1  0  1  0  1  1  0   40.0       1 arra...    True\n",
      "443   1  1  0  1  1  1  0  1  1  0   40.0       1 arra...    True\n",
      "445   0  1  1  1  1  1  0  1  1  0   40.0       1 arra...    True\n",
      "493   0  1  1  1  0  1  1  1  1  0   40.0       1 arra...    True\n",
      "499   1  1  0  0  1  1  1  1  1  0   40.0       1 arra...    True\n",
      "506   1  0  0  1  1  1  1  1  1  0   40.0       1 arra...    True\n",
      "508   0  0  1  1  1  1  1  1  1  0   40.0       1 arra...    True\n",
      "637   0  1  1  1  1  1  1  0  0  1   40.0       1 arra...    True\n",
      "702   1  0  1  1  1  1  0  1  0  1   40.0       1 arra...    True\n",
      "757   0  1  1  0  1  1  1  1  0  1   40.0       1 arra...    True\n",
      "764   0  0  1  1  1  1  1  1  0  1   40.0       1 arra...    True\n",
      "829   0  1  1  1  1  1  0  0  1  1   40.0       1 arra...    True\n",
      "941   0  1  1  1  0  1  0  1  1  1   40.0       1 arra...    True\n",
      "949   0  1  1  0  1  1  0  1  1  1   40.0       1 arra...    True\n",
      "971   1  1  0  1  0  0  1  1  1  1   40.0       1 arra...    True\n",
      "1001  0  1  0  1  0  1  1  1  1  1   40.0       1 arra...    True\n",
      "1004  0  0  1  1  0  1  1  1  1  1   40.0       1 arra...    True\n",
      "83    1  1  0  0  1  0  1  0  0  0   48.0       1 arra...    True\n",
      "93    0  1  1  1  1  0  1  0  0  0   49.0       1 arra...    True\n",
      "122   1  0  0  1  1  1  1  0  0  0   49.0       1 arra...    True\n",
      "211   1  1  0  0  1  0  1  1  0  0   49.0       1 arra...    True\n",
      "271   1  1  1  1  0  0  0  0  1  0   49.0       1 arra...    True\n",
      "333   0  1  1  1  0  0  1  0  1  0   49.0       1 arra...    True\n",
      "339   1  1  0  0  1  0  1  0  1  0   49.0       1 arra...    True\n",
      "342   1  0  1  0  1  0  1  0  1  0   49.0       1 arra...    True\n",
      "345   0  1  0  1  1  0  1  0  1  0   49.0       1 arra...    True\n",
      "346   1  0  0  1  1  0  1  0  1  0   49.0       1 arra...    True\n",
      "348   0  0  1  1  1  0  1  0  1  0   49.0       1 arra...    True\n",
      "539   1  1  0  1  1  0  0  0  0  1   49.0       1 arra...    True\n",
      "542   1  0  1  1  1  0  0  0  0  1   49.0       1 arra...    True\n",
      "563   1  1  0  0  1  1  0  0  0  1   49.0       1 arra...    True\n",
      "583   1  1  1  0  0  0  1  0  0  1   49.0       1 arra...    True\n",
      "597   0  1  1  0  1  0  1  0  0  1   49.0       1 arra...    True\n",
      "601   0  1  0  1  1  0  1  0  0  1   49.0       1 arra...    True\n",
      "604   0  0  1  1  1  0  1  0  0  1   49.0       1 arra...    True\n",
      "625   0  1  0  0  1  1  1  0  0  1   49.0       1 arra...    True\n",
      "632   0  0  0  1  1  1  1  0  0  1   49.0       1 arra...    True\n",
      "659   1  1  0  0  1  0  0  1  0  1   49.0       1 arra...    True\n",
      "662   1  0  1  0  1  0  0  1  0  1   49.0       1 arra...    True\n",
      "721   0  1  0  0  1  0  1  1  0  1   49.0       1 arra...    True\n",
      "724   0  0  1  0  1  0  1  1  0  1   49.0       1 arra...    True\n",
      "728   0  0  0  1  1  0  1  1  0  1   49.0       1 arra...    True\n",
      "752   0  0  0  0  1  1  1  1  0  1   49.0       1 arra...    True\n",
      "787   1  1  0  0  1  0  0  0  1  1   49.0       1 arra...    True\n",
      "794   1  0  0  1  1  0  0  0  1  1   49.0       1 arra...    True\n",
      "796   0  0  1  1  1  0  0  0  1  1   49.0       1 arra...    True\n",
      "818   1  0  0  0  1  1  0  0  1  1   49.0       1 arra...    True\n",
      "838   1  0  1  0  0  0  1  0  1  1   49.0       1 arra...    True\n",
      "844   0  0  1  1  0  0  1  0  1  1   49.0       1 arra...    True\n",
      "914   1  0  0  0  1  0  0  1  1  1   49.0       1 arra...    True\n",
      "916   0  0  1  0  1  0  0  1  1  1   49.0       1 arra...    True\n",
      "920   0  0  0  1  1  0  0  1  1  1   49.0       1 arra...    True\n",
      "125   0  1  1  1  1  1  1  0  0  0   50.0       1 arra...    True\n",
      "187   1  1  0  1  1  1  0  1  0  0   50.0       1 arra...    True\n",
      "249   0  1  0  1  1  1  1  1  0  0   50.0       1 arra...    True\n",
      "250   1  0  0  1  1  1  1  1  0  0   50.0       1 arra...    True\n",
      "303   1  1  1  1  0  1  0  0  1  0   50.0       1 arra...    True\n",
      "315   1  1  0  1  1  1  0  0  1  0   50.0       1 arra...    True\n",
      "363   1  1  0  1  0  1  1  0  1  0   50.0       1 arra...    True\n",
      "365   0  1  1  1  0  1  1  0  1  0   50.0       1 arra...    True\n",
      "374   1  0  1  0  1  1  1  0  1  0   50.0       1 arra...    True\n",
      "380   0  0  1  1  1  1  1  0  1  0   50.0       1 arra...    True\n",
      "407   1  1  1  0  1  0  0  1  1  0   50.0       1 arra...    True\n",
      "411   1  1  0  1  1  0  0  1  1  0   50.0       1 arra...    True\n",
      "414   1  0  1  1  1  0  0  1  1  0   50.0       1 arra...    True\n",
      "467   1  1  0  0  1  0  1  1  1  0   50.0       1 arra...    True\n",
      "469   0  1  1  0  1  0  1  1  1  0   50.0       1 arra...    True\n",
      "470   1  0  1  0  1  0  1  1  1  0   50.0       1 arra...    True\n",
      "474   1  0  0  1  1  0  1  1  1  0   50.0       1 arra...    True\n",
      "504   0  0  0  1  1  1  1  1  1  0   50.0       1 arra...    True\n",
      "574   1  0  1  1  1  1  0  0  0  1   50.0       1 arra...    True\n",
      "615   1  1  1  0  0  1  1  0  0  1   50.0       1 arra...    True\n",
      "619   1  1  0  1  0  1  1  0  0  1   50.0       1 arra...    True\n",
      "629   0  1  1  0  1  1  1  0  0  1   50.0       1 arra...    True\n",
      "636   0  0  1  1  1  1  1  0  0  1   50.0       1 arra...    True\n",
      "655   1  1  1  1  0  0  0  1  0  1   50.0       1 arra...    True\n",
      "669   0  1  1  1  1  0  0  1  0  1   50.0       1 arra...    True\n",
      "694   1  0  1  0  1  1  0  1  0  1   50.0       1 arra...    True\n",
      "698   1  0  0  1  1  1  0  1  0  1   50.0       1 arra...    True\n",
      "711   1  1  1  0  0  0  1  1  0  1   50.0       1 arra...    True\n",
      "756   0  0  1  0  1  1  1  1  0  1   50.0       1 arra...    True\n",
      "825   0  1  0  1  1  1  0  0  1  1   50.0       1 arra...    True\n",
      "828   0  0  1  1  1  1  0  0  1  1   50.0       1 arra...    True\n",
      "867   1  1  0  0  0  1  1  0  1  1   50.0       1 arra...    True\n",
      "870   1  0  1  0  0  1  1  0  1  1   50.0       1 arra...    True\n",
      "873   0  1  0  1  0  1  1  0  1  1   50.0       1 arra...    True\n",
      "874   1  0  0  1  0  1  1  0  1  1   50.0       1 arra...    True\n",
      "876   0  0  1  1  0  1  1  0  1  1   50.0       1 arra...    True\n",
      "903   1  1  1  0  0  0  0  1  1  1   50.0       1 arra...    True\n",
      "910   1  0  1  1  0  0  0  1  1  1   50.0       1 arra...    True\n",
      "945   0  1  0  0  1  1  0  1  1  1   50.0       1 arra...    True\n",
      "948   0  0  1  0  1  1  0  1  1  1   50.0       1 arra...    True\n",
      "965   0  1  1  0  0  0  1  1  1  1   50.0       1 arra...    True\n",
      "966   1  0  1  0  0  0  1  1  1  1   50.0       1 arra...    True\n",
      "969   0  1  0  1  0  0  1  1  1  1   50.0       1 arra...    True\n",
      "439   1  1  1  0  1  1  0  1  1  0   51.0       1 arra...    True\n",
      "446   1  0  1  1  1  1  0  1  1  0   51.0       1 arra...    True\n",
      "491   1  1  0  1  0  1  1  1  1  0   51.0       1 arra...    True\n",
      "501   0  1  1  0  1  1  1  1  1  0   51.0       1 arra...    True\n",
      "502   1  0  1  0  1  1  1  1  1  0   51.0       1 arra...    True\n",
      "687   1  1  1  1  0  1  0  1  0  1   51.0       1 arra...    True\n",
      "701   0  1  1  1  1  1  0  1  0  1   51.0       1 arra...    True\n",
      "743   1  1  1  0  0  1  1  1  0  1   51.0       1 arra...    True\n",
      "747   1  1  0  1  0  1  1  1  0  1   51.0       1 arra...    True\n",
      "935   1  1  1  0  0  1  0  1  1  1   51.0       1 arra...    True\n",
      "939   1  1  0  1  0  1  0  1  1  1   51.0       1 arra...    True\n",
      "942   1  0  1  1  0  1  0  1  1  1   51.0       1 arra...    True\n",
      "995   1  1  0  0  0  1  1  1  1  1   51.0       1 arra...    True\n",
      "997   0  1  1  0  0  1  1  1  1  1   51.0       1 arra...    True\n",
      "998   1  0  1  0  0  1  1  1  1  1   51.0       1 arra...    True\n",
      "1002  1  0  0  1  0  1  1  1  1  1   51.0       1 arra...    True\n",
      "86    1  0  1  0  1  0  1  0  0  0   59.0       1 arra...    True\n",
      "90    1  0  0  1  1  0  1  0  0  0   59.0       1 arra...    True\n",
      "531   1  1  0  0  1  0  0  0  0  1   59.0       1 arra...    True\n",
      "534   1  0  1  0  1  0  0  0  0  1   59.0       1 arra...    True\n",
      "593   0  1  0  0  1  0  1  0  0  1   59.0       1 arra...    True\n",
      "596   0  0  1  0  1  0  1  0  0  1   59.0       1 arra...    True\n",
      "600   0  0  0  1  1  0  1  0  0  1   59.0       1 arra...    True\n",
      "624   0  0  0  0  1  1  1  0  0  1   59.0       1 arra...    True\n",
      "720   0  0  0  0  1  0  1  1  0  1   59.0       1 arra...    True\n",
      "786   1  0  0  0  1  0  0  0  1  1   59.0       1 arra...    True\n",
      "59    1  1  0  1  1  1  0  0  0  0   60.0       1 arra...    True\n",
      "118   1  0  1  0  1  1  1  0  0  0   60.0       1 arra...    True\n",
      "121   0  1  0  1  1  1  1  0  0  0   60.0       1 arra...    True\n",
      "151   1  1  1  0  1  0  0  1  0  0   60.0       1 arra...    True\n",
      "155   1  1  0  1  1  0  0  1  0  0   60.0       1 arra...    True\n",
      "214   1  0  1  0  1  0  1  1  0  0   60.0       1 arra...    True\n",
      "217   0  1  0  1  1  0  1  1  0  0   60.0       1 arra...    True\n",
      "218   1  0  0  1  1  0  1  1  0  0   60.0       1 arra...    True\n",
      "279   1  1  1  0  1  0  0  0  1  0   60.0       1 arra...    True\n",
      "283   1  1  0  1  1  0  0  0  1  0   60.0       1 arra...    True\n",
      "285   0  1  1  1  1  0  0  0  1  0   60.0       1 arra...    True\n",
      "286   1  0  1  1  1  0  0  0  1  0   60.0       1 arra...    True\n",
      "327   1  1  1  0  0  0  1  0  1  0   60.0       1 arra...    True\n",
      "331   1  1  0  1  0  0  1  0  1  0   60.0       1 arra...    True\n",
      "334   1  0  1  1  0  0  1  0  1  0   60.0       1 arra...    True\n",
      "341   0  1  1  0  1  0  1  0  1  0   60.0       1 arra...    True\n",
      "370   1  0  0  0  1  1  1  0  1  0   60.0       1 arra...    True\n",
      "376   0  0  0  1  1  1  1  0  1  0   60.0       1 arra...    True\n",
      "472   0  0  0  1  1  0  1  1  1  0   60.0       1 arra...    True\n",
      "527   1  1  1  1  0  0  0  0  0  1   60.0       1 arra...    True\n",
      "566   1  0  1  0  1  1  0  0  0  1   60.0       1 arra...    True\n",
      "570   1  0  0  1  1  1  0  0  0  1   60.0       1 arra...    True\n",
      "587   1  1  0  1  0  0  1  0  0  1   60.0       1 arra...    True\n",
      "590   1  0  1  1  0  0  1  0  0  1   60.0       1 arra...    True\n",
      "628   0  0  1  0  1  1  1  0  0  1   60.0       1 arra...    True\n",
      "666   1  0  0  1  1  0  0  1  0  1   60.0       1 arra...    True\n",
      "690   1  0  0  0  1  1  0  1  0  1   60.0       1 arra...    True\n",
      "775   1  1  1  0  0  0  0  0  1  1   60.0       1 arra...    True\n",
      "781   0  1  1  1  0  0  0  0  1  1   60.0       1 arra...    True\n",
      "782   1  0  1  1  0  0  0  0  1  1   60.0       1 arra...    True\n",
      "789   0  1  1  0  1  0  0  0  1  1   60.0       1 arra...    True\n",
      "793   0  1  0  1  1  0  0  0  1  1   60.0       1 arra...    True\n",
      "824   0  0  0  1  1  1  0  0  1  1   60.0       1 arra...    True\n",
      "835   1  1  0  0  0  0  1  0  1  1   60.0       1 arra...    True\n",
      "837   0  1  1  0  0  0  1  0  1  1   60.0       1 arra...    True\n",
      "841   0  1  0  1  0  0  1  0  1  1   60.0       1 arra...    True\n",
      "842   1  0  0  1  0  0  1  0  1  1   60.0       1 arra...    True\n",
      "913   0  1  0  0  1  0  0  1  1  1   60.0       1 arra...    True\n",
      "944   0  0  0  0  1  1  0  1  1  1   60.0       1 arra...    True\n",
      "183   1  1  1  0  1  1  0  1  0  0   61.0       1 arra...    True\n",
      "246   1  0  1  0  1  1  1  1  0  0   61.0       1 arra...    True\n",
      "311   1  1  1  0  1  1  0  0  1  0   61.0       1 arra...    True\n",
      "317   0  1  1  1  1  1  0  0  1  0   61.0       1 arra...    True\n",
      "318   1  0  1  1  1  1  0  0  1  0   61.0       1 arra...    True\n",
      "359   1  1  1  0  0  1  1  0  1  0   61.0       1 arra...    True\n",
      "366   1  0  1  1  0  1  1  0  1  0   61.0       1 arra...    True\n",
      "373   0  1  1  0  1  1  1  0  1  0   61.0       1 arra...    True\n",
      "441   0  1  0  1  1  1  0  1  1  0   61.0       1 arra...    True\n",
      "455   1  1  1  0  0  0  1  1  1  0   61.0       1 arra...    True\n",
      "459   1  1  0  1  0  0  1  1  1  0   61.0       1 arra...    True\n",
      "462   1  0  1  1  0  0  1  1  1  0   61.0       1 arra...    True\n",
      "497   0  1  0  0  1  1  1  1  1  0   61.0       1 arra...    True\n",
      "498   1  0  0  0  1  1  1  1  1  0   61.0       1 arra...    True\n",
      "559   1  1  1  1  0  1  0  0  0  1   61.0       1 arra...    True\n",
      "622   1  0  1  1  0  1  1  0  0  1   61.0       1 arra...    True\n",
      "697   0  1  0  1  1  1  0  1  0  1   61.0       1 arra...    True\n",
      "715   1  1  0  1  0  0  1  1  0  1   61.0       1 arra...    True\n",
      "717   0  1  1  1  0  0  1  1  0  1   61.0       1 arra...    True\n",
      "718   1  0  1  1  0  0  1  1  0  1   61.0       1 arra...    True\n",
      "807   1  1  1  0  0  1  0  0  1  1   61.0       1 arra...    True\n",
      "811   1  1  0  1  0  1  0  0  1  1   61.0       1 arra...    True\n",
      "813   0  1  1  1  0  1  0  0  1  1   61.0       1 arra...    True\n",
      "814   1  0  1  1  0  1  0  0  1  1   61.0       1 arra...    True\n",
      "821   0  1  1  0  1  1  0  0  1  1   61.0       1 arra...    True\n",
      "869   0  1  1  0  0  1  1  0  1  1   61.0       1 arra...    True\n",
      "907   1  1  0  1  0  0  0  1  1  1   61.0       1 arra...    True\n",
      "963   1  1  0  0  0  0  1  1  1  1   61.0       1 arra...    True\n",
      "970   1  0  0  1  0  0  1  1  1  1   61.0       1 arra...    True\n",
      "1000  0  0  0  1  0  1  1  1  1  1   61.0       1 arra...    True\n",
      "487   1  1  1  0  0  1  1  1  1  0   62.0       1 arra...    True\n",
      "494   1  0  1  1  0  1  1  1  1  0   62.0       1 arra...    True\n",
      "749   0  1  1  1  0  1  1  1  0  1   62.0       1 arra...    True\n",
      "750   1  0  1  1  0  1  1  1  0  1   62.0       1 arra...    True\n",
      "592   0  0  0  0  1  0  1  0  0  1   69.0       1 arra...    True\n",
      "23    1  1  1  0  1  0  0  0  0  0   70.0       1 arra...    True\n",
      "27    1  1  0  1  1  0  0  0  0  0   70.0       1 arra...    True\n",
      "89    0  1  0  1  1  0  1  0  0  0   70.0       1 arra...    True\n",
      "114   1  0  0  0  1  1  1  0  0  0   70.0       1 arra...    True\n",
      "338   1  0  0  0  1  0  1  0  1  0   70.0       1 arra...    True\n",
      "344   0  0  0  1  1  0  1  0  1  0   70.0       1 arra...    True\n",
      "538   1  0  0  1  1  0  0  0  0  1   70.0       1 arra...    True\n",
      "562   1  0  0  0  1  1  0  0  0  1   70.0       1 arra...    True\n",
      "658   1  0  0  0  1  0  0  1  0  1   70.0       1 arra...    True\n",
      "788   0  0  1  0  1  0  0  0  1  1   70.0       1 arra...    True\n",
      "792   0  0  0  1  1  0  0  0  1  1   70.0       1 arra...    True\n",
      "912   0  0  0  0  1  0  0  1  1  1   70.0       1 arra...    True\n",
      "55    1  1  1  0  1  1  0  0  0  0   71.0       1 arra...    True\n",
      "107   1  1  0  1  0  1  1  0  0  0   71.0       1 arra...    True\n",
      "143   1  1  1  1  0  0  0  1  0  0   71.0       1 arra...    True\n",
      "157   0  1  1  1  1  0  0  1  0  0   71.0       1 arra...    True\n",
      "158   1  0  1  1  1  0  0  1  0  0   71.0       1 arra...    True\n",
      "213   0  1  1  0  1  0  1  1  0  0   71.0       1 arra...    True\n",
      "220   0  0  1  1  1  0  1  1  0  0   71.0       1 arra...    True\n",
      "242   1  0  0  0  1  1  1  1  0  0   71.0       1 arra...    True\n",
      "369   0  1  0  0  1  1  1  0  1  0   71.0       1 arra...    True\n",
      "397   0  1  1  1  0  0  0  1  1  0   71.0       1 arra...    True\n",
      "409   0  1  0  1  1  0  0  1  1  0   71.0       1 arra...    True\n",
      "412   0  0  1  1  1  0  0  1  1  0   71.0       1 arra...    True\n",
      "465   0  1  0  0  1  0  1  1  1  0   71.0       1 arra...    True\n",
      "466   1  0  0  0  1  0  1  1  1  0   71.0       1 arra...    True\n",
      "468   0  0  1  0  1  0  1  1  1  0   71.0       1 arra...    True\n",
      "541   0  1  1  1  1  0  0  0  0  1   71.0       1 arra...    True\n",
      "589   0  1  1  1  0  0  1  0  0  1   71.0       1 arra...    True\n",
      "611   1  1  0  0  0  1  1  0  0  1   71.0       1 arra...    True\n",
      "661   0  1  1  0  1  0  0  1  0  1   71.0       1 arra...    True\n",
      "665   0  1  0  1  1  0  0  1  0  1   71.0       1 arra...    True\n",
      "668   0  0  1  1  1  0  0  1  0  1   71.0       1 arra...    True\n",
      "779   1  1  0  1  0  0  0  0  1  1   71.0       1 arra...    True\n",
      "817   0  1  0  0  1  1  0  0  1  1   71.0       1 arra...    True\n",
      "820   0  0  1  0  1  1  0  0  1  1   71.0       1 arra...    True\n",
      "866   1  0  0  0  0  1  1  0  1  1   71.0       1 arra...    True\n",
      "872   0  0  0  1  0  1  1  0  1  1   71.0       1 arra...    True\n",
      "908   0  0  1  1  0  0  0  1  1  1   71.0       1 arra...    True\n",
      "964   0  0  1  0  0  0  1  1  1  1   71.0       1 arra...    True\n",
      "968   0  0  0  1  0  0  1  1  1  1   71.0       1 arra...    True\n",
      "175   1  1  1  1  0  1  0  1  0  0   72.0       1 arra...    True\n",
      "189   0  1  1  1  1  1  0  1  0  0   72.0       1 arra...    True\n",
      "190   1  0  1  1  1  1  0  1  0  0   72.0       1 arra...    True\n",
      "235   1  1  0  1  0  1  1  1  0  0   72.0       1 arra...    True\n",
      "245   0  1  1  0  1  1  1  1  0  0   72.0       1 arra...    True\n",
      "252   0  0  1  1  1  1  1  1  0  0   72.0       1 arra...    True\n",
      "429   0  1  1  1  0  1  0  1  1  0   72.0       1 arra...    True\n",
      "435   1  1  0  0  1  1  0  1  1  0   72.0       1 arra...    True\n",
      "442   1  0  0  1  1  1  0  1  1  0   72.0       1 arra...    True\n",
      "444   0  0  1  1  1  1  0  1  1  0   72.0       1 arra...    True\n",
      "489   0  1  0  1  0  1  1  1  1  0   72.0       1 arra...    True\n",
      "500   0  0  1  0  1  1  1  1  1  0   72.0       1 arra...    True\n",
      "573   0  1  1  1  1  1  0  0  0  1   72.0       1 arra...    True\n",
      "621   0  1  1  1  0  1  1  0  0  1   72.0       1 arra...    True\n",
      "693   0  1  1  0  1  1  0  1  0  1   72.0       1 arra...    True\n",
      "700   0  0  1  1  1  1  0  1  0  1   72.0       1 arra...    True\n",
      "739   1  1  0  0  0  1  1  1  0  1   72.0       1 arra...    True\n",
      "937   0  1  0  1  0  1  0  1  1  1   72.0       1 arra...    True\n",
      "940   0  0  1  1  0  1  0  1  1  1   72.0       1 arra...    True\n",
      "993   0  1  0  0  0  1  1  1  1  1   72.0       1 arra...    True\n",
      "994   1  0  0  0  0  1  1  1  1  1   72.0       1 arra...    True\n",
      "996   0  0  1  0  0  1  1  1  1  1   72.0       1 arra...    True\n",
      "82    1  0  0  0  1  0  1  0  0  0   80.0       1 arra...    True\n",
      "530   1  0  0  0  1  0  0  0  0  1   80.0       1 arra...    True\n",
      "15    1  1  1  1  0  0  0  0  0  0   81.0       1 arra...    True\n",
      "30    1  0  1  1  1  0  0  0  0  0   81.0       1 arra...    True\n",
      "71    1  1  1  0  0  0  1  0  0  0   81.0       1 arra...    True\n",
      "75    1  1  0  1  0  0  1  0  0  0   81.0       1 arra...    True\n",
      "85    0  1  1  0  1  0  1  0  0  0   81.0       1 arra...    True\n",
      "92    0  0  1  1  1  0  1  0  0  0   81.0       1 arra...    True\n",
      "210   1  0  0  0  1  0  1  1  0  0   81.0       1 arra...    True\n",
      "337   0  1  0  0  1  0  1  0  1  0   81.0       1 arra...    True\n",
      "340   0  0  1  0  1  0  1  0  1  0   81.0       1 arra...    True\n",
      "579   1  1  0  0  0  0  1  0  0  1   81.0       1 arra...    True\n",
      "582   1  0  1  0  0  0  1  0  0  1   81.0       1 arra...    True\n",
      "785   0  1  0  0  1  0  0  0  1  1   81.0       1 arra...    True\n",
      "816   0  0  0  0  1  1  0  0  1  1   81.0       1 arra...    True\n",
      "834   1  0  0  0  0  0  1  0  1  1   81.0       1 arra...    True\n",
      "836   0  0  1  0  0  0  1  0  1  1   81.0       1 arra...    True\n",
      "840   0  0  0  1  0  0  1  0  1  1   81.0       1 arra...    True\n",
      "47    1  1  1  1  0  1  0  0  0  0   82.0       1 arra...    True\n",
      "62    1  0  1  1  1  1  0  0  0  0   82.0       1 arra...    True\n",
      "103   1  1  1  0  0  1  1  0  0  0   82.0       1 arra...    True\n",
      "117   0  1  1  0  1  1  1  0  0  0   82.0       1 arra...    True\n",
      "124   0  0  1  1  1  1  1  0  0  0   82.0       1 arra...    True\n",
      "179   1  1  0  0  1  1  0  1  0  0   82.0       1 arra...    True\n",
      "199   1  1  1  0  0  0  1  1  0  0   82.0       1 arra...    True\n",
      "203   1  1  0  1  0  0  1  1  0  0   82.0       1 arra...    True\n",
      "205   0  1  1  1  0  0  1  1  0  0   82.0       1 arra...    True\n",
      "241   0  1  0  0  1  1  1  1  0  0   82.0       1 arra...    True\n",
      "248   0  0  0  1  1  1  1  1  0  0   82.0       1 arra...    True\n",
      "307   1  1  0  0  1  1  0  0  1  0   82.0       1 arra...    True\n",
      "313   0  1  0  1  1  1  0  0  1  0   82.0       1 arra...    True\n",
      "314   1  0  0  1  1  1  0  0  1  0   82.0       1 arra...    True\n",
      "361   0  1  0  1  0  1  1  0  1  0   82.0       1 arra...    True\n",
      "372   0  0  1  0  1  1  1  0  1  0   82.0       1 arra...    True\n",
      "403   1  1  0  0  1  0  0  1  1  0   82.0       1 arra...    True\n",
      "405   0  1  1  0  1  0  0  1  1  0   82.0       1 arra...    True\n",
      "406   1  0  1  0  1  0  0  1  1  0   82.0       1 arra...    True\n",
      "410   1  0  0  1  1  0  0  1  1  0   82.0       1 arra...    True\n",
      "457   0  1  0  1  0  0  1  1  1  0   82.0       1 arra...    True\n",
      "460   0  0  1  1  0  0  1  1  1  0   82.0       1 arra...    True\n",
      "496   0  0  0  0  1  1  1  1  1  0   82.0       1 arra...    True\n",
      "569   0  1  0  1  1  1  0  0  0  1   82.0       1 arra...    True\n",
      "614   1  0  1  0  0  1  1  0  0  1   82.0       1 arra...    True\n",
      "618   1  0  0  1  0  1  1  0  0  1   82.0       1 arra...    True\n",
      "647   1  1  1  0  0  0  0  1  0  1   82.0       1 arra...    True\n",
      "689   0  1  0  0  1  1  0  1  0  1   82.0       1 arra...    True\n",
      "696   0  0  0  1  1  1  0  1  0  1   82.0       1 arra...    True\n",
      "707   1  1  0  0  0  0  1  1  0  1   82.0       1 arra...    True\n",
      "710   1  0  1  0  0  0  1  1  0  1   82.0       1 arra...    True\n",
      "865   0  1  0  0  0  1  1  0  1  1   82.0       1 arra...    True\n",
      "868   0  0  1  0  0  1  1  0  1  1   82.0       1 arra...    True\n",
      "901   0  1  1  0  0  0  0  1  1  1   82.0       1 arra...    True\n",
      "902   1  0  1  0  0  0  0  1  1  1   82.0       1 arra...    True\n",
      "905   0  1  0  1  0  0  0  1  1  1   82.0       1 arra...    True\n",
      "961   0  1  0  0  0  0  1  1  1  1   82.0       1 arra...    True\n",
      "962   1  0  0  0  0  0  1  1  1  1   82.0       1 arra...    True\n",
      "231   1  1  1  0  0  1  1  1  0  0   83.0       1 arra...    True\n",
      "237   0  1  1  1  0  1  1  1  0  0   83.0       1 arra...    True\n",
      "427   1  1  0  1  0  1  0  1  1  0   83.0       1 arra...    True\n",
      "437   0  1  1  0  1  1  0  1  1  0   83.0       1 arra...    True\n",
      "438   1  0  1  0  1  1  0  1  1  0   83.0       1 arra...    True\n",
      "492   0  0  1  1  0  1  1  1  1  0   83.0       1 arra...    True\n",
      "679   1  1  1  0  0  1  0  1  0  1   83.0       1 arra...    True\n",
      "683   1  1  0  1  0  1  0  1  0  1   83.0       1 arra...    True\n",
      "742   1  0  1  0  0  1  1  1  0  1   83.0       1 arra...    True\n",
      "745   0  1  0  1  0  1  1  1  0  1   83.0       1 arra...    True\n",
      "746   1  0  0  1  0  1  1  1  0  1   83.0       1 arra...    True\n",
      "931   1  1  0  0  0  1  0  1  1  1   83.0       1 arra...    True\n",
      "933   0  1  1  0  0  1  0  1  1  1   83.0       1 arra...    True\n",
      "934   1  0  1  0  0  1  0  1  1  1   83.0       1 arra...    True\n",
      "938   1  0  0  1  0  1  0  1  1  1   83.0       1 arra...    True\n",
      "784   0  0  0  0  1  0  0  0  1  1   91.0       1 arra...    True\n",
      "29    0  1  1  1  1  0  0  0  0  0   92.0       1 arra...    True\n",
      "51    1  1  0  0  1  1  0  0  0  0   92.0       1 arra...    True\n",
      "77    0  1  1  1  0  0  1  0  0  0   92.0       1 arra...    True\n",
      "78    1  0  1  1  0  0  1  0  0  0   92.0       1 arra...    True\n",
      "113   0  1  0  0  1  1  1  0  0  0   92.0       1 arra...    True\n",
      "120   0  0  0  1  1  1  1  0  0  0   92.0       1 arra...    True\n",
      "147   1  1  0  0  1  0  0  1  0  0   92.0       1 arra...    True\n",
      "209   0  1  0  0  1  0  1  1  0  0   92.0       1 arra...    True\n",
      "216   0  0  0  1  1  0  1  1  0  0   92.0       1 arra...    True\n",
      "269   0  1  1  1  0  0  0  0  1  0   92.0       1 arra...    True\n",
      "275   1  1  0  0  1  0  0  0  1  0   92.0       1 arra...    True\n",
      "278   1  0  1  0  1  0  0  0  1  0   92.0       1 arra...    True\n",
      "281   0  1  0  1  1  0  0  0  1  0   92.0       1 arra...    True\n",
      "282   1  0  0  1  1  0  0  0  1  0   92.0       1 arra...    True\n",
      "284   0  0  1  1  1  0  0  0  1  0   92.0       1 arra...    True\n",
      "329   0  1  0  1  0  0  1  0  1  0   92.0       1 arra...    True\n",
      "332   0  0  1  1  0  0  1  0  1  0   92.0       1 arra...    True\n",
      "368   0  0  0  0  1  1  1  0  1  0   92.0       1 arra...    True\n",
      "464   0  0  0  0  1  0  1  1  1  0   92.0       1 arra...    True\n",
      "519   1  1  1  0  0  0  0  0  0  1   92.0       1 arra...    True\n",
      "533   0  1  1  0  1  0  0  0  0  1   92.0       1 arra...    True\n",
      "537   0  1  0  1  1  0  0  0  0  1   92.0       1 arra...    True\n",
      "540   0  0  1  1  1  0  0  0  0  1   92.0       1 arra...    True\n",
      "586   1  0  0  1  0  0  1  0  0  1   92.0       1 arra...    True\n",
      "657   0  1  0  0  1  0  0  1  0  1   92.0       1 arra...    True\n",
      "660   0  0  1  0  1  0  0  1  0  1   92.0       1 arra...    True\n",
      "664   0  0  0  1  1  0  0  1  0  1   92.0       1 arra...    True\n",
      "774   1  0  1  0  0  0  0  0  1  1   92.0       1 arra...    True\n",
      "780   0  0  1  1  0  0  0  0  1  1   92.0       1 arra...    True\n",
      "833   0  1  0  0  0  0  1  0  1  1   92.0       1 arra...    True\n",
      "61    0  1  1  1  1  1  0  0  0  0   93.0       1 arra...    True\n",
      "109   0  1  1  1  0  1  1  0  0  0   93.0       1 arra...    True\n",
      "110   1  0  1  1  0  1  1  0  0  0   93.0       1 arra...    True\n",
      "185   0  1  0  1  1  1  0  1  0  0   93.0       1 arra...    True\n",
      "186   1  0  0  1  1  1  0  1  0  0   93.0       1 arra...    True\n",
      "206   1  0  1  1  0  0  1  1  0  0   93.0       1 arra...    True\n",
      "299   1  1  0  1  0  1  0  0  1  0   93.0       1 arra...    True\n",
      "301   0  1  1  1  0  1  0  0  1  0   93.0       1 arra...    True\n",
      "310   1  0  1  0  1  1  0  0  1  0   93.0       1 arra...    True\n",
      "316   0  0  1  1  1  1  0  0  1  0   93.0       1 arra...    True\n",
      "355   1  1  0  0  0  1  1  0  1  0   93.0       1 arra...    True\n",
      "362   1  0  0  1  0  1  1  0  1  0   93.0       1 arra...    True\n",
      "364   0  0  1  1  0  1  1  0  1  0   93.0       1 arra...    True\n",
      "391   1  1  1  0  0  0  0  1  1  0   93.0       1 arra...    True\n",
      "395   1  1  0  1  0  0  0  1  1  0   93.0       1 arra...    True\n",
      "398   1  0  1  1  0  0  0  1  1  0   93.0       1 arra...    True\n",
      "440   0  0  0  1  1  1  0  1  1  0   93.0       1 arra...    True\n",
      "453   0  1  1  0  0  0  1  1  1  0   93.0       1 arra...    True\n",
      "551   1  1  1  0  0  1  0  0  0  1   93.0       1 arra...    True\n",
      "555   1  1  0  1  0  1  0  0  0  1   93.0       1 arra...    True\n",
      "565   0  1  1  0  1  1  0  0  0  1   93.0       1 arra...    True\n",
      "572   0  0  1  1  1  1  0  0  0  1   93.0       1 arra...    True\n",
      "617   0  1  0  1  0  1  1  0  0  1   93.0       1 arra...    True\n",
      "651   1  1  0  1  0  0  0  1  0  1   93.0       1 arra...    True\n",
      "653   0  1  1  1  0  0  0  1  0  1   93.0       1 arra...    True\n",
      "654   1  0  1  1  0  0  0  1  0  1   93.0       1 arra...    True\n",
      "692   0  0  1  0  1  1  0  1  0  1   93.0       1 arra...    True\n",
      "709   0  1  1  0  0  0  1  1  0  1   93.0       1 arra...    True\n",
      "713   0  1  0  1  0  0  1  1  0  1   93.0       1 arra...    True\n",
      "714   1  0  0  1  0  0  1  1  0  1   93.0       1 arra...    True\n",
      "716   0  0  1  1  0  0  1  1  0  1   93.0       1 arra...    True\n",
      "803   1  1  0  0  0  1  0  0  1  1   93.0       1 arra...    True\n",
      "806   1  0  1  0  0  1  0  0  1  1   93.0       1 arra...    True\n",
      "809   0  1  0  1  0  1  0  0  1  1   93.0       1 arra...    True\n",
      "810   1  0  0  1  0  1  0  0  1  1   93.0       1 arra...    True\n",
      "812   0  0  1  1  0  1  0  0  1  1   93.0       1 arra...    True\n",
      "899   1  1  0  0  0  0  0  1  1  1   93.0       1 arra...    True\n",
      "906   1  0  0  1  0  0  0  1  1  1   93.0       1 arra...    True\n",
      "992   0  0  0  0  0  1  1  1  1  1   93.0       1 arra...    True\n",
      "238   1  0  1  1  0  1  1  1  0  0   94.0       1 arra...    True\n",
      "423   1  1  1  0  0  1  0  1  1  0   94.0       1 arra...    True\n",
      "430   1  0  1  1  0  1  0  1  1  0   94.0       1 arra...    True\n",
      "483   1  1  0  0  0  1  1  1  1  0   94.0       1 arra...    True\n",
      "485   0  1  1  0  0  1  1  1  1  0   94.0       1 arra...    True\n",
      "490   1  0  0  1  0  1  1  1  1  0   94.0       1 arra...    True\n",
      "685   0  1  1  1  0  1  0  1  0  1   94.0       1 arra...    True\n",
      "686   1  0  1  1  0  1  0  1  0  1   94.0       1 arra...    True\n",
      "741   0  1  1  0  0  1  1  1  0  1   94.0       1 arra...    True\n",
      "748   0  0  1  1  0  1  1  1  0  1   94.0       1 arra...    True\n",
      "19    1  1  0  0  1  0  0  0  0  0  102.0       1 arra...    True\n",
      "81    0  1  0  0  1  0  1  0  0  0  102.0       1 arra...    True\n",
      "88    0  0  0  1  1  0  1  0  0  0  102.0       1 arra...    True\n",
      "336   0  0  0  0  1  0  1  0  1  0  102.0       1 arra...    True\n",
      "58    1  0  0  1  1  1  0  0  0  0  103.0       1 arra...    True\n",
      "150   1  0  1  0  1  0  0  1  0  0  103.0       1 arra...    True\n",
      "153   0  1  0  1  1  0  0  1  0  0  103.0       1 arra...    True\n",
      "154   1  0  0  1  1  0  0  1  0  0  103.0       1 arra...    True\n",
      "212   0  0  1  0  1  0  1  1  0  0  103.0       1 arra...    True\n",
      "263   1  1  1  0  0  0  0  0  1  0  103.0       1 arra...    True\n",
      "267   1  1  0  1  0  0  0  0  1  0  103.0       1 arra...    True\n",
      "270   1  0  1  1  0  0  0  0  1  0  103.0       1 arra...    True\n",
      "277   0  1  1  0  1  0  0  0  1  0  103.0       1 arra...    True\n",
      "323   1  1  0  0  0  0  1  0  1  0  103.0       1 arra...    True\n",
      "325   0  1  1  0  0  0  1  0  1  0  103.0       1 arra...    True\n",
      "326   1  0  1  0  0  0  1  0  1  0  103.0       1 arra...    True\n",
      "330   1  0  0  1  0  0  1  0  1  0  103.0       1 arra...    True\n",
      "408   0  0  0  1  1  0  0  1  1  0  103.0       1 arra...    True\n",
      "523   1  1  0  1  0  0  0  0  0  1  103.0       1 arra...    True\n",
      "526   1  0  1  1  0  0  0  0  0  1  103.0       1 arra...    True\n",
      "561   0  1  0  0  1  1  0  0  0  1  103.0       1 arra...    True\n",
      "568   0  0  0  1  1  1  0  0  0  1  103.0       1 arra...    True\n",
      "581   0  1  1  0  0  0  1  0  0  1  103.0       1 arra...    True\n",
      "585   0  1  0  1  0  0  1  0  0  1  103.0       1 arra...    True\n",
      "588   0  0  1  1  0  0  1  0  0  1  103.0       1 arra...    True\n",
      "610   1  0  0  0  0  1  1  0  0  1  103.0       1 arra...    True\n",
      "688   0  0  0  0  1  1  0  1  0  1  103.0       1 arra...    True\n",
      "771   1  1  0  0  0  0  0  0  1  1  103.0       1 arra...    True\n",
      "773   0  1  1  0  0  0  0  0  1  1  103.0       1 arra...    True\n",
      "777   0  1  0  1  0  0  0  0  1  1  103.0       1 arra...    True\n",
      "778   1  0  0  1  0  0  0  0  1  1  103.0       1 arra...    True\n",
      "864   0  0  0  0  0  1  1  0  1  1  103.0       1 arra...    True\n",
      "960   0  0  0  0  0  0  1  1  1  1  103.0       1 arra...    True\n",
      "182   1  0  1  0  1  1  0  1  0  0  104.0       1 arra...    True\n",
      "244   0  0  1  0  1  1  1  1  0  0  104.0       1 arra...    True\n",
      "295   1  1  1  0  0  1  0  0  1  0  104.0       1 arra...    True\n",
      "302   1  0  1  1  0  1  0  0  1  0  104.0       1 arra...    True\n",
      "309   0  1  1  0  1  1  0  0  1  0  104.0       1 arra...    True\n",
      "357   0  1  1  0  0  1  1  0  1  0  104.0       1 arra...    True\n",
      "358   1  0  1  0  0  1  1  0  1  0  104.0       1 arra...    True\n",
      "433   0  1  0  0  1  1  0  1  1  0  104.0       1 arra...    True\n",
      "434   1  0  0  0  1  1  0  1  1  0  104.0       1 arra...    True\n",
      "451   1  1  0  0  0  0  1  1  1  0  104.0       1 arra...    True\n",
      "454   1  0  1  0  0  0  1  1  1  0  104.0       1 arra...    True\n",
      "458   1  0  0  1  0  0  1  1  1  0  104.0       1 arra...    True\n",
      "558   1  0  1  1  0  1  0  0  0  1  104.0       1 arra...    True\n",
      "613   0  1  1  0  0  1  1  0  0  1  104.0       1 arra...    True\n",
      "620   0  0  1  1  0  1  1  0  0  1  104.0       1 arra...    True\n",
      "738   1  0  0  0  0  1  1  1  0  1  104.0       1 arra...    True\n",
      "805   0  1  1  0  0  1  0  0  1  1  104.0       1 arra...    True\n",
      "936   0  0  0  1  0  1  0  1  1  1  104.0       1 arra...    True\n",
      "486   1  0  1  0  0  1  1  1  1  0  105.0       1 arra...    True\n",
      "22    1  0  1  0  1  0  0  0  0  0  113.0       1 arra...    True\n",
      "26    1  0  0  1  1  0  0  0  0  0  113.0       1 arra...    True\n",
      "84    0  0  1  0  1  0  1  0  0  0  113.0       1 arra...    True\n",
      "529   0  1  0  0  1  0  0  0  0  1  113.0       1 arra...    True\n",
      "532   0  0  1  0  1  0  0  0  0  1  113.0       1 arra...    True\n",
      "536   0  0  0  1  1  0  0  0  0  1  113.0       1 arra...    True\n",
      "578   1  0  0  0  0  0  1  0  0  1  113.0       1 arra...    True\n",
      "656   0  0  0  0  1  0  0  1  0  1  113.0       1 arra...    True\n",
      "832   0  0  0  0  0  0  1  0  1  1  113.0       1 arra...    True\n",
      "54    1  0  1  0  1  1  0  0  0  0  114.0       1 arra...    True\n",
      "57    0  1  0  1  1  1  0  0  0  0  114.0       1 arra...    True\n",
      "99    1  1  0  0  0  1  1  0  0  0  114.0       1 arra...    True\n",
      "116   0  0  1  0  1  1  1  0  0  0  114.0       1 arra...    True\n",
      "149   0  1  1  0  1  0  0  1  0  0  114.0       1 arra...    True\n",
      "156   0  0  1  1  1  0  0  1  0  0  114.0       1 arra...    True\n",
      "240   0  0  0  0  1  1  1  1  0  0  114.0       1 arra...    True\n",
      "306   1  0  0  0  1  1  0  0  1  0  114.0       1 arra...    True\n",
      "312   0  0  0  1  1  1  0  0  1  0  114.0       1 arra...    True\n",
      "401   0  1  0  0  1  0  0  1  1  0  114.0       1 arra...    True\n",
      "402   1  0  0  0  1  0  0  1  1  0  114.0       1 arra...    True\n",
      "404   0  0  1  0  1  0  0  1  1  0  114.0       1 arra...    True\n",
      "525   0  1  1  1  0  0  0  0  0  1  114.0       1 arra...    True\n",
      "564   0  0  1  0  1  1  0  0  0  1  114.0       1 arra...    True\n",
      "706   1  0  0  0  0  0  1  1  0  1  114.0       1 arra...    True\n",
      "900   0  0  1  0  0  0  0  1  1  1  114.0       1 arra...    True\n",
      "904   0  0  0  1  0  0  0  1  1  1  114.0       1 arra...    True\n",
      "171   1  1  0  1  0  1  0  1  0  0  115.0       1 arra...    True\n",
      "181   0  1  1  0  1  1  0  1  0  0  115.0       1 arra...    True\n",
      "188   0  0  1  1  1  1  0  1  0  0  115.0       1 arra...    True\n",
      "227   1  1  0  0  0  1  1  1  0  0  115.0       1 arra...    True\n",
      "233   0  1  0  1  0  1  1  1  0  0  115.0       1 arra...    True\n",
      "425   0  1  0  1  0  1  0  1  1  0  115.0       1 arra...    True\n",
      "436   0  0  1  0  1  1  0  1  1  0  115.0       1 arra...    True\n",
      "488   0  0  0  1  0  1  1  1  1  0  115.0       1 arra...    True\n",
      "557   0  1  1  1  0  1  0  0  0  1  115.0       1 arra...    True\n",
      "675   1  1  0  0  0  1  0  1  0  1  115.0       1 arra...    True\n",
      "737   0  1  0  0  0  1  1  1  0  1  115.0       1 arra...    True\n",
      "744   0  0  0  1  0  1  1  1  0  1  115.0       1 arra...    True\n",
      "929   0  1  0  0  0  1  0  1  1  1  115.0       1 arra...    True\n",
      "930   1  0  0  0  0  1  0  1  1  1  115.0       1 arra...    True\n",
      "932   0  0  1  0  0  1  0  1  1  1  115.0       1 arra...    True\n",
      "25    0  1  0  1  1  0  0  0  0  0  124.0       1 arra...    True\n",
      "67    1  1  0  0  0  0  1  0  0  0  124.0       1 arra...    True\n",
      "112   0  0  0  0  1  1  1  0  0  0  124.0       1 arra...    True\n",
      "208   0  0  0  0  1  0  1  1  0  0  124.0       1 arra...    True\n",
      "274   1  0  0  0  1  0  0  0  1  0  124.0       1 arra...    True\n",
      "280   0  0  0  1  1  0  0  0  1  0  124.0       1 arra...    True\n",
      "560   0  0  0  0  1  1  0  0  0  1  124.0       1 arra...    True\n",
      "43    1  1  0  1  0  1  0  0  0  0  125.0       1 arra...    True\n",
      "105   0  1  0  1  0  1  1  0  0  0  125.0       1 arra...    True\n",
      "106   1  0  0  1  0  1  1  0  0  0  125.0       1 arra...    True\n",
      "135   1  1  1  0  0  0  0  1  0  0  125.0       1 arra...    True\n",
      "139   1  1  0  1  0  0  0  1  0  0  125.0       1 arra...    True\n",
      "141   0  1  1  1  0  0  0  1  0  0  125.0       1 arra...    True\n",
      "178   1  0  0  0  1  1  0  1  0  0  125.0       1 arra...    True\n",
      "195   1  1  0  0  0  0  1  1  0  0  125.0       1 arra...    True\n",
      "201   0  1  0  1  0  0  1  1  0  0  125.0       1 arra...    True\n",
      "305   0  1  0  0  1  1  0  0  1  0  125.0       1 arra...    True\n",
      "360   0  0  0  1  0  1  1  0  1  0  125.0       1 arra...    True\n",
      "393   0  1  0  1  0  0  0  1  1  0  125.0       1 arra...    True\n",
      "396   0  0  1  1  0  0  0  1  1  0  125.0       1 arra...    True\n",
      "456   0  0  0  1  0  0  1  1  1  0  125.0       1 arra...    True\n",
      "547   1  1  0  0  0  1  0  0  0  1  125.0       1 arra...    True\n",
      "609   0  1  0  0  0  1  1  0  0  1  125.0       1 arra...    True\n",
      "616   0  0  0  1  0  1  1  0  0  1  125.0       1 arra...    True\n",
      "643   1  1  0  0  0  0  0  1  0  1  125.0       1 arra...    True\n",
      "646   1  0  1  0  0  0  0  1  0  1  125.0       1 arra...    True\n",
      "705   0  1  0  0  0  0  1  1  0  1  125.0       1 arra...    True\n",
      "708   0  0  1  0  0  0  1  1  0  1  125.0       1 arra...    True\n",
      "712   0  0  0  1  0  0  1  1  0  1  125.0       1 arra...    True\n",
      "802   1  0  0  0  0  1  0  0  1  1  125.0       1 arra...    True\n",
      "808   0  0  0  1  0  1  0  0  1  1  125.0       1 arra...    True\n",
      "897   0  1  0  0  0  0  0  1  1  1  125.0       1 arra...    True\n",
      "898   1  0  0  0  0  0  0  1  1  1  125.0       1 arra...    True\n",
      "167   1  1  1  0  0  1  0  1  0  0  126.0       1 arra...    True\n",
      "173   0  1  1  1  0  1  0  1  0  0  126.0       1 arra...    True\n",
      "234   1  0  0  1  0  1  1  1  0  0  126.0       1 arra...    True\n",
      "428   0  0  1  1  0  1  0  1  1  0  126.0       1 arra...    True\n",
      "481   0  1  0  0  0  1  1  1  1  0  126.0       1 arra...    True\n",
      "678   1  0  1  0  0  1  0  1  0  1  126.0       1 arra...    True\n",
      "681   0  1  0  1  0  1  0  1  0  1  126.0       1 arra...    True\n",
      "682   1  0  0  1  0  1  0  1  0  1  126.0       1 arra...    True\n",
      "740   0  0  1  0  0  1  1  1  0  1  126.0       1 arra...    True\n",
      "80    0  0  0  0  1  0  1  0  0  0  134.0       1 arra...    True\n",
      "528   0  0  0  0  1  0  0  0  0  1  134.0       1 arra...    True\n",
      "7     1  1  1  0  0  0  0  0  0  0  135.0       1 arra...    True\n",
      "11    1  1  0  1  0  0  0  0  0  0  135.0       1 arra...    True\n",
      "21    0  1  1  0  1  0  0  0  0  0  135.0       1 arra...    True\n",
      "28    0  0  1  1  1  0  0  0  0  0  135.0       1 arra...    True\n",
      "50    1  0  0  0  1  1  0  0  0  0  135.0       1 arra...    True\n",
      "70    1  0  1  0  0  0  1  0  0  0  135.0       1 arra...    True\n",
      "73    0  1  0  1  0  0  1  0  0  0  135.0       1 arra...    True\n",
      "74    1  0  0  1  0  0  1  0  0  0  135.0       1 arra...    True\n",
      "146   1  0  0  0  1  0  0  1  0  0  135.0       1 arra...    True\n",
      "273   0  1  0  0  1  0  0  0  1  0  135.0       1 arra...    True\n",
      "276   0  0  1  0  1  0  0  0  1  0  135.0       1 arra...    True\n",
      "328   0  0  0  1  0  0  1  0  1  0  135.0       1 arra...    True\n",
      "515   1  1  0  0  0  0  0  0  0  1  135.0       1 arra...    True\n",
      "518   1  0  1  0  0  0  0  0  0  1  135.0       1 arra...    True\n",
      "577   0  1  0  0  0  0  1  0  0  1  135.0       1 arra...    True\n",
      "580   0  0  1  0  0  0  1  0  0  1  135.0       1 arra...    True\n",
      "584   0  0  0  1  0  0  1  0  0  1  135.0       1 arra...    True\n",
      "770   1  0  0  0  0  0  0  0  1  1  135.0       1 arra...    True\n",
      "772   0  0  1  0  0  0  0  0  1  1  135.0       1 arra...    True\n",
      "776   0  0  0  1  0  0  0  0  1  1  135.0       1 arra...    True\n",
      "39    1  1  1  0  0  1  0  0  0  0  136.0       1 arra...    True\n",
      "53    0  1  1  0  1  1  0  0  0  0  136.0       1 arra...    True\n",
      "60    0  0  1  1  1  1  0  0  0  0  136.0       1 arra...    True\n",
      "102   1  0  1  0  0  1  1  0  0  0  136.0       1 arra...    True\n",
      "142   1  0  1  1  0  0  0  1  0  0  136.0       1 arra...    True\n",
      "177   0  1  0  0  1  1  0  1  0  0  136.0       1 arra...    True\n",
      "184   0  0  0  1  1  1  0  1  0  0  136.0       1 arra...    True\n",
      "197   0  1  1  0  0  0  1  1  0  0  136.0       1 arra...    True\n",
      "198   1  0  1  0  0  0  1  1  0  0  136.0       1 arra...    True\n",
      "202   1  0  0  1  0  0  1  1  0  0  136.0       1 arra...    True\n",
      "204   0  0  1  1  0  0  1  1  0  0  136.0       1 arra...    True\n",
      "297   0  1  0  1  0  1  0  0  1  0  136.0       1 arra...    True\n",
      "308   0  0  1  0  1  1  0  0  1  0  136.0       1 arra...    True\n",
      "353   0  1  0  0  0  1  1  0  1  0  136.0       1 arra...    True\n",
      "354   1  0  0  0  0  1  1  0  1  0  136.0       1 arra...    True\n",
      "389   0  1  1  0  0  0  0  1  1  0  136.0       1 arra...    True\n",
      "432   0  0  0  0  1  1  0  1  1  0  136.0       1 arra...    True\n",
      "449   0  1  0  0  0  0  1  1  1  0  136.0       1 arra...    True\n",
      "452   0  0  1  0  0  0  1  1  1  0  136.0       1 arra...    True\n",
      "550   1  0  1  0  0  1  0  0  0  1  136.0       1 arra...    True\n",
      "554   1  0  0  1  0  1  0  0  0  1  136.0       1 arra...    True\n",
      "612   0  0  1  0  0  1  1  0  0  1  136.0       1 arra...    True\n",
      "645   0  1  1  0  0  0  0  1  0  1  136.0       1 arra...    True\n",
      "649   0  1  0  1  0  0  0  1  0  1  136.0       1 arra...    True\n",
      "650   1  0  0  1  0  0  0  1  0  1  136.0       1 arra...    True\n",
      "652   0  0  1  1  0  0  0  1  0  1  136.0       1 arra...    True\n",
      "801   0  1  0  0  0  1  0  0  1  1  136.0       1 arra...    True\n",
      "804   0  0  1  0  0  1  0  0  1  1  136.0       1 arra...    True\n",
      "174   1  0  1  1  0  1  0  1  0  0  137.0       1 arra...    True\n",
      "229   0  1  1  0  0  1  1  1  0  0  137.0       1 arra...    True\n",
      "230   1  0  1  0  0  1  1  1  0  0  137.0       1 arra...    True\n",
      "236   0  0  1  1  0  1  1  1  0  0  137.0       1 arra...    True\n",
      "419   1  1  0  0  0  1  0  1  1  0  137.0       1 arra...    True\n",
      "421   0  1  1  0  0  1  0  1  1  0  137.0       1 arra...    True\n",
      "426   1  0  0  1  0  1  0  1  1  0  137.0       1 arra...    True\n",
      "482   1  0  0  0  0  1  1  1  1  0  137.0       1 arra...    True\n",
      "484   0  0  1  0  0  1  1  1  1  0  137.0       1 arra...    True\n",
      "677   0  1  1  0  0  1  0  1  0  1  137.0       1 arra...    True\n",
      "684   0  0  1  1  0  1  0  1  0  1  137.0       1 arra...    True\n",
      "18    1  0  0  0  1  0  0  0  0  0  145.0       1 arra...    True\n",
      "13    0  1  1  1  0  0  0  0  0  0  146.0       1 arra...    True\n",
      "14    1  0  1  1  0  0  0  0  0  0  146.0       1 arra...    True\n",
      "69    0  1  1  0  0  0  1  0  0  0  146.0       1 arra...    True\n",
      "76    0  0  1  1  0  0  1  0  0  0  146.0       1 arra...    True\n",
      "145   0  1  0  0  1  0  0  1  0  0  146.0       1 arra...    True\n",
      "152   0  0  0  1  1  0  0  1  0  0  146.0       1 arra...    True\n",
      "265   0  1  0  1  0  0  0  0  1  0  146.0       1 arra...    True\n",
      "268   0  0  1  1  0  0  0  0  1  0  146.0       1 arra...    True\n",
      "321   0  1  0  0  0  0  1  0  1  0  146.0       1 arra...    True\n",
      "322   1  0  0  0  0  0  1  0  1  0  146.0       1 arra...    True\n",
      "324   0  0  1  0  0  0  1  0  1  0  146.0       1 arra...    True\n",
      "400   0  0  0  0  1  0  0  1  1  0  146.0       1 arra...    True\n",
      "522   1  0  0  1  0  0  0  0  0  1  146.0       1 arra...    True\n",
      "769   0  1  0  0  0  0  0  0  1  1  146.0       1 arra...    True\n",
      "45    0  1  1  1  0  1  0  0  0  0  147.0       1 arra...    True\n",
      "46    1  0  1  1  0  1  0  0  0  0  147.0       1 arra...    True\n",
      "101   0  1  1  0  0  1  1  0  0  0  147.0       1 arra...    True\n",
      "108   0  0  1  1  0  1  1  0  0  0  147.0       1 arra...    True\n",
      "291   1  1  0  0  0  1  0  0  1  0  147.0       1 arra...    True\n",
      "298   1  0  0  1  0  1  0  0  1  0  147.0       1 arra...    True\n",
      "300   0  0  1  1  0  1  0  0  1  0  147.0       1 arra...    True\n",
      "356   0  0  1  0  0  1  1  0  1  0  147.0       1 arra...    True\n",
      "387   1  1  0  0  0  0  0  1  1  0  147.0       1 arra...    True\n",
      "390   1  0  1  0  0  0  0  1  1  0  147.0       1 arra...    True\n",
      "394   1  0  0  1  0  0  0  1  1  0  147.0       1 arra...    True\n",
      "450   1  0  0  0  0  0  1  1  1  0  147.0       1 arra...    True\n",
      "553   0  1  0  1  0  1  0  0  0  1  147.0       1 arra...    True\n",
      "736   0  0  0  0  0  1  1  1  0  1  147.0       1 arra...    True\n",
      "928   0  0  0  0  0  1  0  1  1  1  147.0       1 arra...    True\n",
      "422   1  0  1  0  0  1  0  1  1  0  148.0       1 arra...    True\n",
      "49    0  1  0  0  1  1  0  0  0  0  157.0       1 arra...    True\n",
      "56    0  0  0  1  1  1  0  0  0  0  157.0       1 arra...    True\n",
      "148   0  0  1  0  1  0  0  1  0  0  157.0       1 arra...    True\n",
      "259   1  1  0  0  0  0  0  0  1  0  157.0       1 arra...    True\n",
      "261   0  1  1  0  0  0  0  0  1  0  157.0       1 arra...    True\n",
      "262   1  0  1  0  0  0  0  0  1  0  157.0       1 arra...    True\n",
      "266   1  0  0  1  0  0  0  0  1  0  157.0       1 arra...    True\n",
      "304   0  0  0  0  1  1  0  0  1  0  157.0       1 arra...    True\n",
      "517   0  1  1  0  0  0  0  0  0  1  157.0       1 arra...    True\n",
      "521   0  1  0  1  0  0  0  0  0  1  157.0       1 arra...    True\n",
      "524   0  0  1  1  0  0  0  0  0  1  157.0       1 arra...    True\n",
      "608   0  0  0  0  0  1  1  0  0  1  157.0       1 arra...    True\n",
      "704   0  0  0  0  0  0  1  1  0  1  157.0       1 arra...    True\n",
      "896   0  0  0  0  0  0  0  1  1  1  157.0       1 arra...    True\n",
      "180   0  0  1  0  1  1  0  1  0  0  158.0       1 arra...    True\n",
      "293   0  1  1  0  0  1  0  0  1  0  158.0       1 arra...    True\n",
      "294   1  0  1  0  0  1  0  0  1  0  158.0       1 arra...    True\n",
      "549   0  1  1  0  0  1  0  0  0  1  158.0       1 arra...    True\n",
      "556   0  0  1  1  0  1  0  0  0  1  158.0       1 arra...    True\n",
      "674   1  0  0  0  0  1  0  1  0  1  158.0       1 arra...    True\n",
      "17    0  1  0  0  1  0  0  0  0  0  167.0       1 arra...    True\n",
      "24    0  0  0  1  1  0  0  0  0  0  167.0       1 arra...    True\n",
      "272   0  0  0  0  1  0  0  0  1  0  167.0       1 arra...    True\n",
      "576   0  0  0  0  0  0  1  0  0  1  167.0       1 arra...    True\n",
      "98    1  0  0  0  0  1  1  0  0  0  168.0       1 arra...    True\n",
      "546   1  0  0  0  0  1  0  0  0  1  168.0       1 arra...    True\n",
      "642   1  0  0  0  0  0  0  1  0  1  168.0       1 arra...    True\n",
      "800   0  0  0  0  0  1  0  0  1  1  168.0       1 arra...    True\n",
      "163   1  1  0  0  0  1  0  1  0  0  169.0       1 arra...    True\n",
      "169   0  1  0  1  0  1  0  1  0  0  169.0       1 arra...    True\n",
      "225   0  1  0  0  0  1  1  1  0  0  169.0       1 arra...    True\n",
      "226   1  0  0  0  0  1  1  1  0  0  169.0       1 arra...    True\n",
      "232   0  0  0  1  0  1  1  1  0  0  169.0       1 arra...    True\n",
      "424   0  0  0  1  0  1  0  1  1  0  169.0       1 arra...    True\n",
      "480   0  0  0  0  0  1  1  1  1  0  169.0       1 arra...    True\n",
      "673   0  1  0  0  0  1  0  1  0  1  169.0       1 arra...    True\n",
      "680   0  0  0  1  0  1  0  1  0  1  169.0       1 arra...    True\n",
      "20    0  0  1  0  1  0  0  0  0  0  178.0       1 arra...    True\n",
      "66    1  0  0  0  0  0  1  0  0  0  178.0       1 arra...    True\n",
      "514   1  0  0  0  0  0  0  0  0  1  178.0       1 arra...    True\n",
      "768   0  0  0  0  0  0  0  0  1  1  178.0       1 arra...    True\n",
      "35    1  1  0  0  0  1  0  0  0  0  179.0       1 arra...    True\n",
      "52    0  0  1  0  1  1  0  0  0  0  179.0       1 arra...    True\n",
      "97    0  1  0  0  0  1  1  0  0  0  179.0       1 arra...    True\n",
      "104   0  0  0  1  0  1  1  0  0  0  179.0       1 arra...    True\n",
      "131   1  1  0  0  0  0  0  1  0  0  179.0       1 arra...    True\n",
      "137   0  1  0  1  0  0  0  1  0  0  179.0       1 arra...    True\n",
      "176   0  0  0  0  1  1  0  1  0  0  179.0       1 arra...    True\n",
      "193   0  1  0  0  0  0  1  1  0  0  179.0       1 arra...    True\n",
      "194   1  0  0  0  0  0  1  1  0  0  179.0       1 arra...    True\n",
      "200   0  0  0  1  0  0  1  1  0  0  179.0       1 arra...    True\n",
      "352   0  0  0  0  0  1  1  0  1  0  179.0       1 arra...    True\n",
      "392   0  0  0  1  0  0  0  1  1  0  179.0       1 arra...    True\n",
      "448   0  0  0  0  0  0  1  1  1  0  179.0       1 arra...    True\n",
      "641   0  1  0  0  0  0  0  1  0  1  179.0       1 arra...    True\n",
      "644   0  0  1  0  0  0  0  1  0  1  179.0       1 arra...    True\n",
      "648   0  0  0  1  0  0  0  1  0  1  179.0       1 arra...    True\n",
      "170   1  0  0  1  0  1  0  1  0  0  180.0       1 arra...    True\n",
      "417   0  1  0  0  0  1  0  1  1  0  180.0       1 arra...    True\n",
      "676   0  0  1  0  0  1  0  1  0  1  180.0       1 arra...    True\n",
      "3     1  1  0  0  0  0  0  0  0  0  189.0       1 arra...    True\n",
      "65    0  1  0  0  0  0  1  0  0  0  189.0       1 arra...    True\n",
      "72    0  0  0  1  0  0  1  0  0  0  189.0       1 arra...    True\n",
      "144   0  0  0  0  1  0  0  1  0  0  189.0       1 arra...    True\n",
      "320   0  0  0  0  0  0  1  0  1  0  189.0       1 arra...    True\n",
      "41    0  1  0  1  0  1  0  0  0  0  190.0       1 arra...    True\n",
      "42    1  0  0  1  0  1  0  0  0  0  190.0       1 arra...    True\n",
      "133   0  1  1  0  0  0  0  1  0  0  190.0       1 arra...    True\n",
      "134   1  0  1  0  0  0  0  1  0  0  190.0       1 arra...    True\n",
      "138   1  0  0  1  0  0  0  1  0  0  190.0       1 arra...    True\n",
      "140   0  0  1  1  0  0  0  1  0  0  190.0       1 arra...    True\n",
      "196   0  0  1  0  0  0  1  1  0  0  190.0       1 arra...    True\n",
      "296   0  0  0  1  0  1  0  0  1  0  190.0       1 arra...    True\n",
      "385   0  1  0  0  0  0  0  1  1  0  190.0       1 arra...    True\n",
      "388   0  0  1  0  0  0  0  1  1  0  190.0       1 arra...    True\n",
      "545   0  1  0  0  0  1  0  0  0  1  190.0       1 arra...    True\n",
      "552   0  0  0  1  0  1  0  0  0  1  190.0       1 arra...    True\n",
      "165   0  1  1  0  0  1  0  1  0  0  191.0       1 arra...    True\n",
      "166   1  0  1  0  0  1  0  1  0  0  191.0       1 arra...    True\n",
      "172   0  0  1  1  0  1  0  1  0  0  191.0       1 arra...    True\n",
      "228   0  0  1  0  0  1  1  1  0  0  191.0       1 arra...    True\n",
      "418   1  0  0  0  0  1  0  1  1  0  191.0       1 arra...    True\n",
      "420   0  0  1  0  0  1  0  1  1  0  191.0       1 arra...    True\n",
      "6     1  0  1  0  0  0  0  0  0  0  200.0       1 arra...    True\n",
      "9     0  1  0  1  0  0  0  0  0  0  200.0       1 arra...    True\n",
      "10    1  0  0  1  0  0  0  0  0  0  200.0       1 arra...    True\n",
      "48    0  0  0  0  1  1  0  0  0  0  200.0       1 arra...    True\n",
      "68    0  0  1  0  0  0  1  0  0  0  200.0       1 arra...    True\n",
      "264   0  0  0  1  0  0  0  0  1  0  200.0       1 arra...    True\n",
      "513   0  1  0  0  0  0  0  0  0  1  200.0       1 arra...    True\n",
      "516   0  0  1  0  0  0  0  0  0  1  200.0       1 arra...    True\n",
      "520   0  0  0  1  0  0  0  0  0  1  200.0       1 arra...    True\n",
      "38    1  0  1  0  0  1  0  0  0  0  201.0       1 arra...    True\n",
      "100   0  0  1  0  0  1  1  0  0  0  201.0       1 arra...    True\n",
      "289   0  1  0  0  0  1  0  0  1  0  201.0       1 arra...    True\n",
      "290   1  0  0  0  0  1  0  0  1  0  201.0       1 arra...    True\n",
      "386   1  0  0  0  0  0  0  1  1  0  201.0       1 arra...    True\n",
      "548   0  0  1  0  0  1  0  0  0  1  201.0       1 arra...    True\n",
      "16    0  0  0  0  1  0  0  0  0  0  210.0       1 arra...    True\n",
      "5     0  1  1  0  0  0  0  0  0  0  211.0       1 arra...    True\n",
      "12    0  0  1  1  0  0  0  0  0  0  211.0       1 arra...    True\n",
      "257   0  1  0  0  0  0  0  0  1  0  211.0       1 arra...    True\n",
      "258   1  0  0  0  0  0  0  0  1  0  211.0       1 arra...    True\n",
      "260   0  0  1  0  0  0  0  0  1  0  211.0       1 arra...    True\n",
      "37    0  1  1  0  0  1  0  0  0  0  212.0       1 arra...    True\n",
      "44    0  0  1  1  0  1  0  0  0  0  212.0       1 arra...    True\n",
      "292   0  0  1  0  0  1  0  0  1  0  212.0       1 arra...    True\n",
      "672   0  0  0  0  0  1  0  1  0  1  212.0       1 arra...    True\n",
      "640   0  0  0  0  0  0  0  1  0  1  222.0       1 arra...    True\n",
      "224   0  0  0  0  0  1  1  1  0  0  223.0       1 arra...    True\n",
      "96    0  0  0  0  0  1  1  0  0  0  233.0       1 arra...    True\n",
      "192   0  0  0  0  0  0  1  1  0  0  233.0       1 arra...    True\n",
      "544   0  0  0  0  0  1  0  0  0  1  233.0       1 arra...    True\n",
      "161   0  1  0  0  0  1  0  1  0  0  234.0       1 arra...    True\n",
      "162   1  0  0  0  0  1  0  1  0  0  234.0       1 arra...    True\n",
      "168   0  0  0  1  0  1  0  1  0  0  234.0       1 arra...    True\n",
      "416   0  0  0  0  0  1  0  1  1  0  234.0       1 arra...    True\n",
      "64    0  0  0  0  0  0  1  0  0  0  243.0       1 arra...    True\n",
      "512   0  0  0  0  0  0  0  0  0  1  243.0       1 arra...    True\n",
      "34    1  0  0  0  0  1  0  0  0  0  244.0       1 arra...    True\n",
      "129   0  1  0  0  0  0  0  1  0  0  244.0       1 arra...    True\n",
      "130   1  0  0  0  0  0  0  1  0  0  244.0       1 arra...    True\n",
      "136   0  0  0  1  0  0  0  1  0  0  244.0       1 arra...    True\n",
      "384   0  0  0  0  0  0  0  1  1  0  244.0       1 arra...    True\n",
      "2     1  0  0  0  0  0  0  0  0  0  254.0       1 arra...    True\n",
      "33    0  1  0  0  0  1  0  0  0  0  255.0       1 arra...    True\n",
      "40    0  0  0  1  0  1  0  0  0  0  255.0       1 arra...    True\n",
      "132   0  0  1  0  0  0  0  1  0  0  255.0       1 arra...    True\n",
      "288   0  0  0  0  0  1  0  0  1  0  255.0       1 arra...    True\n",
      "164   0  0  1  0  0  1  0  1  0  0  256.0       1 arra...    True\n",
      "1     0  1  0  0  0  0  0  0  0  0  265.0       1 arra...    True\n",
      "8     0  0  0  1  0  0  0  0  0  0  265.0       1 arra...    True\n",
      "256   0  0  0  0  0  0  0  0  1  0  265.0       1 arra...    True\n",
      "4     0  0  1  0  0  0  0  0  0  0  276.0       1 arra...    True\n",
      "36    0  0  1  0  0  1  0  0  0  0  277.0       1 arra...    True\n",
      "160   0  0  0  0  0  1  0  1  0  0  299.0       1 arra...    True\n",
      "128   0  0  0  0  0  0  0  1  0  0  309.0       1 arra...    True\n",
      "32    0  0  0  0  0  1  0  0  0  0  320.0       1 arra...    True\n",
      "0     0  0  0  0  0  0  0  0  0  0  330.0       1 arra...    True\n",
      "['INTEGER', 1024 rows, 1024 samples, 10 variables]\n"
     ]
    }
   ],
   "source": [
    "solver = dimod.ExactCQMSolver()\n",
    "solution = solver.sample_cqm(blp)\n",
    "print(\"The list of assignments is\")\n",
    "print(solution)"
   ]
  },
  {
   "cell_type": "markdown",
   "id": "254e5c56-2035-45d5-9c86-c1380b2b9c16",
   "metadata": {},
   "source": [
    "#### Solve (in a D-Wave computer)"
   ]
  },
  {
   "cell_type": "code",
   "execution_count": 58,
   "id": "fb18b182-a3e2-4474-9b18-e505e9557e5f",
   "metadata": {},
   "outputs": [
    {
     "name": "stdout",
     "output_type": "stream",
     "text": [
      "BinaryQuadraticModel({'x0': -76.0, 'x1': -65.0, 'x2': -54.0, 'x3': -65.0, 'x4': -120.0, 'x5': -10.0, 'x6': -87.0, 'x7': -21.0, 'x8': -65.0, 'x9': -87.0}, {('x3', 'x0'): 11.0, ('x4', 'x0'): 11.0, ('x4', 'x1'): 22.0, ('x4', 'x2'): 22.0, ('x4', 'x3'): 22.0, ('x5', 'x2'): 11.0, ('x6', 'x0'): 11.0, ('x6', 'x1'): 11.0, ('x6', 'x2'): 11.0, ('x6', 'x3'): 11.0, ('x6', 'x4'): 11.0, ('x7', 'x0'): 11.0, ('x7', 'x6'): 11.0, ('x8', 'x0'): 22.0, ('x8', 'x1'): 11.0, ('x8', 'x4'): 22.0, ('x8', 'x6'): 11.0, ('x9', 'x0'): 11.0, ('x9', 'x1'): 22.0, ('x9', 'x2'): 11.0, ('x9', 'x3'): 22.0, ('x9', 'x4'): 11.0, ('x9', 'x6'): 11.0}, 330.0, 'BINARY')\n"
     ]
    }
   ],
   "source": [
    "qubo, invert = dimod.cqm_to_bqm(blp)\n",
    "print(qubo)"
   ]
  },
  {
   "cell_type": "code",
   "execution_count": 61,
   "id": "1856819b-4d75-4298-8d45-8bd2d320f373",
   "metadata": {},
   "outputs": [
    {
     "name": "stdout",
     "output_type": "stream",
     "text": [
      "The solutions that we have obtained are\n",
      "  x0 x1 x2 x3 x4 x5 x6 x7 x8 x9 energy num_oc. chain_.\n",
      "0  0  0  0  1  1  1  1  1  1  1    7.0       1     0.0\n",
      "1  1  1  1  1  1  0  1  0  0  1    7.0       1     0.0\n",
      "2  1  1  0  0  1  1  1  0  1  1    7.0       1     0.0\n",
      "3  1  1  0  1  1  1  1  0  1  1    8.0       1     0.0\n",
      "4  0  1  0  1  1  1  1  1  1  1    8.0       1     0.0\n",
      "5  1  1  1  1  1  1  1  0  0  1    8.0       1     0.0\n",
      "6  1  1  1  0  1  1  1  1  0  1    8.0       1     0.0\n",
      "7  1  1  1  1  1  1  1  1  0  0    8.0       1     0.0\n",
      "8  1  1  1  1  1  0  1  1  0  1    8.0       1     0.0\n",
      "9  0  0  0  0  1  1  1  1  1  1   17.0       1     0.0\n",
      "['BINARY', 10 rows, 10 samples, 10 variables]\n"
     ]
    }
   ],
   "source": [
    "sampler = EmbeddingComposite(DWaveSampler())\n",
    "solution = sampler.sample(qubo, num_reads=10)\n",
    "print(\"The solutions that we have obtained are\")\n",
    "print(solution)"
   ]
  },
  {
   "cell_type": "code",
   "execution_count": null,
   "id": "81eabb0b-95e9-4df2-bab7-78abc2f79573",
   "metadata": {},
   "outputs": [],
   "source": []
  }
 ],
 "metadata": {
  "kernelspec": {
   "display_name": "Python 3 (ipykernel)",
   "language": "python",
   "name": "python3"
  },
  "language_info": {
   "codemirror_mode": {
    "name": "ipython",
    "version": 3
   },
   "file_extension": ".py",
   "mimetype": "text/x-python",
   "name": "python",
   "nbconvert_exporter": "python",
   "pygments_lexer": "ipython3",
   "version": "3.12.2"
  }
 },
 "nbformat": 4,
 "nbformat_minor": 5
}
